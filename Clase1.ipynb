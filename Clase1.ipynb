{
 "cells": [
  {
   "cell_type": "code",
   "execution_count": null,
   "metadata": {},
   "outputs": [],
   "source": [
    "Revisemos la versión de pandas"
   ]
  },
  {
   "cell_type": "code",
   "execution_count": 71,
   "metadata": {},
   "outputs": [
    {
     "name": "stdout",
     "output_type": "stream",
     "text": [
      "2.2.2\n"
     ]
    }
   ],
   "source": [
    "print(pd.__version__)\n"
   ]
  },
  {
   "cell_type": "markdown",
   "metadata": {},
   "source": []
  },
  {
   "cell_type": "markdown",
   "metadata": {},
   "source": [
    "# Fundamentos del lenguaje"
   ]
  },
  {
   "cell_type": "code",
   "execution_count": null,
   "metadata": {},
   "outputs": [],
   "source": [
    "## Dicionarios"
   ]
  },
  {
   "cell_type": "code",
   "execution_count": 88,
   "metadata": {},
   "outputs": [],
   "source": [
    "persona = {\n",
    "    \"nombre\": \"Juan\",\n",
    "    \"edad\": 30,\n",
    "    \"ciudad\": \"Bogotá\"\n",
    "}"
   ]
  },
  {
   "cell_type": "code",
   "execution_count": 89,
   "metadata": {},
   "outputs": [
    {
     "name": "stdout",
     "output_type": "stream",
     "text": [
      "Juan\n",
      "30\n"
     ]
    }
   ],
   "source": [
    "print(persona[\"nombre\"])  \n",
    "print(persona.get(\"edad\"))"
   ]
  },
  {
   "cell_type": "code",
   "execution_count": 92,
   "metadata": {},
   "outputs": [
    {
     "name": "stdout",
     "output_type": "stream",
     "text": [
      "No tiene equipo\n"
     ]
    }
   ],
   "source": [
    "print(persona.get(\"equipo_futbol\", \"No tiene equipo\"))\n",
    "#print(persona.get(\"equipo_futbol\"))"
   ]
  },
  {
   "cell_type": "code",
   "execution_count": 93,
   "metadata": {},
   "outputs": [
    {
     "name": "stdout",
     "output_type": "stream",
     "text": [
      "{'nombre': 'Juan', 'edad': 31, 'ciudad': 'Bogotá', 'profesion': 'Ingeniero'}\n"
     ]
    }
   ],
   "source": [
    "persona[\"profesion\"] = \"Ingeniero\"  # Agregar nueva clave-valor\n",
    "persona[\"edad\"] = 31  # Modificar valor existente\n",
    "\n",
    "print(persona)\n",
    "# {'nombre': 'Juan', 'edad': 31, 'ciudad': 'Bogotá', 'profesion': 'Ingeniero'}\n"
   ]
  },
  {
   "cell_type": "code",
   "execution_count": null,
   "metadata": {},
   "outputs": [
    {
     "name": "stdout",
     "output_type": "stream",
     "text": [
      "{'nombre': 'Juan', 'edad': 31, 'profesion': 'Ingeniero'}\n"
     ]
    }
   ],
   "source": [
    "del persona[\"ciudad\"]  # Elimina una clave específica\n",
    "print(persona)  # {'nombre': 'Juan', 'edad': 31, 'profesion': 'Ingeniero'}"
   ]
  },
  {
   "cell_type": "code",
   "execution_count": null,
   "metadata": {},
   "outputs": [
    {
     "name": "stdout",
     "output_type": "stream",
     "text": [
      "31\n"
     ]
    }
   ],
   "source": [
    "edad = persona.pop(\"edad\")  # Extrae el valor y lo elimina\n",
    "print(edad)  #  31\n",
    "#print(persona)  # {'nombre': 'Juan', 'profesion': 'Ingeniero'}\n"
   ]
  },
  {
   "cell_type": "code",
   "execution_count": 96,
   "metadata": {},
   "outputs": [
    {
     "data": {
      "text/plain": [
       "{'nombre': 'Juan', 'profesion': 'Ingeniero'}"
      ]
     },
     "execution_count": null,
     "metadata": {},
     "output_type": "execute_result"
    }
   ],
   "source": [
    "persona"
   ]
  },
  {
   "cell_type": "code",
   "execution_count": 97,
   "metadata": {},
   "outputs": [
    {
     "name": "stdout",
     "output_type": "stream",
     "text": [
      "nombre\n",
      "profesion\n"
     ]
    }
   ],
   "source": [
    "for clave in persona:\n",
    "    print(clave)"
   ]
  },
  {
   "cell_type": "code",
   "execution_count": 98,
   "metadata": {},
   "outputs": [
    {
     "name": "stdout",
     "output_type": "stream",
     "text": [
      "Juan\n",
      "Ingeniero\n"
     ]
    }
   ],
   "source": [
    "for valor in persona.values():\n",
    "    print(valor)"
   ]
  },
  {
   "cell_type": "code",
   "execution_count": 99,
   "metadata": {},
   "outputs": [
    {
     "name": "stdout",
     "output_type": "stream",
     "text": [
      "nombre: Juan\n",
      "profesion: Ingeniero\n"
     ]
    }
   ],
   "source": [
    "for clave, valor in persona.items():\n",
    "    print(f\"{clave}: {valor}\")"
   ]
  },
  {
   "cell_type": "code",
   "execution_count": 100,
   "metadata": {},
   "outputs": [
    {
     "name": "stdout",
     "output_type": "stream",
     "text": [
      "{'JuanJuan': 'nombre', 'IngenieroIngeniero': 'profesion'}\n"
     ]
    }
   ],
   "source": [
    "persona_invertida = {valor + valor: clave for clave, valor in persona.items()}\n",
    "print(persona_invertida)  "
   ]
  },
  {
   "cell_type": "code",
   "execution_count": null,
   "metadata": {},
   "outputs": [
    {
     "data": {
      "text/plain": [
       "{'nombre': 4, 'profesion': 9}"
      ]
     },
     "execution_count": null,
     "metadata": {},
     "output_type": "execute_result"
    }
   ],
   "source": [
    "# Número de letras\n",
    "long_personas = {clave: len(valor) for clave, valor in persona.items()}\n",
    "long_personas"
   ]
  },
  {
   "cell_type": "code",
   "execution_count": null,
   "metadata": {},
   "outputs": [],
   "source": []
  },
  {
   "cell_type": "markdown",
   "metadata": {},
   "source": [
    "Manejo de fechas"
   ]
  },
  {
   "cell_type": "code",
   "execution_count": 23,
   "metadata": {},
   "outputs": [
    {
     "name": "stdout",
     "output_type": "stream",
     "text": [
      "2024-01-14\n",
      "2024-01-14\n"
     ]
    }
   ],
   "source": [
    "from datetime import datetime, date, timedelta\n",
    "fecha1 = date(2024, 1, 14)\n",
    "fecha2 = datetime.strptime(\"14-01-2024\", \"%d-%m-%Y\").date() \n",
    "print(fecha1)\n",
    "print(fecha2)\n"
   ]
  },
  {
   "cell_type": "code",
   "execution_count": 24,
   "metadata": {},
   "outputs": [
    {
     "data": {
      "text/plain": [
       "datetime.date(2025, 1, 8)"
      ]
     },
     "execution_count": null,
     "metadata": {},
     "output_type": "execute_result"
    }
   ],
   "source": [
    "fecha1  + timedelta(days=30*12)"
   ]
  },
  {
   "cell_type": "markdown",
   "metadata": {},
   "source": [
    "# Fecha y hora"
   ]
  },
  {
   "cell_type": "code",
   "execution_count": 33,
   "metadata": {},
   "outputs": [
    {
     "name": "stdout",
     "output_type": "stream",
     "text": [
      "2024-01-14 17:45:00-05:00\n"
     ]
    }
   ],
   "source": [
    "from datetime import datetime\n",
    "import pytz\n",
    "\n",
    "bogota_tz = pytz.timezone(\"America/Bogota\")\n",
    "fecha_hora = datetime(2024, 1, 14, 17, 45)  # Crear sin zona horaria\n",
    "fecha_hora_bogota = bogota_tz.localize(fecha_hora)  # Asignar correctamente\n",
    "\n",
    "print(fecha_hora_bogota)  # 2024-01-14 17:45:00-05:00 ✅"
   ]
  },
  {
   "cell_type": "code",
   "execution_count": null,
   "metadata": {},
   "outputs": [],
   "source": []
  },
  {
   "cell_type": "markdown",
   "metadata": {},
   "source": [
    "# Análisis de datos"
   ]
  },
  {
   "cell_type": "code",
   "execution_count": 87,
   "metadata": {},
   "outputs": [],
   "source": [
    "\n",
    "import numpy as np\n",
    "import pandas as pd\n"
   ]
  },
  {
   "cell_type": "markdown",
   "metadata": {},
   "source": [
    "    Algunas de las variables, tenures: número de meses que ha tenido el servicio"
   ]
  },
  {
   "cell_type": "code",
   "execution_count": 34,
   "metadata": {},
   "outputs": [],
   "source": [
    "df = pd.read_csv(\"WA_Fn-UseC_-Telco-Customer-Churn.csv\")"
   ]
  },
  {
   "cell_type": "code",
   "execution_count": 35,
   "metadata": {},
   "outputs": [],
   "source": [
    "df['TotalCharges'] = pd.to_numeric(df['TotalCharges'], errors='coerce')  # Coerce invalid values to NaN\n"
   ]
  },
  {
   "cell_type": "markdown",
   "metadata": {},
   "source": [
    "# Recodificación en percentiles (cuartiles, deciles, etc):"
   ]
  },
  {
   "cell_type": "markdown",
   "metadata": {},
   "source": [
    "Para efectos de visualización puede ser muy interesante evaluar si existe una relación entre la deserción y la permanencia, para eso crearemos una variable recategorizada, creamos 4 clases:\n",
    "- min - P25\n",
    "- p25 - p50\n",
    "- p50 - p75\n",
    "- p75 max"
   ]
  },
  {
   "cell_type": "markdown",
   "metadata": {},
   "source": []
  },
  {
   "cell_type": "markdown",
   "metadata": {},
   "source": []
  },
  {
   "cell_type": "markdown",
   "metadata": {},
   "source": []
  },
  {
   "cell_type": "markdown",
   "metadata": {},
   "source": []
  },
  {
   "cell_type": "code",
   "execution_count": null,
   "metadata": {},
   "outputs": [
    {
     "data": {
      "text/plain": [
       "array([nan, nan, nan, nan, nan])"
      ]
     },
     "execution_count": null,
     "metadata": {},
     "output_type": "execute_result"
    }
   ],
   "source": [
    "bins = np.quantile(df['TotalCharges'], np.linspace(0, 1, 5))\n",
    "print(bins)"
   ]
  },
  {
   "cell_type": "markdown",
   "metadata": {},
   "source": [
    "¿Por que pasa lo anterior?, por que hay 11 valores faltantes:"
   ]
  },
  {
   "cell_type": "code",
   "execution_count": 48,
   "metadata": {},
   "outputs": [
    {
     "data": {
      "text/plain": [
       "11"
      ]
     },
     "execution_count": null,
     "metadata": {},
     "output_type": "execute_result"
    }
   ],
   "source": [
    "df['TotalCharges'].isna().sum()"
   ]
  },
  {
   "cell_type": "code",
   "execution_count": 47,
   "metadata": {},
   "outputs": [
    {
     "name": "stdout",
     "output_type": "stream",
     "text": [
      "[  18.8     401.45   1397.475  3794.7375 8684.8   ]\n"
     ]
    }
   ],
   "source": [
    "bins = np.quantile(df['TotalCharges'].dropna(), np.linspace(0, 1, 5))\n",
    "print(bins)"
   ]
  },
  {
   "cell_type": "code",
   "execution_count": 50,
   "metadata": {},
   "outputs": [
    {
     "name": "stdout",
     "output_type": "stream",
     "text": [
      "TotalChargesR\n",
      "1    1758\n",
      "2    1758\n",
      "3    1758\n",
      "4    1757\n",
      "Name: count, dtype: int64\n"
     ]
    }
   ],
   "source": [
    "# Compute quantile-based bins\n",
    "\n",
    "df['TotalChargesR'] = pd.cut(df['TotalCharges'] , bins=bins, labels=[1, 2, 3, 4], \n",
    "include_lowest=True, right=False)\n",
    "# Verificamos la cantidad:\n",
    "print(df['TotalChargesR'].value_counts())"
   ]
  },
  {
   "cell_type": "code",
   "execution_count": 54,
   "metadata": {},
   "outputs": [
    {
     "name": "stderr",
     "output_type": "stream",
     "text": [
      "<positron-console-cell-54>:1: FutureWarning: The default of observed=False is deprecated and will be changed to True in a future version of pandas. Pass observed=False to retain current behavior or observed=True to adopt the future default and silence this warning.\n"
     ]
    },
    {
     "data": {
      "text/html": [
       "<div>\n",
       "<style scoped>\n",
       "    .dataframe tbody tr th:only-of-type {\n",
       "        vertical-align: middle;\n",
       "    }\n",
       "\n",
       "    .dataframe tbody tr th {\n",
       "        vertical-align: top;\n",
       "    }\n",
       "\n",
       "    .dataframe thead th {\n",
       "        text-align: right;\n",
       "    }\n",
       "</style>\n",
       "<table border=\"1\" class=\"dataframe\">\n",
       "  <thead>\n",
       "    <tr style=\"text-align: right;\">\n",
       "      <th></th>\n",
       "      <th>TotalChargesR</th>\n",
       "      <th>Churn</th>\n",
       "    </tr>\n",
       "  </thead>\n",
       "  <tbody>\n",
       "    <tr>\n",
       "      <th>0</th>\n",
       "      <td>1</td>\n",
       "      <td>0.434585</td>\n",
       "    </tr>\n",
       "    <tr>\n",
       "      <th>1</th>\n",
       "      <td>2</td>\n",
       "      <td>0.253129</td>\n",
       "    </tr>\n",
       "    <tr>\n",
       "      <th>2</th>\n",
       "      <td>3</td>\n",
       "      <td>0.230375</td>\n",
       "    </tr>\n",
       "    <tr>\n",
       "      <th>3</th>\n",
       "      <td>4</td>\n",
       "      <td>0.144565</td>\n",
       "    </tr>\n",
       "  </tbody>\n",
       "</table>\n",
       "</div>"
      ],
      "text/plain": [
       "  TotalChargesR     Churn\n",
       "0             1  0.434585\n",
       "1             2  0.253129\n",
       "2             3  0.230375\n",
       "3             4  0.144565"
      ]
     },
     "execution_count": null,
     "metadata": {},
     "output_type": "execute_result"
    }
   ],
   "source": [
    "df.groupby('TotalChargesR')['Churn'].apply(lambda x: (x == 'Yes').mean()).reset_index()"
   ]
  },
  {
   "cell_type": "code",
   "execution_count": 64,
   "metadata": {},
   "outputs": [
    {
     "name": "stderr",
     "output_type": "stream",
     "text": [
      "<positron-console-cell-64>:2: FutureWarning: The default of observed=False is deprecated and will be changed to True in a future version of pandas. Pass observed=False to retain current behavior or observed=True to adopt the future default and silence this warning.\n"
     ]
    }
   ],
   "source": [
    "# Calcular proporción de desertores en cada cuartil\n",
    "df_summary = df.groupby('TotalChargesR')['Churn'].apply(lambda x: (x == 'Yes').mean()).reset_index()\n",
    "df_summary.columns = ['Quartile', 'ChurnRate']"
   ]
  },
  {
   "cell_type": "markdown",
   "metadata": {},
   "source": []
  },
  {
   "cell_type": "code",
   "execution_count": 61,
   "metadata": {},
   "outputs": [
    {
     "data": {
      "image/png": "[encoded data removed]",
      "text/plain": [
       "<Figure size 800x500 with 1 Axes>"
      ]
     },
     "metadata": {},
     "output_type": "display_data"
    }
   ],
   "source": [
    "import matplotlib.pyplot as plt\n",
    "import seaborn as sns\n",
    "import pandas as pd\n",
    "\n",
    "# Datos de ejemplo\n",
    "df_summary = pd.DataFrame({\n",
    "    'Quartile': ['Q1', 'Q2', 'Q3', 'Q4'],\n",
    "    'ChurnRate': [0.50, 0.75, 0.25, 0.40]\n",
    "})\n",
    "\n",
    "# Graficar\n",
    "plt.figure(figsize=(8, 5))\n",
    "\n",
    "# Gráfico de barras corregido\n",
    "sns.barplot(data=df_summary, x='Quartile', y='ChurnRate', hue='Quartile', palette='Blues', legend=False)\n",
    "\n",
    "# Línea de tendencia con plt.plot()\n",
    "x = range(len(df_summary))  # Índices de los cuartiles\n",
    "y = df_summary['ChurnRate']\n",
    "plt.plot(x, y, color='red', linestyle='dashed', marker='o', markersize=6)\n",
    "\n",
    "# Configuración del gráfico\n",
    "plt.title(\"Proporción de Desertores por Cuartil de TotalCharges\")\n",
    "plt.xlabel(\"Cuartil de TotalCharges\")\n",
    "plt.ylabel(\"Proporción de Desertores\")\n",
    "plt.ylim(0, 1)\n",
    "plt.xticks(x, df_summary['Quartile'])\n",
    "plt.show()\n"
   ]
  },
  {
   "cell_type": "code",
   "execution_count": 65,
   "metadata": {},
   "outputs": [
    {
     "name": "stdout",
     "output_type": "stream",
     "text": [
      "<class 'pandas.core.frame.DataFrame'>\n",
      "RangeIndex: 7043 entries, 0 to 7042\n",
      "Data columns (total 22 columns):\n",
      " #   Column            Non-Null Count  Dtype   \n",
      "---  ------            --------------  -----   \n",
      " 0   customerID        7043 non-null   object  \n",
      " 1   gender            7043 non-null   object  \n",
      " 2   SeniorCitizen     7043 non-null   int64   \n",
      " 3   Partner           7043 non-null   object  \n",
      " 4   Dependents        7043 non-null   object  \n",
      " 5   tenure            7043 non-null   int64   \n",
      " 6   PhoneService      7043 non-null   object  \n",
      " 7   MultipleLines     7043 non-null   object  \n",
      " 8   InternetService   7043 non-null   object  \n",
      " 9   OnlineSecurity    7043 non-null   object  \n",
      " 10  OnlineBackup      7043 non-null   object  \n",
      " 11  DeviceProtection  7043 non-null   object  \n",
      " 12  TechSupport       7043 non-null   object  \n",
      " 13  StreamingTV       7043 non-null   object  \n",
      " 14  StreamingMovies   7043 non-null   object  \n",
      " 15  Contract          7043 non-null   object  \n",
      " 16  PaperlessBilling  7043 non-null   object  \n",
      " 17  PaymentMethod     7043 non-null   object  \n",
      " 18  MonthlyCharges    7043 non-null   float64 \n",
      " 19  TotalCharges      7032 non-null   float64 \n",
      " 20  Churn             7043 non-null   object  \n",
      " 21  TotalChargesR     7031 non-null   category\n",
      "dtypes: category(1), float64(2), int64(2), object(17)\n",
      "memory usage: 1.1+ MB\n"
     ]
    }
   ],
   "source": [
    "# Análisis de datos\n",
    "df.info()"
   ]
  },
  {
   "cell_type": "code",
   "execution_count": 68,
   "metadata": {},
   "outputs": [
    {
     "data": {
      "text/plain": [
       "0       <class 'str'>\n",
       "1       <class 'str'>\n",
       "2       <class 'str'>\n",
       "3       <class 'str'>\n",
       "4       <class 'str'>\n",
       "            ...      \n",
       "7038    <class 'str'>\n",
       "7039    <class 'str'>\n",
       "7040    <class 'str'>\n",
       "7041    <class 'str'>\n",
       "7042    <class 'str'>\n",
       "Name: Churn, Length: 7043, dtype: object"
      ]
     },
     "execution_count": null,
     "metadata": {},
     "output_type": "execute_result"
    }
   ],
   "source": [
    "df['Churn'].apply(type)"
   ]
  },
  {
   "cell_type": "code",
   "execution_count": 69,
   "metadata": {},
   "outputs": [
    {
     "name": "stdout",
     "output_type": "stream",
     "text": [
      "\n",
      "Columna: customerID\n",
      "customerID\n",
      "<class 'str'>    7043\n",
      "Name: count, dtype: int64\n",
      "\n",
      "Columna: gender\n",
      "gender\n",
      "<class 'str'>    7043\n",
      "Name: count, dtype: int64\n",
      "\n",
      "Columna: SeniorCitizen\n",
      "SeniorCitizen\n",
      "<class 'int'>    7043\n",
      "Name: count, dtype: int64\n",
      "\n",
      "Columna: Partner\n",
      "Partner\n",
      "<class 'str'>    7043\n",
      "Name: count, dtype: int64\n",
      "\n",
      "Columna: Dependents\n",
      "Dependents\n",
      "<class 'str'>    7043\n",
      "Name: count, dtype: int64\n",
      "\n",
      "Columna: tenure\n",
      "tenure\n",
      "<class 'int'>    7043\n",
      "Name: count, dtype: int64\n",
      "\n",
      "Columna: PhoneService\n",
      "PhoneService\n",
      "<class 'str'>    7043\n",
      "Name: count, dtype: int64\n",
      "\n",
      "Columna: MultipleLines\n",
      "MultipleLines\n",
      "<class 'str'>    7043\n",
      "Name: count, dtype: int64\n",
      "\n",
      "Columna: InternetService\n",
      "InternetService\n",
      "<class 'str'>    7043\n",
      "Name: count, dtype: int64\n",
      "\n",
      "Columna: OnlineSecurity\n",
      "OnlineSecurity\n",
      "<class 'str'>    7043\n",
      "Name: count, dtype: int64\n",
      "\n",
      "Columna: OnlineBackup\n",
      "OnlineBackup\n",
      "<class 'str'>    7043\n",
      "Name: count, dtype: int64\n",
      "\n",
      "Columna: DeviceProtection\n",
      "DeviceProtection\n",
      "<class 'str'>    7043\n",
      "Name: count, dtype: int64\n",
      "\n",
      "Columna: TechSupport\n",
      "TechSupport\n",
      "<class 'str'>    7043\n",
      "Name: count, dtype: int64\n",
      "\n",
      "Columna: StreamingTV\n",
      "StreamingTV\n",
      "<class 'str'>    7043\n",
      "Name: count, dtype: int64\n",
      "\n",
      "Columna: StreamingMovies\n",
      "StreamingMovies\n",
      "<class 'str'>    7043\n",
      "Name: count, dtype: int64\n",
      "\n",
      "Columna: Contract\n",
      "Contract\n",
      "<class 'str'>    7043\n",
      "Name: count, dtype: int64\n",
      "\n",
      "Columna: PaperlessBilling\n",
      "PaperlessBilling\n",
      "<class 'str'>    7043\n",
      "Name: count, dtype: int64\n",
      "\n",
      "Columna: PaymentMethod\n",
      "PaymentMethod\n",
      "<class 'str'>    7043\n",
      "Name: count, dtype: int64\n",
      "\n",
      "Columna: MonthlyCharges\n",
      "MonthlyCharges\n",
      "<class 'float'>    7043\n",
      "Name: count, dtype: int64\n",
      "\n",
      "Columna: TotalCharges\n",
      "TotalCharges\n",
      "<class 'float'>    7043\n",
      "Name: count, dtype: int64\n",
      "\n",
      "Columna: Churn\n",
      "Churn\n",
      "<class 'str'>    7043\n",
      "Name: count, dtype: int64\n",
      "\n",
      "Columna: TotalChargesR\n",
      "TotalChargesR\n",
      "<class 'int'>    7031\n",
      "Name: count, dtype: int64\n"
     ]
    }
   ],
   "source": [
    "for col in df.columns:\n",
    "    print(f\"\\nColumna: {col}\")\n",
    "    print(df[col].apply(type).value_counts())"
   ]
  },
  {
   "cell_type": "markdown",
   "metadata": {},
   "source": [
    "Revisemos las columnas que tienen un faltante"
   ]
  },
  {
   "cell_type": "code",
   "execution_count": 70,
   "metadata": {},
   "outputs": [
    {
     "name": "stdout",
     "output_type": "stream",
     "text": [
      "Columna: customerID - Faltantes: 0\n",
      "Columna: gender - Faltantes: 0\n",
      "Columna: SeniorCitizen - Faltantes: 0\n",
      "Columna: Partner - Faltantes: 0\n",
      "Columna: Dependents - Faltantes: 0\n",
      "Columna: tenure - Faltantes: 0\n",
      "Columna: PhoneService - Faltantes: 0\n",
      "Columna: MultipleLines - Faltantes: 0\n",
      "Columna: InternetService - Faltantes: 0\n",
      "Columna: OnlineSecurity - Faltantes: 0\n",
      "Columna: OnlineBackup - Faltantes: 0\n",
      "Columna: DeviceProtection - Faltantes: 0\n",
      "Columna: TechSupport - Faltantes: 0\n",
      "Columna: StreamingTV - Faltantes: 0\n",
      "Columna: StreamingMovies - Faltantes: 0\n",
      "Columna: Contract - Faltantes: 0\n",
      "Columna: PaperlessBilling - Faltantes: 0\n",
      "Columna: PaymentMethod - Faltantes: 0\n",
      "Columna: MonthlyCharges - Faltantes: 0\n",
      "Columna: TotalCharges - Faltantes: 11\n",
      "Columna: Churn - Faltantes: 0\n",
      "Columna: TotalChargesR - Faltantes: 12\n"
     ]
    }
   ],
   "source": [
    "for col in df.columns:\n",
    "    print(f\"Columna: {col} - Faltantes: {df[col].isna().sum()}\")\n"
   ]
  },
  {
   "cell_type": "markdown",
   "metadata": {},
   "source": []
  },
  {
   "cell_type": "markdown",
   "metadata": {},
   "source": [
    "Analizamos las variables continuas:"
   ]
  },
  {
   "cell_type": "code",
   "execution_count": 74,
   "metadata": {},
   "outputs": [
    {
     "data": {
      "text/html": [
       "<div>\n",
       "<style scoped>\n",
       "    .dataframe tbody tr th:only-of-type {\n",
       "        vertical-align: middle;\n",
       "    }\n",
       "\n",
       "    .dataframe tbody tr th {\n",
       "        vertical-align: top;\n",
       "    }\n",
       "\n",
       "    .dataframe thead th {\n",
       "        text-align: right;\n",
       "    }\n",
       "</style>\n",
       "<table border=\"1\" class=\"dataframe\">\n",
       "  <thead>\n",
       "    <tr style=\"text-align: right;\">\n",
       "      <th></th>\n",
       "      <th>SeniorCitizen</th>\n",
       "      <th>tenure</th>\n",
       "      <th>MonthlyCharges</th>\n",
       "      <th>TotalCharges</th>\n",
       "    </tr>\n",
       "  </thead>\n",
       "  <tbody>\n",
       "    <tr>\n",
       "      <th>count</th>\n",
       "      <td>7043.000000</td>\n",
       "      <td>7043.000000</td>\n",
       "      <td>7043.000000</td>\n",
       "      <td>7032.000000</td>\n",
       "    </tr>\n",
       "    <tr>\n",
       "      <th>mean</th>\n",
       "      <td>0.162147</td>\n",
       "      <td>32.371149</td>\n",
       "      <td>64.761692</td>\n",
       "      <td>2283.300441</td>\n",
       "    </tr>\n",
       "    <tr>\n",
       "      <th>std</th>\n",
       "      <td>0.368612</td>\n",
       "      <td>24.559481</td>\n",
       "      <td>30.090047</td>\n",
       "      <td>2266.771362</td>\n",
       "    </tr>\n",
       "    <tr>\n",
       "      <th>min</th>\n",
       "      <td>0.000000</td>\n",
       "      <td>0.000000</td>\n",
       "      <td>18.250000</td>\n",
       "      <td>18.800000</td>\n",
       "    </tr>\n",
       "    <tr>\n",
       "      <th>25%</th>\n",
       "      <td>0.000000</td>\n",
       "      <td>9.000000</td>\n",
       "      <td>35.500000</td>\n",
       "      <td>401.450000</td>\n",
       "    </tr>\n",
       "    <tr>\n",
       "      <th>50%</th>\n",
       "      <td>0.000000</td>\n",
       "      <td>29.000000</td>\n",
       "      <td>70.350000</td>\n",
       "      <td>1397.475000</td>\n",
       "    </tr>\n",
       "    <tr>\n",
       "      <th>75%</th>\n",
       "      <td>0.000000</td>\n",
       "      <td>55.000000</td>\n",
       "      <td>89.850000</td>\n",
       "      <td>3794.737500</td>\n",
       "    </tr>\n",
       "    <tr>\n",
       "      <th>max</th>\n",
       "      <td>1.000000</td>\n",
       "      <td>72.000000</td>\n",
       "      <td>118.750000</td>\n",
       "      <td>8684.800000</td>\n",
       "    </tr>\n",
       "  </tbody>\n",
       "</table>\n",
       "</div>"
      ],
      "text/plain": [
       "       SeniorCitizen       tenure  MonthlyCharges  TotalCharges\n",
       "count    7043.000000  7043.000000     7043.000000   7032.000000\n",
       "mean        0.162147    32.371149       64.761692   2283.300441\n",
       "std         0.368612    24.559481       30.090047   2266.771362\n",
       "min         0.000000     0.000000       18.250000     18.800000\n",
       "25%         0.000000     9.000000       35.500000    401.450000\n",
       "50%         0.000000    29.000000       70.350000   1397.475000\n",
       "75%         0.000000    55.000000       89.850000   3794.737500\n",
       "max         1.000000    72.000000      118.750000   8684.800000"
      ]
     },
     "execution_count": null,
     "metadata": {},
     "output_type": "execute_result"
    }
   ],
   "source": [
    "df.describe()"
   ]
  },
  {
   "cell_type": "markdown",
   "metadata": {},
   "source": [
    "Sacar las variables categóricas:"
   ]
  },
  {
   "cell_type": "code",
   "execution_count": 76,
   "metadata": {},
   "outputs": [
    {
     "data": {
      "text/html": [
       "<div>\n",
       "<style scoped>\n",
       "    .dataframe tbody tr th:only-of-type {\n",
       "        vertical-align: middle;\n",
       "    }\n",
       "\n",
       "    .dataframe tbody tr th {\n",
       "        vertical-align: top;\n",
       "    }\n",
       "\n",
       "    .dataframe thead th {\n",
       "        text-align: right;\n",
       "    }\n",
       "</style>\n",
       "<table border=\"1\" class=\"dataframe\">\n",
       "  <thead>\n",
       "    <tr style=\"text-align: right;\">\n",
       "      <th></th>\n",
       "      <th>customerID</th>\n",
       "      <th>gender</th>\n",
       "      <th>Partner</th>\n",
       "      <th>Dependents</th>\n",
       "      <th>PhoneService</th>\n",
       "      <th>MultipleLines</th>\n",
       "      <th>InternetService</th>\n",
       "      <th>OnlineSecurity</th>\n",
       "      <th>OnlineBackup</th>\n",
       "      <th>DeviceProtection</th>\n",
       "      <th>TechSupport</th>\n",
       "      <th>StreamingTV</th>\n",
       "      <th>StreamingMovies</th>\n",
       "      <th>Contract</th>\n",
       "      <th>PaperlessBilling</th>\n",
       "      <th>PaymentMethod</th>\n",
       "      <th>Churn</th>\n",
       "    </tr>\n",
       "  </thead>\n",
       "  <tbody>\n",
       "    <tr>\n",
       "      <th>count</th>\n",
       "      <td>7043</td>\n",
       "      <td>7043</td>\n",
       "      <td>7043</td>\n",
       "      <td>7043</td>\n",
       "      <td>7043</td>\n",
       "      <td>7043</td>\n",
       "      <td>7043</td>\n",
       "      <td>7043</td>\n",
       "      <td>7043</td>\n",
       "      <td>7043</td>\n",
       "      <td>7043</td>\n",
       "      <td>7043</td>\n",
       "      <td>7043</td>\n",
       "      <td>7043</td>\n",
       "      <td>7043</td>\n",
       "      <td>7043</td>\n",
       "      <td>7043</td>\n",
       "    </tr>\n",
       "    <tr>\n",
       "      <th>unique</th>\n",
       "      <td>7043</td>\n",
       "      <td>2</td>\n",
       "      <td>2</td>\n",
       "      <td>2</td>\n",
       "      <td>2</td>\n",
       "      <td>3</td>\n",
       "      <td>3</td>\n",
       "      <td>3</td>\n",
       "      <td>3</td>\n",
       "      <td>3</td>\n",
       "      <td>3</td>\n",
       "      <td>3</td>\n",
       "      <td>3</td>\n",
       "      <td>3</td>\n",
       "      <td>2</td>\n",
       "      <td>4</td>\n",
       "      <td>2</td>\n",
       "    </tr>\n",
       "    <tr>\n",
       "      <th>top</th>\n",
       "      <td>7590-VHVEG</td>\n",
       "      <td>Male</td>\n",
       "      <td>No</td>\n",
       "      <td>No</td>\n",
       "      <td>Yes</td>\n",
       "      <td>No</td>\n",
       "      <td>Fiber optic</td>\n",
       "      <td>No</td>\n",
       "      <td>No</td>\n",
       "      <td>No</td>\n",
       "      <td>No</td>\n",
       "      <td>No</td>\n",
       "      <td>No</td>\n",
       "      <td>Month-to-month</td>\n",
       "      <td>Yes</td>\n",
       "      <td>Electronic check</td>\n",
       "      <td>No</td>\n",
       "    </tr>\n",
       "    <tr>\n",
       "      <th>freq</th>\n",
       "      <td>1</td>\n",
       "      <td>3555</td>\n",
       "      <td>3641</td>\n",
       "      <td>4933</td>\n",
       "      <td>6361</td>\n",
       "      <td>3390</td>\n",
       "      <td>3096</td>\n",
       "      <td>3498</td>\n",
       "      <td>3088</td>\n",
       "      <td>3095</td>\n",
       "      <td>3473</td>\n",
       "      <td>2810</td>\n",
       "      <td>2785</td>\n",
       "      <td>3875</td>\n",
       "      <td>4171</td>\n",
       "      <td>2365</td>\n",
       "      <td>5174</td>\n",
       "    </tr>\n",
       "  </tbody>\n",
       "</table>\n",
       "</div>"
      ],
      "text/plain": [
       "        customerID gender Partner Dependents  ...        Contract PaperlessBilling     PaymentMethod Churn\n",
       "count         7043   7043    7043       7043  ...            7043             7043              7043  7043\n",
       "unique        7043      2       2          2  ...               3                2                 4     2\n",
       "top     7590-VHVEG   Male      No         No  ...  Month-to-month              Yes  Electronic check    No\n",
       "freq             1   3555    3641       4933  ...            3875             4171              2365  5174\n",
       "\n",
       "[4 rows x 17 columns]"
      ]
     },
     "execution_count": null,
     "metadata": {},
     "output_type": "execute_result"
    }
   ],
   "source": [
    "df.describe(include='object')\n"
   ]
  },
  {
   "cell_type": "code",
   "execution_count": null,
   "metadata": {},
   "outputs": [
    {
     "ename": "SyntaxError",
     "evalue": "invalid syntax (432288177.py, line 2)",
     "output_type": "error",
     "traceback": [
      "\u001b[1;36m  Cell \u001b[1;32mIn[86], line 2\u001b[1;36m\u001b[0m\n",
      "\u001b[1;33m    pip install dataprep\u001b[0m\n",
      "\u001b[1;37m        ^\u001b[0m\n",
      "\u001b[1;31mSyntaxError\u001b[0m\u001b[1;31m:\u001b[0m invalid syntax\n"
     ]
    }
   ],
   "source": [
    "#pip install pandas-profiling\n",
    "#pip install dataprep\n"
   ]
  },
  {
   "cell_type": "markdown",
   "metadata": {},
   "source": []
  },
  {
   "cell_type": "markdown",
   "metadata": {},
   "source": []
  }
 ],
 "metadata": {
  "language_info": {
   "name": "python"
  }
 },
 "nbformat": 4,
 "nbformat_minor": 2
}
