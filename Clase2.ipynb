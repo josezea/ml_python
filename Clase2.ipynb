{
 "cells": [
  {
   "cell_type": "markdown",
   "metadata": {},
   "source": [
    "# Curso de Machine Learning Python\n",
    "https://www.ucentral.edu.co/dec/curso-machine-learning-python\n",
    "- Nombre: José Fernando Zea Castro\n",
    "- Email: jfzeac@gmail.com"
   ]
  },
  {
   "cell_type": "markdown",
   "metadata": {},
   "source": [
    "# Pandas"
   ]
  },
  {
   "cell_type": "markdown",
   "metadata": {},
   "source": [
    " Por lo generar viene preinstalado pip install pandas\n"
   ]
  },
  {
   "cell_type": "markdown",
   "metadata": {},
   "source": [
    "La serie es la estructura básica de pandas:"
   ]
  },
  {
   "cell_type": "code",
   "execution_count": 278,
   "metadata": {},
   "outputs": [
    {
     "name": "stdout",
     "output_type": "stream",
     "text": [
      "0    10\n",
      "1    20\n",
      "2    30\n",
      "3    40\n",
      "dtype: int64\n"
     ]
    }
   ],
   "source": [
    "import pandas as pd\n",
    "import numpy as np\n",
    "\n",
    "x = [10, 20, 30, 40]\n",
    "serie = pd.Series(x)\n",
    "print(serie)\n"
   ]
  },
  {
   "cell_type": "code",
   "execution_count": 151,
   "metadata": {},
   "outputs": [
    {
     "name": "stdout",
     "output_type": "stream",
     "text": [
      "a    10\n",
      "b    20\n",
      "c    30\n",
      "dtype: int64\n",
      "0    100\n",
      "1    200\n",
      "2    300\n",
      "dtype: int32\n"
     ]
    }
   ],
   "source": [
    "datos = {'a': 10, 'b': 20, 'c': 30}\n",
    "serie = pd.Series(datos)\n",
    "print(serie)\n",
    "\n",
    "array = np.array([100, 200, 300])\n",
    "serie = pd.Series(array)\n",
    "print(serie)"
   ]
  },
  {
   "cell_type": "code",
   "execution_count": 153,
   "metadata": {},
   "outputs": [
    {
     "name": "stdout",
     "output_type": "stream",
     "text": [
      "A    100\n",
      "B    200\n",
      "C    300\n",
      "dtype: int32\n"
     ]
    }
   ],
   "source": [
    "serie.index = ['A', 'B', 'C']\n",
    "print(serie)"
   ]
  },
  {
   "cell_type": "markdown",
   "metadata": {},
   "source": [
    "Las Series permiten elaborar los dataframes:"
   ]
  },
  {
   "cell_type": "code",
   "execution_count": null,
   "metadata": {},
   "outputs": [],
   "source": [
    "# Data Frame\n",
    "\n",
    "datos = {\n",
    "    'Nombre': ['Ana', 'Juan', 'Luis'],\n",
    "    'Edad': [25, 30, 22],\n",
    "    'Ciudad': ['Bogotá', 'Medellín', 'Cali']\n",
    "}\n",
    "df = pd.DataFrame(datos)\n",
    "print(df)\n"
   ]
  },
  {
   "cell_type": "code",
   "execution_count": 155,
   "metadata": {},
   "outputs": [
    {
     "name": "stdout",
     "output_type": "stream",
     "text": [
      "   A  B  C\n",
      "0  1  2  3\n",
      "1  4  5  6\n"
     ]
    }
   ],
   "source": [
    "# Desde un array de NumPy\n",
    "\n",
    "array = np.array([[1, 2, 3], [4, 5, 6]])\n",
    "df = pd.DataFrame(array, columns=['A', 'B', 'C'])\n",
    "print(df)"
   ]
  },
  {
   "cell_type": "code",
   "execution_count": 279,
   "metadata": {},
   "outputs": [
    {
     "name": "stdout",
     "output_type": "stream",
     "text": [
      "   ID Nombre  Edad\n",
      "0   1    Ana    25\n",
      "1   2   Juan    30\n",
      "2   3   Luis    22\n"
     ]
    }
   ],
   "source": [
    "# A partir de una lista\n",
    "datos = [[1, 'Ana', 25], [2, 'Juan', 30], [3, 'Luis', 22]]\n",
    "df = pd.DataFrame(datos, columns=['ID', 'Nombre', 'Edad'])\n",
    "print(df)"
   ]
  },
  {
   "cell_type": "code",
   "execution_count": null,
   "metadata": {},
   "outputs": [
    {
     "name": "stdout",
     "output_type": "stream",
     "text": [
      "Index(['A', 'B', 'C'], dtype='object')\n",
      "(2, 3)\n",
      "A    int32\n",
      "B    int32\n",
      "C    int32\n",
      "dtype: object\n"
     ]
    }
   ],
   "source": [
    "# Características de un pandas dataframe\n",
    "\n",
    "print(df.columns)\n",
    "print(df.shape)\n",
    "print(df.dtypes)\n",
    "\n"
   ]
  },
  {
   "cell_type": "code",
   "execution_count": null,
   "metadata": {},
   "outputs": [],
   "source": [
    "# Encabezado\n",
    "df.head()"
   ]
  },
  {
   "cell_type": "code",
   "execution_count": null,
   "metadata": {},
   "outputs": [],
   "source": [
    "# ültimos valores\n",
    "df.tail()"
   ]
  },
  {
   "cell_type": "code",
   "execution_count": 280,
   "metadata": {},
   "outputs": [
    {
     "name": "stdout",
     "output_type": "stream",
     "text": [
      "0     Ana\n",
      "1    Juan\n",
      "2    Luis\n",
      "Name: Nombre, dtype: object\n",
      "ID          1\n",
      "Nombre    Ana\n",
      "Edad       25\n",
      "Name: 0, dtype: object\n",
      "   ID Nombre  Edad\n",
      "1   2   Juan    30\n",
      "   ID Nombre  Edad  Salario\n",
      "0   1    Ana    25    50000\n",
      "1   2   Juan    30    60000\n",
      "2   3   Luis    22    55000\n"
     ]
    }
   ],
   "source": [
    "print(df['Nombre'])  # Devuelve una Serie\n",
    "print(df.iloc[0])  # Primera fila\n",
    "\n",
    "print(df[df['Edad'] > 25])  # Filtrar mayores de 25 años\n",
    "\n",
    "# Mofiicación de datos\n",
    "df['Salario'] = [50000, 60000, 55000]\n",
    "print(df)"
   ]
  },
  {
   "cell_type": "code",
   "execution_count": null,
   "metadata": {},
   "outputs": [],
   "source": [
    "# Eliminar columna\n",
    "df = df.drop(columns=['Salario'])\n",
    "\n",
    "df.loc[0, 'Edad'] = 26"
   ]
  },
  {
   "cell_type": "markdown",
   "metadata": {},
   "source": [
    "# Operaciones comunes en un pandas dataframe"
   ]
  },
  {
   "cell_type": "markdown",
   "metadata": {},
   "source": [
    "Cargamos un pandas dataframe de juguete para ilustrar algunas de las principales funcionalidades del dataframe:"
   ]
  },
  {
   "cell_type": "code",
   "execution_count": null,
   "metadata": {},
   "outputs": [
    {
     "name": "stderr",
     "output_type": "stream",
     "text": [
      "\"conda\" no se reconoce como un comando interno o externo,\n",
      "programa o archivo por lotes ejecutable.\n"
     ]
    }
   ],
   "source": []
  },
  {
   "cell_type": "code",
   "execution_count": 30,
   "metadata": {},
   "outputs": [
    {
     "name": "stderr",
     "output_type": "stream",
     "text": [
      "\n",
      "A module that was compiled using NumPy 1.x cannot be run in\n",
      "NumPy 2.2.4 as it may crash. To support both 1.x and 2.x\n",
      "versions of NumPy, modules must be compiled with NumPy 2.0.\n",
      "Some module may need to rebuild instead e.g. with 'pybind11>=2.12'.\n",
      "\n",
      "If you are a user of the module, the easiest solution will be to\n",
      "downgrade to 'numpy<2' or try to upgrade the affected module.\n",
      "We expect that some modules will need time to support NumPy 2.\n",
      "\n",
      "Traceback (most recent call last):  File \"c:\\Users\\jfzea\\AppData\\Local\\Programs\\Positron\\resources\\app\\extensions\\positron-python\\python_files\\positron\\positron_language_server.py\", line 152, in <module>\n",
      "    loop.run_forever()\n",
      "  File \"C:\\Users\\jfzea\\anaconda3\\Lib\\asyncio\\base_events.py\", line 641, in run_forever\n",
      "    self._run_once()\n",
      "  File \"C:\\Users\\jfzea\\anaconda3\\Lib\\asyncio\\base_events.py\", line 1986, in _run_once\n",
      "    handle._run()\n",
      "  File \"C:\\Users\\jfzea\\anaconda3\\Lib\\asyncio\\events.py\", line 88, in _run\n",
      "    self._context.run(self._callback, *self._args)\n",
      "  File \"C:\\Users\\jfzea\\anaconda3\\Lib\\site-packages\\ipykernel\\kernelbase.py\", line 545, in dispatch_queue\n",
      "    await self.process_one()\n",
      "  File \"C:\\Users\\jfzea\\anaconda3\\Lib\\site-packages\\ipykernel\\kernelbase.py\", line 534, in process_one\n",
      "    await dispatch(*args)\n",
      "  File \"C:\\Users\\jfzea\\anaconda3\\Lib\\site-packages\\ipykernel\\kernelbase.py\", line 437, in dispatch_shell\n",
      "    await result\n",
      "  File \"C:\\Users\\jfzea\\anaconda3\\Lib\\site-packages\\ipykernel\\ipkernel.py\", line 362, in execute_request\n",
      "    await super().execute_request(stream, ident, parent)\n",
      "  File \"C:\\Users\\jfzea\\anaconda3\\Lib\\site-packages\\ipykernel\\kernelbase.py\", line 778, in execute_request\n",
      "    reply_content = await reply_content\n",
      "  File \"C:\\Users\\jfzea\\anaconda3\\Lib\\site-packages\\ipykernel\\ipkernel.py\", line 449, in do_execute\n",
      "    res = shell.run_cell(\n",
      "  File \"C:\\Users\\jfzea\\anaconda3\\Lib\\site-packages\\ipykernel\\zmqshell.py\", line 549, in run_cell\n",
      "    return super().run_cell(*args, **kwargs)\n",
      "  File \"C:\\Users\\jfzea\\anaconda3\\Lib\\site-packages\\IPython\\core\\interactiveshell.py\", line 3075, in run_cell\n",
      "    result = self._run_cell(\n",
      "  File \"C:\\Users\\jfzea\\anaconda3\\Lib\\site-packages\\IPython\\core\\interactiveshell.py\", line 3130, in _run_cell\n",
      "    result = runner(coro)\n",
      "  File \"C:\\Users\\jfzea\\anaconda3\\Lib\\site-packages\\IPython\\core\\async_helpers.py\", line 128, in _pseudo_sync_runner\n",
      "    coro.send(None)\n",
      "  File \"C:\\Users\\jfzea\\anaconda3\\Lib\\site-packages\\IPython\\core\\interactiveshell.py\", line 3334, in run_cell_async\n",
      "    has_raised = await self.run_ast_nodes(code_ast.body, cell_name,\n",
      "  File \"C:\\Users\\jfzea\\anaconda3\\Lib\\site-packages\\IPython\\core\\interactiveshell.py\", line 3517, in run_ast_nodes\n",
      "    if await self.run_code(code, result, async_=asy):\n",
      "  File \"C:\\Users\\jfzea\\anaconda3\\Lib\\site-packages\\IPython\\core\\interactiveshell.py\", line 3577, in run_code\n",
      "    exec(code_obj, self.user_global_ns, self.user_ns)\n",
      "  File \"C:\\Users\\jfzea\\AppData\\Local\\Temp\\ipykernel_10272\\49602396.py\", line 2, in <module>\n",
      "    from seaborn import load_dataset\n",
      "  File \"C:\\Users\\jfzea\\anaconda3\\Lib\\site-packages\\seaborn\\__init__.py\", line 2, in <module>\n",
      "    from .rcmod import *  # noqa: F401,F403\n",
      "  File \"C:\\Users\\jfzea\\anaconda3\\Lib\\site-packages\\seaborn\\rcmod.py\", line 3, in <module>\n",
      "    import matplotlib as mpl\n",
      "  File \"C:\\Users\\jfzea\\anaconda3\\Lib\\site-packages\\matplotlib\\__init__.py\", line 159, in <module>\n",
      "    from . import _api, _version, cbook, _docstring, rcsetup\n",
      "  File \"C:\\Users\\jfzea\\anaconda3\\Lib\\site-packages\\matplotlib\\rcsetup.py\", line 28, in <module>\n",
      "    from matplotlib.colors import Colormap, is_color_like\n",
      "  File \"C:\\Users\\jfzea\\anaconda3\\Lib\\site-packages\\matplotlib\\colors.py\", line 57, in <module>\n",
      "    from matplotlib import _api, _cm, cbook, scale\n",
      "  File \"C:\\Users\\jfzea\\anaconda3\\Lib\\site-packages\\matplotlib\\scale.py\", line 22, in <module>\n",
      "    from matplotlib.ticker import (\n",
      "  File \"C:\\Users\\jfzea\\anaconda3\\Lib\\site-packages\\matplotlib\\ticker.py\", line 144, in <module>\n",
      "    from matplotlib import transforms as mtransforms\n",
      "  File \"C:\\Users\\jfzea\\anaconda3\\Lib\\site-packages\\matplotlib\\transforms.py\", line 49, in <module>\n",
      "    from matplotlib._path import (\n"
     ]
    },
    {
     "ename": "ImportError",
     "evalue": "\nA module that was compiled using NumPy 1.x cannot be run in\nNumPy 2.2.4 as it may crash. To support both 1.x and 2.x\nversions of NumPy, modules must be compiled with NumPy 2.0.\nSome module may need to rebuild instead e.g. with 'pybind11>=2.12'.\n\nIf you are a user of the module, the easiest solution will be to\ndowngrade to 'numpy<2' or try to upgrade the affected module.\nWe expect that some modules will need time to support NumPy 2.\n\n",
     "output_type": "error",
     "traceback": [
      "\u001b[1;31m---------------------------------------------------------------------------\u001b[0m\n",
      "\u001b[1;31mImportError\u001b[0m                               Traceback (most recent call last)\n",
      "File \u001b[1;32m~\\anaconda3\\Lib\\site-packages\\numpy\\core\\_multiarray_umath.py:44\u001b[0m, in \u001b[0;36m__getattr__\u001b[1;34m(attr_name)\u001b[0m\n",
      "\u001b[0;32m     39\u001b[0m     \u001b[38;5;66;03m# Also print the message (with traceback).  This is because old versions\u001b[39;00m\n",
      "\u001b[0;32m     40\u001b[0m     \u001b[38;5;66;03m# of NumPy unfortunately set up the import to replace (and hide) the\u001b[39;00m\n",
      "\u001b[0;32m     41\u001b[0m     \u001b[38;5;66;03m# error.  The traceback shouldn't be needed, but e.g. pytest plugins\u001b[39;00m\n",
      "\u001b[0;32m     42\u001b[0m     \u001b[38;5;66;03m# seem to swallow it and we should be failing anyway...\u001b[39;00m\n",
      "\u001b[0;32m     43\u001b[0m     sys\u001b[38;5;241m.\u001b[39mstderr\u001b[38;5;241m.\u001b[39mwrite(msg \u001b[38;5;241m+\u001b[39m tb_msg)\n",
      "\u001b[1;32m---> 44\u001b[0m     \u001b[38;5;28;01mraise\u001b[39;00m \u001b[38;5;167;01mImportError\u001b[39;00m(msg)\n",
      "\u001b[0;32m     46\u001b[0m ret \u001b[38;5;241m=\u001b[39m \u001b[38;5;28mgetattr\u001b[39m(_multiarray_umath, attr_name, \u001b[38;5;28;01mNone\u001b[39;00m)\n",
      "\u001b[0;32m     47\u001b[0m \u001b[38;5;28;01mif\u001b[39;00m ret \u001b[38;5;129;01mis\u001b[39;00m \u001b[38;5;28;01mNone\u001b[39;00m:\n",
      "\n",
      "\u001b[1;31mImportError\u001b[0m: \n",
      "A module that was compiled using NumPy 1.x cannot be run in\n",
      "NumPy 2.2.4 as it may crash. To support both 1.x and 2.x\n",
      "versions of NumPy, modules must be compiled with NumPy 2.0.\n",
      "Some module may need to rebuild instead e.g. with 'pybind11>=2.12'.\n",
      "\n",
      "If you are a user of the module, the easiest solution will be to\n",
      "downgrade to 'numpy<2' or try to upgrade the affected module.\n",
      "We expect that some modules will need time to support NumPy 2.\n",
      "\n"
     ]
    }
   ],
   "source": [
    "import pandas as pd\n",
    "from seaborn import load_dataset\n",
    "\n",
    "# Cargar el dataset de iris\n",
    "iris = load_dataset(\"iris\")\n",
    "\n",
    "# Renombrar columnas para reemplazar '.' por '_'\n",
    "iris.columns = iris.columns.str.replace('.', '_', regex=False)\n",
    "\n",
    "print(iris.head())"
   ]
  },
  {
   "cell_type": "markdown",
   "metadata": {},
   "source": [
    "## Renombrar variables"
   ]
  },
  {
   "cell_type": "code",
   "execution_count": null,
   "metadata": {},
   "outputs": [],
   "source": [
    "iris_renamed = iris.rename(columns={'sepal_length': 'longitud_sepalo', 'petal_length': 'longitud_petalo'})\n",
    "print(iris_renamed)"
   ]
  },
  {
   "cell_type": "markdown",
   "metadata": {},
   "source": [
    "# Selección de variables (columnas)"
   ]
  },
  {
   "cell_type": "code",
   "execution_count": 284,
   "metadata": {},
   "outputs": [
    {
     "data": {
      "text/html": [
       "<div>\n",
       "<style scoped>\n",
       "    .dataframe tbody tr th:only-of-type {\n",
       "        vertical-align: middle;\n",
       "    }\n",
       "\n",
       "    .dataframe tbody tr th {\n",
       "        vertical-align: top;\n",
       "    }\n",
       "\n",
       "    .dataframe thead th {\n",
       "        text-align: right;\n",
       "    }\n",
       "</style>\n",
       "<table border=\"1\" class=\"dataframe\">\n",
       "  <thead>\n",
       "    <tr style=\"text-align: right;\">\n",
       "      <th></th>\n",
       "      <th>sepal_length</th>\n",
       "      <th>species</th>\n",
       "    </tr>\n",
       "  </thead>\n",
       "  <tbody>\n",
       "    <tr>\n",
       "      <th>0</th>\n",
       "      <td>5.1</td>\n",
       "      <td>setosa</td>\n",
       "    </tr>\n",
       "    <tr>\n",
       "      <th>1</th>\n",
       "      <td>4.9</td>\n",
       "      <td>setosa</td>\n",
       "    </tr>\n",
       "    <tr>\n",
       "      <th>2</th>\n",
       "      <td>4.7</td>\n",
       "      <td>setosa</td>\n",
       "    </tr>\n",
       "    <tr>\n",
       "      <th>3</th>\n",
       "      <td>4.6</td>\n",
       "      <td>setosa</td>\n",
       "    </tr>\n",
       "    <tr>\n",
       "      <th>4</th>\n",
       "      <td>5.0</td>\n",
       "      <td>setosa</td>\n",
       "    </tr>\n",
       "    <tr>\n",
       "      <th>...</th>\n",
       "      <td>...</td>\n",
       "      <td>...</td>\n",
       "    </tr>\n",
       "    <tr>\n",
       "      <th>145</th>\n",
       "      <td>6.7</td>\n",
       "      <td>virginica</td>\n",
       "    </tr>\n",
       "    <tr>\n",
       "      <th>146</th>\n",
       "      <td>6.3</td>\n",
       "      <td>virginica</td>\n",
       "    </tr>\n",
       "    <tr>\n",
       "      <th>147</th>\n",
       "      <td>6.5</td>\n",
       "      <td>virginica</td>\n",
       "    </tr>\n",
       "    <tr>\n",
       "      <th>148</th>\n",
       "      <td>6.2</td>\n",
       "      <td>virginica</td>\n",
       "    </tr>\n",
       "    <tr>\n",
       "      <th>149</th>\n",
       "      <td>5.9</td>\n",
       "      <td>virginica</td>\n",
       "    </tr>\n",
       "  </tbody>\n",
       "</table>\n",
       "<p>150 rows × 2 columns</p>\n",
       "</div>"
      ],
      "text/plain": [
       "     sepal_length    species\n",
       "0             5.1     setosa\n",
       "1             4.9     setosa\n",
       "2             4.7     setosa\n",
       "3             4.6     setosa\n",
       "4             5.0     setosa\n",
       "..            ...        ...\n",
       "145           6.7  virginica\n",
       "146           6.3  virginica\n",
       "147           6.5  virginica\n",
       "148           6.2  virginica\n",
       "149           5.9  virginica\n",
       "\n",
       "[150 rows x 2 columns]"
      ]
     },
     "execution_count": null,
     "metadata": {},
     "output_type": "execute_result"
    }
   ],
   "source": [
    "iris[['sepal_length', 'species']]"
   ]
  },
  {
   "cell_type": "code",
   "execution_count": null,
   "metadata": {},
   "outputs": [
    {
     "name": "stdout",
     "output_type": "stream",
     "text": [
      "     sepal_length    species\n",
      "0             5.1     setosa\n",
      "1             4.9     setosa\n",
      "2             4.7     setosa\n",
      "3             4.6     setosa\n",
      "4             5.0     setosa\n",
      "..            ...        ...\n",
      "145           6.7  virginica\n",
      "146           6.3  virginica\n",
      "147           6.5  virginica\n",
      "148           6.2  virginica\n",
      "149           5.9  virginica\n",
      "\n",
      "[150 rows x 2 columns]\n"
     ]
    }
   ],
   "source": [
    "iris_selected = iris.loc[:, ['sepal_length', 'species']]\n",
    "#iris_selected = iris.iloc[:, [0, -1]]  # Primera y última columna (Alternativamente)\n",
    "\n",
    "print(iris_selected)"
   ]
  },
  {
   "cell_type": "markdown",
   "metadata": {},
   "source": [
    "Existe un método específico para seleccioanr columnas:"
   ]
  },
  {
   "cell_type": "code",
   "execution_count": null,
   "metadata": {},
   "outputs": [
    {
     "data": {
      "text/html": [
       "<div>\n",
       "<style scoped>\n",
       "    .dataframe tbody tr th:only-of-type {\n",
       "        vertical-align: middle;\n",
       "    }\n",
       "\n",
       "    .dataframe tbody tr th {\n",
       "        vertical-align: top;\n",
       "    }\n",
       "\n",
       "    .dataframe thead th {\n",
       "        text-align: right;\n",
       "    }\n",
       "</style>\n",
       "<table border=\"1\" class=\"dataframe\">\n",
       "  <thead>\n",
       "    <tr style=\"text-align: right;\">\n",
       "      <th></th>\n",
       "      <th>sepal_length</th>\n",
       "    </tr>\n",
       "  </thead>\n",
       "  <tbody>\n",
       "    <tr>\n",
       "      <th>0</th>\n",
       "      <td>5.1</td>\n",
       "    </tr>\n",
       "    <tr>\n",
       "      <th>1</th>\n",
       "      <td>4.9</td>\n",
       "    </tr>\n",
       "    <tr>\n",
       "      <th>2</th>\n",
       "      <td>4.7</td>\n",
       "    </tr>\n",
       "    <tr>\n",
       "      <th>3</th>\n",
       "      <td>4.6</td>\n",
       "    </tr>\n",
       "    <tr>\n",
       "      <th>4</th>\n",
       "      <td>5.0</td>\n",
       "    </tr>\n",
       "    <tr>\n",
       "      <th>...</th>\n",
       "      <td>...</td>\n",
       "    </tr>\n",
       "    <tr>\n",
       "      <th>145</th>\n",
       "      <td>6.7</td>\n",
       "    </tr>\n",
       "    <tr>\n",
       "      <th>146</th>\n",
       "      <td>6.3</td>\n",
       "    </tr>\n",
       "    <tr>\n",
       "      <th>147</th>\n",
       "      <td>6.5</td>\n",
       "    </tr>\n",
       "    <tr>\n",
       "      <th>148</th>\n",
       "      <td>6.2</td>\n",
       "    </tr>\n",
       "    <tr>\n",
       "      <th>149</th>\n",
       "      <td>5.9</td>\n",
       "    </tr>\n",
       "  </tbody>\n",
       "</table>\n",
       "<p>150 rows × 1 columns</p>\n",
       "</div>"
      ],
      "text/plain": [
       "     sepal_length\n",
       "0             5.1\n",
       "1             4.9\n",
       "2             4.7\n",
       "3             4.6\n",
       "4             5.0\n",
       "..            ...\n",
       "145           6.7\n",
       "146           6.3\n",
       "147           6.5\n",
       "148           6.2\n",
       "149           5.9\n",
       "\n",
       "[150 rows x 1 columns]"
      ]
     },
     "execution_count": null,
     "metadata": {},
     "output_type": "execute_result"
    }
   ],
   "source": [
    "iris.filter(items=['sepal_length', 'no_existe'])  # No falla, solo ignora 'no_existe'\n"
   ]
  },
  {
   "cell_type": "markdown",
   "metadata": {},
   "source": [
    "Uso de variables que contengan like:"
   ]
  },
  {
   "cell_type": "code",
   "execution_count": 296,
   "metadata": {},
   "outputs": [
    {
     "data": {
      "text/html": [
       "<div>\n",
       "<style scoped>\n",
       "    .dataframe tbody tr th:only-of-type {\n",
       "        vertical-align: middle;\n",
       "    }\n",
       "\n",
       "    .dataframe tbody tr th {\n",
       "        vertical-align: top;\n",
       "    }\n",
       "\n",
       "    .dataframe thead th {\n",
       "        text-align: right;\n",
       "    }\n",
       "</style>\n",
       "<table border=\"1\" class=\"dataframe\">\n",
       "  <thead>\n",
       "    <tr style=\"text-align: right;\">\n",
       "      <th></th>\n",
       "      <th>sepal_length</th>\n",
       "      <th>sepal_width</th>\n",
       "    </tr>\n",
       "  </thead>\n",
       "  <tbody>\n",
       "    <tr>\n",
       "      <th>0</th>\n",
       "      <td>5.1</td>\n",
       "      <td>3.5</td>\n",
       "    </tr>\n",
       "    <tr>\n",
       "      <th>1</th>\n",
       "      <td>4.9</td>\n",
       "      <td>3.0</td>\n",
       "    </tr>\n",
       "    <tr>\n",
       "      <th>2</th>\n",
       "      <td>4.7</td>\n",
       "      <td>3.2</td>\n",
       "    </tr>\n",
       "    <tr>\n",
       "      <th>3</th>\n",
       "      <td>4.6</td>\n",
       "      <td>3.1</td>\n",
       "    </tr>\n",
       "    <tr>\n",
       "      <th>4</th>\n",
       "      <td>5.0</td>\n",
       "      <td>3.6</td>\n",
       "    </tr>\n",
       "    <tr>\n",
       "      <th>...</th>\n",
       "      <td>...</td>\n",
       "      <td>...</td>\n",
       "    </tr>\n",
       "    <tr>\n",
       "      <th>145</th>\n",
       "      <td>6.7</td>\n",
       "      <td>3.0</td>\n",
       "    </tr>\n",
       "    <tr>\n",
       "      <th>146</th>\n",
       "      <td>6.3</td>\n",
       "      <td>2.5</td>\n",
       "    </tr>\n",
       "    <tr>\n",
       "      <th>147</th>\n",
       "      <td>6.5</td>\n",
       "      <td>3.0</td>\n",
       "    </tr>\n",
       "    <tr>\n",
       "      <th>148</th>\n",
       "      <td>6.2</td>\n",
       "      <td>3.4</td>\n",
       "    </tr>\n",
       "    <tr>\n",
       "      <th>149</th>\n",
       "      <td>5.9</td>\n",
       "      <td>3.0</td>\n",
       "    </tr>\n",
       "  </tbody>\n",
       "</table>\n",
       "<p>150 rows × 2 columns</p>\n",
       "</div>"
      ],
      "text/plain": [
       "     sepal_length  sepal_width\n",
       "0             5.1          3.5\n",
       "1             4.9          3.0\n",
       "2             4.7          3.2\n",
       "3             4.6          3.1\n",
       "4             5.0          3.6\n",
       "..            ...          ...\n",
       "145           6.7          3.0\n",
       "146           6.3          2.5\n",
       "147           6.5          3.0\n",
       "148           6.2          3.4\n",
       "149           5.9          3.0\n",
       "\n",
       "[150 rows x 2 columns]"
      ]
     },
     "execution_count": null,
     "metadata": {},
     "output_type": "execute_result"
    }
   ],
   "source": [
    "iris.filter(like='sepal') "
   ]
  },
  {
   "cell_type": "markdown",
   "metadata": {},
   "source": [
    "Palabras que empiecen por petal:"
   ]
  },
  {
   "cell_type": "code",
   "execution_count": 297,
   "metadata": {},
   "outputs": [
    {
     "data": {
      "text/html": [
       "<div>\n",
       "<style scoped>\n",
       "    .dataframe tbody tr th:only-of-type {\n",
       "        vertical-align: middle;\n",
       "    }\n",
       "\n",
       "    .dataframe tbody tr th {\n",
       "        vertical-align: top;\n",
       "    }\n",
       "\n",
       "    .dataframe thead th {\n",
       "        text-align: right;\n",
       "    }\n",
       "</style>\n",
       "<table border=\"1\" class=\"dataframe\">\n",
       "  <thead>\n",
       "    <tr style=\"text-align: right;\">\n",
       "      <th></th>\n",
       "      <th>petal_length</th>\n",
       "      <th>petal_width</th>\n",
       "    </tr>\n",
       "  </thead>\n",
       "  <tbody>\n",
       "    <tr>\n",
       "      <th>0</th>\n",
       "      <td>1.4</td>\n",
       "      <td>0.2</td>\n",
       "    </tr>\n",
       "    <tr>\n",
       "      <th>1</th>\n",
       "      <td>1.4</td>\n",
       "      <td>0.2</td>\n",
       "    </tr>\n",
       "    <tr>\n",
       "      <th>2</th>\n",
       "      <td>1.3</td>\n",
       "      <td>0.2</td>\n",
       "    </tr>\n",
       "    <tr>\n",
       "      <th>3</th>\n",
       "      <td>1.5</td>\n",
       "      <td>0.2</td>\n",
       "    </tr>\n",
       "    <tr>\n",
       "      <th>4</th>\n",
       "      <td>1.4</td>\n",
       "      <td>0.2</td>\n",
       "    </tr>\n",
       "    <tr>\n",
       "      <th>...</th>\n",
       "      <td>...</td>\n",
       "      <td>...</td>\n",
       "    </tr>\n",
       "    <tr>\n",
       "      <th>145</th>\n",
       "      <td>5.2</td>\n",
       "      <td>2.3</td>\n",
       "    </tr>\n",
       "    <tr>\n",
       "      <th>146</th>\n",
       "      <td>5.0</td>\n",
       "      <td>1.9</td>\n",
       "    </tr>\n",
       "    <tr>\n",
       "      <th>147</th>\n",
       "      <td>5.2</td>\n",
       "      <td>2.0</td>\n",
       "    </tr>\n",
       "    <tr>\n",
       "      <th>148</th>\n",
       "      <td>5.4</td>\n",
       "      <td>2.3</td>\n",
       "    </tr>\n",
       "    <tr>\n",
       "      <th>149</th>\n",
       "      <td>5.1</td>\n",
       "      <td>1.8</td>\n",
       "    </tr>\n",
       "  </tbody>\n",
       "</table>\n",
       "<p>150 rows × 2 columns</p>\n",
       "</div>"
      ],
      "text/plain": [
       "     petal_length  petal_width\n",
       "0             1.4          0.2\n",
       "1             1.4          0.2\n",
       "2             1.3          0.2\n",
       "3             1.5          0.2\n",
       "4             1.4          0.2\n",
       "..            ...          ...\n",
       "145           5.2          2.3\n",
       "146           5.0          1.9\n",
       "147           5.2          2.0\n",
       "148           5.4          2.3\n",
       "149           5.1          1.8\n",
       "\n",
       "[150 rows x 2 columns]"
      ]
     },
     "execution_count": null,
     "metadata": {},
     "output_type": "execute_result"
    }
   ],
   "source": [
    "iris.filter(regex='^petal.*') "
   ]
  },
  {
   "cell_type": "markdown",
   "metadata": {},
   "source": [
    "# Selección de filas"
   ]
  },
  {
   "cell_type": "markdown",
   "metadata": {},
   "source": [
    "Puedo tambien seleccioanr algunas filas:"
   ]
  },
  {
   "cell_type": "code",
   "execution_count": 304,
   "metadata": {},
   "outputs": [
    {
     "data": {
      "text/html": [
       "<div>\n",
       "<style scoped>\n",
       "    .dataframe tbody tr th:only-of-type {\n",
       "        vertical-align: middle;\n",
       "    }\n",
       "\n",
       "    .dataframe tbody tr th {\n",
       "        vertical-align: top;\n",
       "    }\n",
       "\n",
       "    .dataframe thead th {\n",
       "        text-align: right;\n",
       "    }\n",
       "</style>\n",
       "<table border=\"1\" class=\"dataframe\">\n",
       "  <thead>\n",
       "    <tr style=\"text-align: right;\">\n",
       "      <th></th>\n",
       "      <th>sepal_length</th>\n",
       "      <th>sepal_width</th>\n",
       "      <th>petal_length</th>\n",
       "      <th>petal_width</th>\n",
       "      <th>species</th>\n",
       "    </tr>\n",
       "  </thead>\n",
       "  <tbody>\n",
       "    <tr>\n",
       "      <th>0</th>\n",
       "      <td>5.1</td>\n",
       "      <td>3.5</td>\n",
       "      <td>1.4</td>\n",
       "      <td>0.2</td>\n",
       "      <td>setosa</td>\n",
       "    </tr>\n",
       "    <tr>\n",
       "      <th>2</th>\n",
       "      <td>4.7</td>\n",
       "      <td>3.2</td>\n",
       "      <td>1.3</td>\n",
       "      <td>0.2</td>\n",
       "      <td>setosa</td>\n",
       "    </tr>\n",
       "    <tr>\n",
       "      <th>4</th>\n",
       "      <td>5.0</td>\n",
       "      <td>3.6</td>\n",
       "      <td>1.4</td>\n",
       "      <td>0.2</td>\n",
       "      <td>setosa</td>\n",
       "    </tr>\n",
       "  </tbody>\n",
       "</table>\n",
       "</div>"
      ],
      "text/plain": [
       "   sepal_length  sepal_width  petal_length  petal_width species\n",
       "0           5.1          3.5           1.4          0.2  setosa\n",
       "2           4.7          3.2           1.3          0.2  setosa\n",
       "4           5.0          3.6           1.4          0.2  setosa"
      ]
     },
     "execution_count": null,
     "metadata": {},
     "output_type": "execute_result"
    }
   ],
   "source": [
    "iris_selected = iris.iloc[[0, 2, 4]]  # Python uses zero-based indexing\n",
    "iris_selected.head()"
   ]
  },
  {
   "cell_type": "code",
   "execution_count": 332,
   "metadata": {},
   "outputs": [
    {
     "data": {
      "text/html": [
       "<div>\n",
       "<style scoped>\n",
       "    .dataframe tbody tr th:only-of-type {\n",
       "        vertical-align: middle;\n",
       "    }\n",
       "\n",
       "    .dataframe tbody tr th {\n",
       "        vertical-align: top;\n",
       "    }\n",
       "\n",
       "    .dataframe thead th {\n",
       "        text-align: right;\n",
       "    }\n",
       "</style>\n",
       "<table border=\"1\" class=\"dataframe\">\n",
       "  <thead>\n",
       "    <tr style=\"text-align: right;\">\n",
       "      <th></th>\n",
       "      <th>sepal_length</th>\n",
       "      <th>sepal_width</th>\n",
       "      <th>petal_length</th>\n",
       "      <th>petal_width</th>\n",
       "      <th>species</th>\n",
       "    </tr>\n",
       "  </thead>\n",
       "  <tbody>\n",
       "    <tr>\n",
       "      <th>0</th>\n",
       "      <td>5.1</td>\n",
       "      <td>3.5</td>\n",
       "      <td>1.4</td>\n",
       "      <td>0.2</td>\n",
       "      <td>setosa</td>\n",
       "    </tr>\n",
       "    <tr>\n",
       "      <th>2</th>\n",
       "      <td>4.7</td>\n",
       "      <td>3.2</td>\n",
       "      <td>1.3</td>\n",
       "      <td>0.2</td>\n",
       "      <td>setosa</td>\n",
       "    </tr>\n",
       "    <tr>\n",
       "      <th>4</th>\n",
       "      <td>5.0</td>\n",
       "      <td>3.6</td>\n",
       "      <td>1.4</td>\n",
       "      <td>0.2</td>\n",
       "      <td>setosa</td>\n",
       "    </tr>\n",
       "  </tbody>\n",
       "</table>\n",
       "</div>"
      ],
      "text/plain": [
       "   sepal_length  sepal_width  petal_length  petal_width species\n",
       "0           5.1          3.5           1.4          0.2  setosa\n",
       "2           4.7          3.2           1.3          0.2  setosa\n",
       "4           5.0          3.6           1.4          0.2  setosa"
      ]
     },
     "execution_count": null,
     "metadata": {},
     "output_type": "execute_result"
    }
   ],
   "source": [
    "iris.loc[[0, 2, 4]]"
   ]
  },
  {
   "cell_type": "markdown",
   "metadata": {},
   "source": [
    "Puedo eliminar algunas filas:"
   ]
  },
  {
   "cell_type": "code",
   "execution_count": 303,
   "metadata": {},
   "outputs": [
    {
     "data": {
      "text/html": [
       "<div>\n",
       "<style scoped>\n",
       "    .dataframe tbody tr th:only-of-type {\n",
       "        vertical-align: middle;\n",
       "    }\n",
       "\n",
       "    .dataframe tbody tr th {\n",
       "        vertical-align: top;\n",
       "    }\n",
       "\n",
       "    .dataframe thead th {\n",
       "        text-align: right;\n",
       "    }\n",
       "</style>\n",
       "<table border=\"1\" class=\"dataframe\">\n",
       "  <thead>\n",
       "    <tr style=\"text-align: right;\">\n",
       "      <th></th>\n",
       "      <th>sepal_length</th>\n",
       "      <th>sepal_width</th>\n",
       "      <th>petal_length</th>\n",
       "      <th>petal_width</th>\n",
       "      <th>species</th>\n",
       "    </tr>\n",
       "  </thead>\n",
       "  <tbody>\n",
       "    <tr>\n",
       "      <th>2</th>\n",
       "      <td>4.7</td>\n",
       "      <td>3.2</td>\n",
       "      <td>1.3</td>\n",
       "      <td>0.2</td>\n",
       "      <td>setosa</td>\n",
       "    </tr>\n",
       "    <tr>\n",
       "      <th>3</th>\n",
       "      <td>4.6</td>\n",
       "      <td>3.1</td>\n",
       "      <td>1.5</td>\n",
       "      <td>0.2</td>\n",
       "      <td>setosa</td>\n",
       "    </tr>\n",
       "    <tr>\n",
       "      <th>4</th>\n",
       "      <td>5.0</td>\n",
       "      <td>3.6</td>\n",
       "      <td>1.4</td>\n",
       "      <td>0.2</td>\n",
       "      <td>setosa</td>\n",
       "    </tr>\n",
       "    <tr>\n",
       "      <th>5</th>\n",
       "      <td>5.4</td>\n",
       "      <td>3.9</td>\n",
       "      <td>1.7</td>\n",
       "      <td>0.4</td>\n",
       "      <td>setosa</td>\n",
       "    </tr>\n",
       "    <tr>\n",
       "      <th>6</th>\n",
       "      <td>4.6</td>\n",
       "      <td>3.4</td>\n",
       "      <td>1.4</td>\n",
       "      <td>0.3</td>\n",
       "      <td>setosa</td>\n",
       "    </tr>\n",
       "    <tr>\n",
       "      <th>...</th>\n",
       "      <td>...</td>\n",
       "      <td>...</td>\n",
       "      <td>...</td>\n",
       "      <td>...</td>\n",
       "      <td>...</td>\n",
       "    </tr>\n",
       "    <tr>\n",
       "      <th>145</th>\n",
       "      <td>6.7</td>\n",
       "      <td>3.0</td>\n",
       "      <td>5.2</td>\n",
       "      <td>2.3</td>\n",
       "      <td>virginica</td>\n",
       "    </tr>\n",
       "    <tr>\n",
       "      <th>146</th>\n",
       "      <td>6.3</td>\n",
       "      <td>2.5</td>\n",
       "      <td>5.0</td>\n",
       "      <td>1.9</td>\n",
       "      <td>virginica</td>\n",
       "    </tr>\n",
       "    <tr>\n",
       "      <th>147</th>\n",
       "      <td>6.5</td>\n",
       "      <td>3.0</td>\n",
       "      <td>5.2</td>\n",
       "      <td>2.0</td>\n",
       "      <td>virginica</td>\n",
       "    </tr>\n",
       "    <tr>\n",
       "      <th>148</th>\n",
       "      <td>6.2</td>\n",
       "      <td>3.4</td>\n",
       "      <td>5.4</td>\n",
       "      <td>2.3</td>\n",
       "      <td>virginica</td>\n",
       "    </tr>\n",
       "    <tr>\n",
       "      <th>149</th>\n",
       "      <td>5.9</td>\n",
       "      <td>3.0</td>\n",
       "      <td>5.1</td>\n",
       "      <td>1.8</td>\n",
       "      <td>virginica</td>\n",
       "    </tr>\n",
       "  </tbody>\n",
       "</table>\n",
       "<p>148 rows × 5 columns</p>\n",
       "</div>"
      ],
      "text/plain": [
       "     sepal_length  sepal_width  petal_length  petal_width    species\n",
       "2             4.7          3.2           1.3          0.2     setosa\n",
       "3             4.6          3.1           1.5          0.2     setosa\n",
       "4             5.0          3.6           1.4          0.2     setosa\n",
       "5             5.4          3.9           1.7          0.4     setosa\n",
       "6             4.6          3.4           1.4          0.3     setosa\n",
       "..            ...          ...           ...          ...        ...\n",
       "145           6.7          3.0           5.2          2.3  virginica\n",
       "146           6.3          2.5           5.0          1.9  virginica\n",
       "147           6.5          3.0           5.2          2.0  virginica\n",
       "148           6.2          3.4           5.4          2.3  virginica\n",
       "149           5.9          3.0           5.1          1.8  virginica\n",
       "\n",
       "[148 rows x 5 columns]"
      ]
     },
     "execution_count": null,
     "metadata": {},
     "output_type": "execute_result"
    }
   ],
   "source": [
    "iris.drop([0, 1], axis=0)\n"
   ]
  },
  {
   "cell_type": "markdown",
   "metadata": {},
   "source": [
    "Python soporta temas multindex:"
   ]
  },
  {
   "cell_type": "code",
   "execution_count": 305,
   "metadata": {},
   "outputs": [
    {
     "name": "stdout",
     "output_type": "stream",
     "text": [
      "                     Precio\n",
      "Categoría Producto         \n",
      "Frutas    Manzana        10\n",
      "          Banana         20\n",
      "Verduras  Zanahoria      15\n"
     ]
    }
   ],
   "source": [
    "tuplas = [('Frutas', 'Manzana'), ('Frutas', 'Banana'), ('Verduras', 'Zanahoria')]\n",
    "index = pd.MultiIndex.from_tuples(tuplas, names=['Categoría', 'Producto'])\n",
    "\n",
    "df_multi = pd.DataFrame({'Precio': [10, 20, 15]}, index=index)\n",
    "\n",
    "print(df_multi)"
   ]
  },
  {
   "cell_type": "markdown",
   "metadata": {},
   "source": [
    "Podemos seleccioanr variables:"
   ]
  },
  {
   "cell_type": "code",
   "execution_count": 306,
   "metadata": {},
   "outputs": [
    {
     "name": "stdout",
     "output_type": "stream",
     "text": [
      "Precio    10\n",
      "Name: (Frutas, Manzana), dtype: int64\n"
     ]
    }
   ],
   "source": [
    "print(df_multi.loc[('Frutas', 'Manzana')])  # Accede solo a \"Manzana\"\n"
   ]
  },
  {
   "cell_type": "markdown",
   "metadata": {},
   "source": [
    "Creemos un multiindex para la base de datos iris:"
   ]
  },
  {
   "cell_type": "code",
   "execution_count": null,
   "metadata": {},
   "outputs": [
    {
     "name": "stdout",
     "output_type": "stream",
     "text": [
      "                    sepal_length  sepal_width  petal_length  petal_width\n",
      "species   sequence                                                      \n",
      "setosa    0                  5.1          3.5           1.4          0.2\n",
      "          1                  4.9          3.0           1.4          0.2\n",
      "          2                  4.7          3.2           1.3          0.2\n",
      "          3                  4.6          3.1           1.5          0.2\n",
      "          4                  5.0          3.6           1.4          0.2\n",
      "...                          ...          ...           ...          ...\n",
      "virginica 145                6.7          3.0           5.2          2.3\n",
      "          146                6.3          2.5           5.0          1.9\n",
      "          147                6.5          3.0           5.2          2.0\n",
      "          148                6.2          3.4           5.4          2.3\n",
      "          149                5.9          3.0           5.1          1.8\n",
      "\n",
      "[150 rows x 4 columns]\n"
     ]
    }
   ],
   "source": [
    "# Suponiendo que 'iris' ya es un DataFrame de pandas\n",
    "iris_multiindex = iris.set_index(['species', iris.index])\n",
    "\n",
    "# Renombrar los niveles del índice\n",
    "iris_multiindex.index.names = ['species', 'sequence']\n",
    "\n",
    "# Mostrar el resultado\n",
    "print(iris_multiindex)"
   ]
  },
  {
   "cell_type": "markdown",
   "metadata": {},
   "source": [
    "Observemos el multindex: "
   ]
  },
  {
   "cell_type": "code",
   "execution_count": 320,
   "metadata": {},
   "outputs": [
    {
     "data": {
      "text/plain": [
       "[('setosa', 0),\n",
       " ('setosa', 1),\n",
       " ('setosa', 2),\n",
       " ('setosa', 3),\n",
       " ('setosa', 4),\n",
       " ('setosa', 5),\n",
       " ('setosa', 6),\n",
       " ('setosa', 7),\n",
       " ('setosa', 8),\n",
       " ('setosa', 9),\n",
       " ('setosa', 10),\n",
       " ('setosa', 11),\n",
       " ('setosa', 12),\n",
       " ('setosa', 13),\n",
       " ('setosa', 14),\n",
       " ('setosa', 15),\n",
       " ('setosa', 16),\n",
       " ('setosa', 17),\n",
       " ('setosa', 18),\n",
       " ('setosa', 19),\n",
       " ('setosa', 20),\n",
       " ('setosa', 21),\n",
       " ('setosa', 22),\n",
       " ('setosa', 23),\n",
       " ('setosa', 24),\n",
       " ('setosa', 25),\n",
       " ('setosa', 26),\n",
       " ('setosa', 27),\n",
       " ('setosa', 28),\n",
       " ('setosa', 29),\n",
       " ('setosa', 30),\n",
       " ('setosa', 31),\n",
       " ('setosa', 32),\n",
       " ('setosa', 33),\n",
       " ('setosa', 34),\n",
       " ('setosa', 35),\n",
       " ('setosa', 36),\n",
       " ('setosa', 37),\n",
       " ('setosa', 38),\n",
       " ('setosa', 39),\n",
       " ('setosa', 40),\n",
       " ('setosa', 41),\n",
       " ('setosa', 42),\n",
       " ('setosa', 43),\n",
       " ('setosa', 44),\n",
       " ('setosa', 45),\n",
       " ('setosa', 46),\n",
       " ('setosa', 47),\n",
       " ('setosa', 48),\n",
       " ('setosa', 49),\n",
       " ('versicolor', 50),\n",
       " ('versicolor', 51),\n",
       " ('versicolor', 52),\n",
       " ('versicolor', 53),\n",
       " ('versicolor', 54),\n",
       " ('versicolor', 55),\n",
       " ('versicolor', 56),\n",
       " ('versicolor', 57),\n",
       " ('versicolor', 58),\n",
       " ('versicolor', 59),\n",
       " ('versicolor', 60),\n",
       " ('versicolor', 61),\n",
       " ('versicolor', 62),\n",
       " ('versicolor', 63),\n",
       " ('versicolor', 64),\n",
       " ('versicolor', 65),\n",
       " ('versicolor', 66),\n",
       " ('versicolor', 67),\n",
       " ('versicolor', 68),\n",
       " ('versicolor', 69),\n",
       " ('versicolor', 70),\n",
       " ('versicolor', 71),\n",
       " ('versicolor', 72),\n",
       " ('versicolor', 73),\n",
       " ('versicolor', 74),\n",
       " ('versicolor', 75),\n",
       " ('versicolor', 76),\n",
       " ('versicolor', 77),\n",
       " ('versicolor', 78),\n",
       " ('versicolor', 79),\n",
       " ('versicolor', 80),\n",
       " ('versicolor', 81),\n",
       " ('versicolor', 82),\n",
       " ('versicolor', 83),\n",
       " ('versicolor', 84),\n",
       " ('versicolor', 85),\n",
       " ('versicolor', 86),\n",
       " ('versicolor', 87),\n",
       " ('versicolor', 88),\n",
       " ('versicolor', 89),\n",
       " ('versicolor', 90),\n",
       " ('versicolor', 91),\n",
       " ('versicolor', 92),\n",
       " ('versicolor', 93),\n",
       " ('versicolor', 94),\n",
       " ('versicolor', 95),\n",
       " ('versicolor', 96),\n",
       " ('versicolor', 97),\n",
       " ('versicolor', 98),\n",
       " ('versicolor', 99),\n",
       " ('virginica', 100),\n",
       " ('virginica', 101),\n",
       " ('virginica', 102),\n",
       " ('virginica', 103),\n",
       " ('virginica', 104),\n",
       " ('virginica', 105),\n",
       " ('virginica', 106),\n",
       " ('virginica', 107),\n",
       " ('virginica', 108),\n",
       " ('virginica', 109),\n",
       " ('virginica', 110),\n",
       " ('virginica', 111),\n",
       " ('virginica', 112),\n",
       " ('virginica', 113),\n",
       " ('virginica', 114),\n",
       " ('virginica', 115),\n",
       " ('virginica', 116),\n",
       " ('virginica', 117),\n",
       " ('virginica', 118),\n",
       " ('virginica', 119),\n",
       " ('virginica', 120),\n",
       " ('virginica', 121),\n",
       " ('virginica', 122),\n",
       " ('virginica', 123),\n",
       " ('virginica', 124),\n",
       " ('virginica', 125),\n",
       " ('virginica', 126),\n",
       " ('virginica', 127),\n",
       " ('virginica', 128),\n",
       " ('virginica', 129),\n",
       " ('virginica', 130),\n",
       " ('virginica', 131),\n",
       " ('virginica', 132),\n",
       " ('virginica', 133),\n",
       " ('virginica', 134),\n",
       " ('virginica', 135),\n",
       " ('virginica', 136),\n",
       " ('virginica', 137),\n",
       " ('virginica', 138),\n",
       " ('virginica', 139),\n",
       " ('virginica', 140),\n",
       " ('virginica', 141),\n",
       " ('virginica', 142),\n",
       " ('virginica', 143),\n",
       " ('virginica', 144),\n",
       " ('virginica', 145),\n",
       " ('virginica', 146),\n",
       " ('virginica', 147),\n",
       " ('virginica', 148),\n",
       " ('virginica', 149)]"
      ]
     },
     "execution_count": null,
     "metadata": {},
     "output_type": "execute_result"
    }
   ],
   "source": [
    "iris_multiindex.index.tolist()"
   ]
  },
  {
   "cell_type": "markdown",
   "metadata": {},
   "source": [
    "Podemos filtrar por multiindex:"
   ]
  },
  {
   "cell_type": "code",
   "execution_count": 327,
   "metadata": {},
   "outputs": [
    {
     "data": {
      "text/html": [
       "<div>\n",
       "<style scoped>\n",
       "    .dataframe tbody tr th:only-of-type {\n",
       "        vertical-align: middle;\n",
       "    }\n",
       "\n",
       "    .dataframe tbody tr th {\n",
       "        vertical-align: top;\n",
       "    }\n",
       "\n",
       "    .dataframe thead th {\n",
       "        text-align: right;\n",
       "    }\n",
       "</style>\n",
       "<table border=\"1\" class=\"dataframe\">\n",
       "  <thead>\n",
       "    <tr style=\"text-align: right;\">\n",
       "      <th></th>\n",
       "      <th></th>\n",
       "      <th>sepal_length</th>\n",
       "      <th>sepal_width</th>\n",
       "      <th>petal_length</th>\n",
       "      <th>petal_width</th>\n",
       "    </tr>\n",
       "    <tr>\n",
       "      <th>species</th>\n",
       "      <th>sequence</th>\n",
       "      <th></th>\n",
       "      <th></th>\n",
       "      <th></th>\n",
       "      <th></th>\n",
       "    </tr>\n",
       "  </thead>\n",
       "  <tbody>\n",
       "    <tr>\n",
       "      <th rowspan=\"2\" valign=\"top\">setosa</th>\n",
       "      <th>1</th>\n",
       "      <td>4.9</td>\n",
       "      <td>3.0</td>\n",
       "      <td>1.4</td>\n",
       "      <td>0.2</td>\n",
       "    </tr>\n",
       "    <tr>\n",
       "      <th>3</th>\n",
       "      <td>4.6</td>\n",
       "      <td>3.1</td>\n",
       "      <td>1.5</td>\n",
       "      <td>0.2</td>\n",
       "    </tr>\n",
       "    <tr>\n",
       "      <th>virginica</th>\n",
       "      <th>145</th>\n",
       "      <td>6.7</td>\n",
       "      <td>3.0</td>\n",
       "      <td>5.2</td>\n",
       "      <td>2.3</td>\n",
       "    </tr>\n",
       "  </tbody>\n",
       "</table>\n",
       "</div>"
      ],
      "text/plain": [
       "                    sepal_length  sepal_width  petal_length  petal_width\n",
       "species   sequence                                                      \n",
       "setosa    1                  4.9          3.0           1.4          0.2\n",
       "          3                  4.6          3.1           1.5          0.2\n",
       "virginica 145                6.7          3.0           5.2          2.3"
      ]
     },
     "execution_count": null,
     "metadata": {},
     "output_type": "execute_result"
    }
   ],
   "source": [
    "iris_multiindex.loc[[('setosa', 1), ('setosa', 3), ('virginica', 145)]]"
   ]
  },
  {
   "cell_type": "code",
   "execution_count": null,
   "metadata": {},
   "outputs": [],
   "source": [
    "# Crear un MultiIndex con la especie y la secuencia del índice original\n",
    "iris.set_index(['species', iris.index], inplace=True)\n",
    "\n",
    "# Renombrar los niveles del índice\n",
    "df.index.names = ['species', 'sequence']\n",
    "\n",
    "print(df)"
   ]
  },
  {
   "cell_type": "markdown",
   "metadata": {},
   "source": [
    "# Eliminar variables"
   ]
  },
  {
   "cell_type": "code",
   "execution_count": null,
   "metadata": {},
   "outputs": [
    {
     "name": "stdout",
     "output_type": "stream",
     "text": [
      "     sepal_width  petal_width    species\n",
      "0            3.5          0.2     setosa\n",
      "1            3.0          0.2     setosa\n",
      "2            3.2          0.2     setosa\n",
      "3            3.1          0.2     setosa\n",
      "4            3.6          0.2     setosa\n",
      "..           ...          ...        ...\n",
      "145          3.0          2.3  virginica\n",
      "146          2.5          1.9  virginica\n",
      "147          3.0          2.0  virginica\n",
      "148          3.4          2.3  virginica\n",
      "149          3.0          1.8  virginica\n",
      "\n",
      "[150 rows x 3 columns]\n"
     ]
    }
   ],
   "source": [
    "iris_selected2 = iris.drop(columns=['sepal_length', 'petal_length'])\n",
    "iris_selected2 = iris.drop(['B', 'C'], axis=1)\n",
    "print(iris_selected2)"
   ]
  },
  {
   "cell_type": "markdown",
   "metadata": {},
   "source": [
    "# Duplicados"
   ]
  },
  {
   "cell_type": "code",
   "execution_count": 1,
   "metadata": {},
   "outputs": [
    {
     "name": "stdout",
     "output_type": "stream",
     "text": [
      "   id  valor\n",
      "0   1     10\n",
      "1   2     20\n",
      "3   3     30\n",
      "4   4     40\n"
     ]
    }
   ],
   "source": [
    "import pandas as pd\n",
    "\n",
    "# Ejemplo de DataFrame\n",
    "data = {'id': [1, 2, 2, 3, 4, 4], 'valor': [10, 20, 20, 30, 40, 40]}\n",
    "df = pd.DataFrame(data)\n",
    "\n",
    "# Seleccionar filas donde 'id' no es duplicado\n",
    "df_sin_duplicados = df[~df['id'].duplicated()]\n",
    "print(df_sin_duplicados)"
   ]
  },
  {
   "cell_type": "code",
   "execution_count": 2,
   "metadata": {},
   "outputs": [
    {
     "name": "stdout",
     "output_type": "stream",
     "text": [
      "   id  valor\n",
      "1   2     20\n",
      "2   2     20\n",
      "4   4     40\n",
      "5   4     40\n"
     ]
    }
   ],
   "source": [
    "# Seleccionar todas las filas duplicadas (desde el inicio o desde el final)\n",
    "duplicados = df[df['id'].duplicated(keep='first') | df['id'].duplicated(keep='last')]\n",
    "print(duplicados)"
   ]
  },
  {
   "cell_type": "markdown",
   "metadata": {},
   "source": []
  },
  {
   "cell_type": "code",
   "execution_count": 3,
   "metadata": {},
   "outputs": [],
   "source": [
    "# Eliminar duplicados considerando solo la primera aparición\n",
    "df_sin_duplicados = df.drop_duplicates(subset='id', keep='first')\n",
    "\n",
    "# Eliminar duplicados sin mantener ninguna aparición\n",
    "df_sin_repetidos = df.drop_duplicates(subset='id', keep=False)\n"
   ]
  },
  {
   "cell_type": "code",
   "execution_count": 4,
   "metadata": {},
   "outputs": [
    {
     "name": "stdout",
     "output_type": "stream",
     "text": [
      "   id  valor\n",
      "0   1     10\n",
      "1   2     20\n",
      "3   3     30\n",
      "4   4     40\n"
     ]
    }
   ],
   "source": [
    "print(df_sin_duplicados)"
   ]
  },
  {
   "cell_type": "code",
   "execution_count": null,
   "metadata": {},
   "outputs": [],
   "source": [
    "iris_summary = iris.groupby('species', as_index=False).agg(prom_sepalLengthSpecie=('sepal_length', 'mean'))"
   ]
  },
  {
   "cell_type": "code",
   "execution_count": null,
   "metadata": {},
   "outputs": [
    {
     "name": "stdout",
     "output_type": "stream",
     "text": [
      "      species  prom_sepalLengthSpecie  mediana_sepalLengthSpecie  prom_sepalWidthSpecie  mediana_sepalWidthSpecie\n",
      "0      setosa                   5.006                        5.0                  3.428                       3.4\n",
      "1  versicolor                   5.936                        5.9                  2.770                       2.8\n",
      "2   virginica                   6.588                        6.5                  2.974                       3.0\n"
     ]
    }
   ],
   "source": [
    "# Agrupar por 'species' y calcular media y mediana para sepal_length y sepal_width\n",
    "iris_summary = iris.groupby('species', as_index=False).agg(\n",
    "    prom_sepalLengthSpecie=('sepal_length', 'mean'),\n",
    "    mediana_sepalLengthSpecie=('sepal_length', 'median'),\n",
    "    prom_sepalWidthSpecie=('sepal_width', 'mean'),\n",
    "    mediana_sepalWidthSpecie=('sepal_width', 'median')\n",
    ")\n",
    "\n",
    "print(iris_summary)"
   ]
  },
  {
   "cell_type": "markdown",
   "metadata": {},
   "source": [
    "# Trasnformación"
   ]
  },
  {
   "cell_type": "markdown",
   "metadata": {},
   "source": [
    "Crear un consecutivo:"
   ]
  },
  {
   "cell_type": "code",
   "execution_count": 15,
   "metadata": {},
   "outputs": [
    {
     "name": "stdout",
     "output_type": "stream",
     "text": [
      "  nombre  id\n",
      "0    Ana   1\n",
      "1   Luis   2\n",
      "2  María   3\n",
      "3   Juan   4\n"
     ]
    }
   ],
   "source": [
    "import pandas as pd\n",
    "\n",
    "# Crear un DataFrame de ejemplo\n",
    "data = {'nombre': ['Ana', 'Luis', 'María', 'Juan']}\n",
    "df = pd.DataFrame(data)\n",
    "\n",
    "# Crear una columna con números consecutivos\n",
    "df['id'] = range(1, len(df) + 1)  # Desde 1 hasta el número de filas\n",
    "\n",
    "print(df)\n"
   ]
  },
  {
   "cell_type": "markdown",
   "metadata": {},
   "source": [
    "Crear el índice de masa corporal:"
   ]
  },
  {
   "cell_type": "code",
   "execution_count": 16,
   "metadata": {},
   "outputs": [
    {
     "name": "stdout",
     "output_type": "stream",
     "text": [
      "  nombre  peso  altura        imc\n",
      "0    Ana    60    1.65  22.038567\n",
      "1   Luis    75    1.80  23.148148\n",
      "2  María    55    1.55  22.892820\n",
      "3   Juan    80    1.75  26.122449\n"
     ]
    }
   ],
   "source": [
    "# Crear un DataFrame de ejemplo\n",
    "data = {'nombre': ['Ana', 'Luis', 'María', 'Juan'],\n",
    "        'peso': [60, 75, 55, 80],\n",
    "        'altura': [1.65, 1.80, 1.55, 1.75]}\n",
    "df = pd.DataFrame(data)\n",
    "\n",
    "# Calcular el IMC y agregarlo como nueva columna\n",
    "df['imc'] = df['peso'] / (df['altura'] ** 2)\n",
    "\n",
    "print(df)"
   ]
  },
  {
   "cell_type": "markdown",
   "metadata": {},
   "source": [
    "Crear el ingreso total:"
   ]
  },
  {
   "cell_type": "code",
   "execution_count": 17,
   "metadata": {},
   "outputs": [
    {
     "name": "stdout",
     "output_type": "stream",
     "text": [
      "   ingreso_suscripcion  ingreso_publicidad  ingreso_total\n",
      "0                  500                 300            800\n",
      "1                  600                 400           1000\n",
      "2                  700                 500           1200\n"
     ]
    }
   ],
   "source": [
    "# Crear un DataFrame de ejemplo\n",
    "data = {'ingreso_suscripcion': [500, 600, 700],\n",
    "        'ingreso_publicidad': [300, 400, 500]}\n",
    "df = pd.DataFrame(data)\n",
    "\n",
    "# Calcular el ingreso total\n",
    "df['ingreso_total'] = df['ingreso_suscripcion'] + df['ingreso_publicidad']\n",
    "\n",
    "print(df)"
   ]
  },
  {
   "cell_type": "markdown",
   "metadata": {},
   "source": [
    "Usar assign para cálculos similares:"
   ]
  },
  {
   "cell_type": "code",
   "execution_count": 21,
   "metadata": {},
   "outputs": [
    {
     "name": "stdout",
     "output_type": "stream",
     "text": [
      "   a  b  c  d\n",
      "0  1  4  5  2\n",
      "1  2  5  7  4\n",
      "2  3  6  9  6\n"
     ]
    }
   ],
   "source": [
    "import pandas as pd\n",
    "\n",
    "# DataFrame inicial\n",
    "df = pd.DataFrame({'a': [1, 2, 3], 'b': [4, 5, 6]})\n",
    "\n",
    "# Crear nuevas columnas con assign\n",
    "df_nuevo = df.assign(c=df['a'] + df['b'], d=df['a'] * 2)\n",
    "\n",
    "print(df_nuevo)\n"
   ]
  },
  {
   "cell_type": "code",
   "execution_count": 20,
   "metadata": {},
   "outputs": [
    {
     "name": "stdout",
     "output_type": "stream",
     "text": [
      "   ingreso_suscripcion  ingreso_publicidad  ingreso_total\n",
      "0                  500                 300            800\n",
      "1                  600                 400           1000\n",
      "2                  700                 500           1200\n"
     ]
    }
   ],
   "source": [
    "df = df.assign(ingreso_total=lambda x: x['ingreso_suscripcion'] + x['ingreso_publicidad'])\n",
    "print(df)"
   ]
  },
  {
   "cell_type": "markdown",
   "metadata": {},
   "source": [
    "Función trasnform sin agrupar:"
   ]
  },
  {
   "cell_type": "code",
   "execution_count": 25,
   "metadata": {},
   "outputs": [
    {
     "name": "stdout",
     "output_type": "stream",
     "text": [
      "   a  b  c  d\n",
      "0  1  4  5  2\n",
      "1  2  5  7  4\n",
      "2  3  6  9  6\n"
     ]
    }
   ],
   "source": [
    "import pandas as pd\n",
    "\n",
    "# DataFrame inicial\n",
    "df = pd.DataFrame({'a': [1, 2, 3], 'b': [4, 5, 6]})\n",
    "\n",
    "# Crear nuevas columnas\n",
    "df['c'] = df.apply(lambda x: x['a'] + x['b'], axis=1)  # Suma de 'a' y 'b'\n",
    "df['d'] = df['a'].transform(lambda x: x * 2)          # Doble de 'a'\n",
    "\n",
    "print(df)\n"
   ]
  },
  {
   "cell_type": "markdown",
   "metadata": {},
   "source": [
    "# Transformación agrupada"
   ]
  },
  {
   "cell_type": "code",
   "execution_count": 28,
   "metadata": {},
   "outputs": [
    {
     "ename": "NameError",
     "evalue": "name 'iris' is not defined",
     "output_type": "error",
     "traceback": [
      "\u001b[1;31m---------------------------------------------------------------------------\u001b[0m\n",
      "\u001b[1;31mNameError\u001b[0m                                 Traceback (most recent call last)\n",
      "Cell \u001b[1;32mIn[28], line 2\u001b[0m\n",
      "\u001b[0;32m      1\u001b[0m \u001b[38;5;66;03m# Aplicar transform() separadamente para cada estadística\u001b[39;00m\n",
      "\u001b[1;32m----> 2\u001b[0m iris[\u001b[38;5;124m'\u001b[39m\u001b[38;5;124mprom_sepalLengthSpecie\u001b[39m\u001b[38;5;124m'\u001b[39m] \u001b[38;5;241m=\u001b[39m iris\u001b[38;5;241m.\u001b[39mgroupby(\u001b[38;5;124m'\u001b[39m\u001b[38;5;124mspecies\u001b[39m\u001b[38;5;124m'\u001b[39m)[\u001b[38;5;124m'\u001b[39m\u001b[38;5;124msepal_length\u001b[39m\u001b[38;5;124m'\u001b[39m]\u001b[38;5;241m.\u001b[39mtransform(\u001b[38;5;124m'\u001b[39m\u001b[38;5;124mmean\u001b[39m\u001b[38;5;124m'\u001b[39m)\n",
      "\u001b[0;32m      3\u001b[0m iris[\u001b[38;5;124m'\u001b[39m\u001b[38;5;124mmediana_sepalLengthSpecie\u001b[39m\u001b[38;5;124m'\u001b[39m] \u001b[38;5;241m=\u001b[39m iris\u001b[38;5;241m.\u001b[39mgroupby(\u001b[38;5;124m'\u001b[39m\u001b[38;5;124mspecies\u001b[39m\u001b[38;5;124m'\u001b[39m)[\u001b[38;5;124m'\u001b[39m\u001b[38;5;124msepal_length\u001b[39m\u001b[38;5;124m'\u001b[39m]\u001b[38;5;241m.\u001b[39mtransform(\u001b[38;5;124m'\u001b[39m\u001b[38;5;124mmedian\u001b[39m\u001b[38;5;124m'\u001b[39m)\n",
      "\u001b[0;32m      4\u001b[0m iris[\u001b[38;5;124m'\u001b[39m\u001b[38;5;124mprom_sepalWidthSpecie\u001b[39m\u001b[38;5;124m'\u001b[39m] \u001b[38;5;241m=\u001b[39m iris\u001b[38;5;241m.\u001b[39mgroupby(\u001b[38;5;124m'\u001b[39m\u001b[38;5;124mspecies\u001b[39m\u001b[38;5;124m'\u001b[39m)[\u001b[38;5;124m'\u001b[39m\u001b[38;5;124msepal_width\u001b[39m\u001b[38;5;124m'\u001b[39m]\u001b[38;5;241m.\u001b[39mtransform(\u001b[38;5;124m'\u001b[39m\u001b[38;5;124mmean\u001b[39m\u001b[38;5;124m'\u001b[39m)\n",
      "\n",
      "\u001b[1;31mNameError\u001b[0m: name 'iris' is not defined"
     ]
    }
   ],
   "source": [
    "# Aplicar transform() separadamente para cada estadística\n",
    "iris['prom_sepalLengthSpecie'] = iris.groupby('species')['sepal_length'].transform('mean')\n",
    "iris['mediana_sepalLengthSpecie'] = iris.groupby('species')['sepal_length'].transform('median')\n",
    "iris['prom_sepalWidthSpecie'] = iris.groupby('species')['sepal_width'].transform('mean')\n",
    "iris['mediana_sepalWidthSpecie'] = iris.groupby('species')['sepal_width'].transform('median')\n",
    "\n",
    "print(iris.head())"
   ]
  },
  {
   "cell_type": "markdown",
   "metadata": {},
   "source": [
    "# Análisis de datos"
   ]
  },
  {
   "cell_type": "code",
   "execution_count": null,
   "metadata": {},
   "outputs": [],
   "source": [
    "\n",
    "import numpy as np\n",
    "import pandas as pd\n"
   ]
  },
  {
   "cell_type": "markdown",
   "metadata": {},
   "source": [
    "    Algunas de las variables, tenures: número de meses que ha tenido el servicio"
   ]
  },
  {
   "cell_type": "code",
   "execution_count": 14,
   "metadata": {},
   "outputs": [],
   "source": [
    "df = pd.read_csv(\"WA_Fn-UseC_-Telco-Customer-Churn.csv\")"
   ]
  },
  {
   "cell_type": "code",
   "execution_count": null,
   "metadata": {},
   "outputs": [],
   "source": [
    "df['TotalCharges'] = pd.to_numeric(df['TotalCharges'], errors='coerce')  # Coerce invalid values to NaN\n"
   ]
  },
  {
   "cell_type": "markdown",
   "metadata": {},
   "source": [
    "# Recodificación en percentiles (cuartiles, deciles, etc):"
   ]
  },
  {
   "cell_type": "markdown",
   "metadata": {},
   "source": [
    "Para efectos de visualización puede ser muy interesante evaluar si existe una relación entre la deserción y la permanencia, para eso crearemos una variable recategorizada, creamos 4 clases:\n",
    "- min - P25\n",
    "- p25 - p50\n",
    "- p50 - p75\n",
    "- p75 max"
   ]
  },
  {
   "cell_type": "markdown",
   "metadata": {},
   "source": []
  },
  {
   "cell_type": "markdown",
   "metadata": {},
   "source": []
  },
  {
   "cell_type": "markdown",
   "metadata": {},
   "source": []
  },
  {
   "cell_type": "markdown",
   "metadata": {},
   "source": []
  },
  {
   "cell_type": "code",
   "execution_count": null,
   "metadata": {},
   "outputs": [
    {
     "data": {
      "text/plain": [
       "array([nan, nan, nan, nan, nan])"
      ]
     },
     "metadata": {},
     "output_type": "display_data"
    }
   ],
   "source": [
    "bins = np.quantile(df['TotalCharges'], np.linspace(0, 1, 5))\n",
    "print(bins)"
   ]
  },
  {
   "cell_type": "markdown",
   "metadata": {},
   "source": [
    "¿Por que pasa lo anterior?, por que hay 11 valores faltantes:"
   ]
  },
  {
   "cell_type": "code",
   "execution_count": null,
   "metadata": {},
   "outputs": [
    {
     "data": {
      "text/plain": [
       "11"
      ]
     },
     "metadata": {},
     "output_type": "display_data"
    }
   ],
   "source": [
    "df['TotalCharges'].isna().sum()"
   ]
  },
  {
   "cell_type": "code",
   "execution_count": null,
   "metadata": {},
   "outputs": [
    {
     "name": "stdout",
     "output_type": "stream",
     "text": [
      "[  18.8     401.45   1397.475  3794.7375 8684.8   ]\n"
     ]
    }
   ],
   "source": [
    "bins = np.quantile(df['TotalCharges'].dropna(), np.linspace(0, 1, 5))\n",
    "print(bins)"
   ]
  },
  {
   "cell_type": "code",
   "execution_count": null,
   "metadata": {},
   "outputs": [
    {
     "name": "stdout",
     "output_type": "stream",
     "text": [
      "TotalChargesR\n",
      "1    1758\n",
      "2    1758\n",
      "3    1758\n",
      "4    1757\n",
      "Name: count, dtype: int64\n"
     ]
    }
   ],
   "source": [
    "# Compute quantile-based bins\n",
    "\n",
    "df['TotalChargesR'] = pd.cut(df['TotalCharges'] , bins=bins, labels=[1, 2, 3, 4], \n",
    "include_lowest=True, right=False)\n",
    "# Verificamos la cantidad:\n",
    "print(df['TotalChargesR'].value_counts())"
   ]
  },
  {
   "cell_type": "code",
   "execution_count": 13,
   "metadata": {},
   "outputs": [
    {
     "ename": "KeyError",
     "evalue": "'TotalChargesR'",
     "output_type": "error",
     "traceback": [
      "\u001b[1;31m---------------------------------------------------------------------------\u001b[0m\n",
      "\u001b[1;31mKeyError\u001b[0m                                  Traceback (most recent call last)\n",
      "Cell \u001b[1;32mIn[13], line 1\u001b[0m\n",
      "\u001b[1;32m----> 1\u001b[0m df\u001b[38;5;241m.\u001b[39mgroupby(\u001b[38;5;124m'\u001b[39m\u001b[38;5;124mTotalChargesR\u001b[39m\u001b[38;5;124m'\u001b[39m)[\u001b[38;5;124m'\u001b[39m\u001b[38;5;124mChurn\u001b[39m\u001b[38;5;124m'\u001b[39m]\u001b[38;5;241m.\u001b[39mapply(\u001b[38;5;28;01mlambda\u001b[39;00m x: (x \u001b[38;5;241m==\u001b[39m \u001b[38;5;124m'\u001b[39m\u001b[38;5;124mYes\u001b[39m\u001b[38;5;124m'\u001b[39m)\u001b[38;5;241m.\u001b[39mmean())\u001b[38;5;241m.\u001b[39mreset_index()\n",
      "\n",
      "File \u001b[1;32m~\\anaconda3\\Lib\\site-packages\\pandas\\core\\frame.py:9183\u001b[0m, in \u001b[0;36mDataFrame.groupby\u001b[1;34m(self, by, axis, level, as_index, sort, group_keys, observed, dropna)\u001b[0m\n",
      "\u001b[0;32m   9180\u001b[0m \u001b[38;5;28;01mif\u001b[39;00m level \u001b[38;5;129;01mis\u001b[39;00m \u001b[38;5;28;01mNone\u001b[39;00m \u001b[38;5;129;01mand\u001b[39;00m by \u001b[38;5;129;01mis\u001b[39;00m \u001b[38;5;28;01mNone\u001b[39;00m:\n",
      "\u001b[0;32m   9181\u001b[0m     \u001b[38;5;28;01mraise\u001b[39;00m \u001b[38;5;167;01mTypeError\u001b[39;00m(\u001b[38;5;124m\"\u001b[39m\u001b[38;5;124mYou have to supply one of \u001b[39m\u001b[38;5;124m'\u001b[39m\u001b[38;5;124mby\u001b[39m\u001b[38;5;124m'\u001b[39m\u001b[38;5;124m and \u001b[39m\u001b[38;5;124m'\u001b[39m\u001b[38;5;124mlevel\u001b[39m\u001b[38;5;124m'\u001b[39m\u001b[38;5;124m\"\u001b[39m)\n",
      "\u001b[1;32m-> 9183\u001b[0m \u001b[38;5;28;01mreturn\u001b[39;00m DataFrameGroupBy(\n",
      "\u001b[0;32m   9184\u001b[0m     obj\u001b[38;5;241m=\u001b[39m\u001b[38;5;28mself\u001b[39m,\n",
      "\u001b[0;32m   9185\u001b[0m     keys\u001b[38;5;241m=\u001b[39mby,\n",
      "\u001b[0;32m   9186\u001b[0m     axis\u001b[38;5;241m=\u001b[39maxis,\n",
      "\u001b[0;32m   9187\u001b[0m     level\u001b[38;5;241m=\u001b[39mlevel,\n",
      "\u001b[0;32m   9188\u001b[0m     as_index\u001b[38;5;241m=\u001b[39mas_index,\n",
      "\u001b[0;32m   9189\u001b[0m     sort\u001b[38;5;241m=\u001b[39msort,\n",
      "\u001b[0;32m   9190\u001b[0m     group_keys\u001b[38;5;241m=\u001b[39mgroup_keys,\n",
      "\u001b[0;32m   9191\u001b[0m     observed\u001b[38;5;241m=\u001b[39mobserved,\n",
      "\u001b[0;32m   9192\u001b[0m     dropna\u001b[38;5;241m=\u001b[39mdropna,\n",
      "\u001b[0;32m   9193\u001b[0m )\n",
      "\n",
      "File \u001b[1;32m~\\anaconda3\\Lib\\site-packages\\pandas\\core\\groupby\\groupby.py:1329\u001b[0m, in \u001b[0;36mGroupBy.__init__\u001b[1;34m(self, obj, keys, axis, level, grouper, exclusions, selection, as_index, sort, group_keys, observed, dropna)\u001b[0m\n",
      "\u001b[0;32m   1326\u001b[0m \u001b[38;5;28mself\u001b[39m\u001b[38;5;241m.\u001b[39mdropna \u001b[38;5;241m=\u001b[39m dropna\n",
      "\u001b[0;32m   1328\u001b[0m \u001b[38;5;28;01mif\u001b[39;00m grouper \u001b[38;5;129;01mis\u001b[39;00m \u001b[38;5;28;01mNone\u001b[39;00m:\n",
      "\u001b[1;32m-> 1329\u001b[0m     grouper, exclusions, obj \u001b[38;5;241m=\u001b[39m get_grouper(\n",
      "\u001b[0;32m   1330\u001b[0m         obj,\n",
      "\u001b[0;32m   1331\u001b[0m         keys,\n",
      "\u001b[0;32m   1332\u001b[0m         axis\u001b[38;5;241m=\u001b[39maxis,\n",
      "\u001b[0;32m   1333\u001b[0m         level\u001b[38;5;241m=\u001b[39mlevel,\n",
      "\u001b[0;32m   1334\u001b[0m         sort\u001b[38;5;241m=\u001b[39msort,\n",
      "\u001b[0;32m   1335\u001b[0m         observed\u001b[38;5;241m=\u001b[39m\u001b[38;5;28;01mFalse\u001b[39;00m \u001b[38;5;28;01mif\u001b[39;00m observed \u001b[38;5;129;01mis\u001b[39;00m lib\u001b[38;5;241m.\u001b[39mno_default \u001b[38;5;28;01melse\u001b[39;00m observed,\n",
      "\u001b[0;32m   1336\u001b[0m         dropna\u001b[38;5;241m=\u001b[39m\u001b[38;5;28mself\u001b[39m\u001b[38;5;241m.\u001b[39mdropna,\n",
      "\u001b[0;32m   1337\u001b[0m     )\n",
      "\u001b[0;32m   1339\u001b[0m \u001b[38;5;28;01mif\u001b[39;00m observed \u001b[38;5;129;01mis\u001b[39;00m lib\u001b[38;5;241m.\u001b[39mno_default:\n",
      "\u001b[0;32m   1340\u001b[0m     \u001b[38;5;28;01mif\u001b[39;00m \u001b[38;5;28many\u001b[39m(ping\u001b[38;5;241m.\u001b[39m_passed_categorical \u001b[38;5;28;01mfor\u001b[39;00m ping \u001b[38;5;129;01min\u001b[39;00m grouper\u001b[38;5;241m.\u001b[39mgroupings):\n",
      "\n",
      "File \u001b[1;32m~\\anaconda3\\Lib\\site-packages\\pandas\\core\\groupby\\grouper.py:1043\u001b[0m, in \u001b[0;36mget_grouper\u001b[1;34m(obj, key, axis, level, sort, observed, validate, dropna)\u001b[0m\n",
      "\u001b[0;32m   1041\u001b[0m         in_axis, level, gpr \u001b[38;5;241m=\u001b[39m \u001b[38;5;28;01mFalse\u001b[39;00m, gpr, \u001b[38;5;28;01mNone\u001b[39;00m\n",
      "\u001b[0;32m   1042\u001b[0m     \u001b[38;5;28;01melse\u001b[39;00m:\n",
      "\u001b[1;32m-> 1043\u001b[0m         \u001b[38;5;28;01mraise\u001b[39;00m \u001b[38;5;167;01mKeyError\u001b[39;00m(gpr)\n",
      "\u001b[0;32m   1044\u001b[0m \u001b[38;5;28;01melif\u001b[39;00m \u001b[38;5;28misinstance\u001b[39m(gpr, Grouper) \u001b[38;5;129;01mand\u001b[39;00m gpr\u001b[38;5;241m.\u001b[39mkey \u001b[38;5;129;01mis\u001b[39;00m \u001b[38;5;129;01mnot\u001b[39;00m \u001b[38;5;28;01mNone\u001b[39;00m:\n",
      "\u001b[0;32m   1045\u001b[0m     \u001b[38;5;66;03m# Add key to exclusions\u001b[39;00m\n",
      "\u001b[0;32m   1046\u001b[0m     exclusions\u001b[38;5;241m.\u001b[39madd(gpr\u001b[38;5;241m.\u001b[39mkey)\n",
      "\n",
      "\u001b[1;31mKeyError\u001b[0m: 'TotalChargesR'"
     ]
    }
   ],
   "source": [
    "df.groupby('TotalChargesR')['Churn'].apply(lambda x: (x == 'Yes').mean()).reset_index()"
   ]
  },
  {
   "cell_type": "code",
   "execution_count": null,
   "metadata": {},
   "outputs": [
    {
     "name": "stderr",
     "output_type": "stream",
     "text": [
      "<positron-console-cell-64>:2: FutureWarning: The default of observed=False is deprecated and will be changed to True in a future version of pandas. Pass observed=False to retain current behavior or observed=True to adopt the future default and silence this warning.\n"
     ]
    }
   ],
   "source": [
    "# Calcular proporción de desertores en cada cuartil\n",
    "df_summary = df.groupby('TotalChargesR')['Churn'].apply(lambda x: (x == 'Yes').mean()).reset_index()\n",
    "df_summary.columns = ['Quartile', 'ChurnRate']"
   ]
  },
  {
   "cell_type": "markdown",
   "metadata": {},
   "source": []
  },
  {
   "cell_type": "code",
   "execution_count": null,
   "metadata": {},
   "outputs": [
    {
     "data": {
      "image/png": "[encoded data removed]",
      "text/plain": [
       "<Figure size 800x500 with 1 Axes>"
      ]
     },
     "metadata": {},
     "output_type": "display_data"
    }
   ],
   "source": [
    "import matplotlib.pyplot as plt\n",
    "import seaborn as sns\n",
    "import pandas as pd\n",
    "\n",
    "# Datos de ejemplo\n",
    "df_summary = pd.DataFrame({\n",
    "    'Quartile': ['Q1', 'Q2', 'Q3', 'Q4'],\n",
    "    'ChurnRate': [0.50, 0.75, 0.25, 0.40]\n",
    "})\n",
    "\n",
    "# Graficar\n",
    "plt.figure(figsize=(8, 5))\n",
    "\n",
    "# Gráfico de barras corregido\n",
    "sns.barplot(data=df_summary, x='Quartile', y='ChurnRate', hue='Quartile', palette='Blues', legend=False)\n",
    "\n",
    "# Línea de tendencia con plt.plot()\n",
    "x = range(len(df_summary))  # Índices de los cuartiles\n",
    "y = df_summary['ChurnRate']\n",
    "plt.plot(x, y, color='red', linestyle='dashed', marker='o', markersize=6)\n",
    "\n",
    "# Configuración del gráfico\n",
    "plt.title(\"Proporción de Desertores por Cuartil de TotalCharges\")\n",
    "plt.xlabel(\"Cuartil de TotalCharges\")\n",
    "plt.ylabel(\"Proporción de Desertores\")\n",
    "plt.ylim(0, 1)\n",
    "plt.xticks(x, df_summary['Quartile'])\n",
    "plt.show()\n"
   ]
  },
  {
   "cell_type": "code",
   "execution_count": null,
   "metadata": {},
   "outputs": [
    {
     "name": "stdout",
     "output_type": "stream",
     "text": [
      "<class 'pandas.core.frame.DataFrame'>\n",
      "RangeIndex: 7043 entries, 0 to 7042\n",
      "Data columns (total 22 columns):\n",
      " #   Column            Non-Null Count  Dtype   \n",
      "---  ------            --------------  -----   \n",
      " 0   customerID        7043 non-null   object  \n",
      " 1   gender            7043 non-null   object  \n",
      " 2   SeniorCitizen     7043 non-null   int64   \n",
      " 3   Partner           7043 non-null   object  \n",
      " 4   Dependents        7043 non-null   object  \n",
      " 5   tenure            7043 non-null   int64   \n",
      " 6   PhoneService      7043 non-null   object  \n",
      " 7   MultipleLines     7043 non-null   object  \n",
      " 8   InternetService   7043 non-null   object  \n",
      " 9   OnlineSecurity    7043 non-null   object  \n",
      " 10  OnlineBackup      7043 non-null   object  \n",
      " 11  DeviceProtection  7043 non-null   object  \n",
      " 12  TechSupport       7043 non-null   object  \n",
      " 13  StreamingTV       7043 non-null   object  \n",
      " 14  StreamingMovies   7043 non-null   object  \n",
      " 15  Contract          7043 non-null   object  \n",
      " 16  PaperlessBilling  7043 non-null   object  \n",
      " 17  PaymentMethod     7043 non-null   object  \n",
      " 18  MonthlyCharges    7043 non-null   float64 \n",
      " 19  TotalCharges      7032 non-null   float64 \n",
      " 20  Churn             7043 non-null   object  \n",
      " 21  TotalChargesR     7031 non-null   category\n",
      "dtypes: category(1), float64(2), int64(2), object(17)\n",
      "memory usage: 1.1+ MB\n"
     ]
    }
   ],
   "source": [
    "# Análisis de datos\n",
    "df.info()"
   ]
  },
  {
   "cell_type": "code",
   "execution_count": null,
   "metadata": {},
   "outputs": [
    {
     "data": {
      "text/plain": [
       "0       <class 'str'>\n",
       "1       <class 'str'>\n",
       "2       <class 'str'>\n",
       "3       <class 'str'>\n",
       "4       <class 'str'>\n",
       "            ...      \n",
       "7038    <class 'str'>\n",
       "7039    <class 'str'>\n",
       "7040    <class 'str'>\n",
       "7041    <class 'str'>\n",
       "7042    <class 'str'>\n",
       "Name: Churn, Length: 7043, dtype: object"
      ]
     },
     "metadata": {},
     "output_type": "display_data"
    }
   ],
   "source": [
    "df['Churn'].apply(type)"
   ]
  },
  {
   "cell_type": "code",
   "execution_count": null,
   "metadata": {},
   "outputs": [
    {
     "name": "stdout",
     "output_type": "stream",
     "text": [
      "\n",
      "Columna: customerID\n",
      "customerID\n",
      "<class 'str'>    7043\n",
      "Name: count, dtype: int64\n",
      "\n",
      "Columna: gender\n",
      "gender\n",
      "<class 'str'>    7043\n",
      "Name: count, dtype: int64\n",
      "\n",
      "Columna: SeniorCitizen\n",
      "SeniorCitizen\n",
      "<class 'int'>    7043\n",
      "Name: count, dtype: int64\n",
      "\n",
      "Columna: Partner\n",
      "Partner\n",
      "<class 'str'>    7043\n",
      "Name: count, dtype: int64\n",
      "\n",
      "Columna: Dependents\n",
      "Dependents\n",
      "<class 'str'>    7043\n",
      "Name: count, dtype: int64\n",
      "\n",
      "Columna: tenure\n",
      "tenure\n",
      "<class 'int'>    7043\n",
      "Name: count, dtype: int64\n",
      "\n",
      "Columna: PhoneService\n",
      "PhoneService\n",
      "<class 'str'>    7043\n",
      "Name: count, dtype: int64\n",
      "\n",
      "Columna: MultipleLines\n",
      "MultipleLines\n",
      "<class 'str'>    7043\n",
      "Name: count, dtype: int64\n",
      "\n",
      "Columna: InternetService\n",
      "InternetService\n",
      "<class 'str'>    7043\n",
      "Name: count, dtype: int64\n",
      "\n",
      "Columna: OnlineSecurity\n",
      "OnlineSecurity\n",
      "<class 'str'>    7043\n",
      "Name: count, dtype: int64\n",
      "\n",
      "Columna: OnlineBackup\n",
      "OnlineBackup\n",
      "<class 'str'>    7043\n",
      "Name: count, dtype: int64\n",
      "\n",
      "Columna: DeviceProtection\n",
      "DeviceProtection\n",
      "<class 'str'>    7043\n",
      "Name: count, dtype: int64\n",
      "\n",
      "Columna: TechSupport\n",
      "TechSupport\n",
      "<class 'str'>    7043\n",
      "Name: count, dtype: int64\n",
      "\n",
      "Columna: StreamingTV\n",
      "StreamingTV\n",
      "<class 'str'>    7043\n",
      "Name: count, dtype: int64\n",
      "\n",
      "Columna: StreamingMovies\n",
      "StreamingMovies\n",
      "<class 'str'>    7043\n",
      "Name: count, dtype: int64\n",
      "\n",
      "Columna: Contract\n",
      "Contract\n",
      "<class 'str'>    7043\n",
      "Name: count, dtype: int64\n",
      "\n",
      "Columna: PaperlessBilling\n",
      "PaperlessBilling\n",
      "<class 'str'>    7043\n",
      "Name: count, dtype: int64\n",
      "\n",
      "Columna: PaymentMethod\n",
      "PaymentMethod\n",
      "<class 'str'>    7043\n",
      "Name: count, dtype: int64\n",
      "\n",
      "Columna: MonthlyCharges\n",
      "MonthlyCharges\n",
      "<class 'float'>    7043\n",
      "Name: count, dtype: int64\n",
      "\n",
      "Columna: TotalCharges\n",
      "TotalCharges\n",
      "<class 'float'>    7043\n",
      "Name: count, dtype: int64\n",
      "\n",
      "Columna: Churn\n",
      "Churn\n",
      "<class 'str'>    7043\n",
      "Name: count, dtype: int64\n",
      "\n",
      "Columna: TotalChargesR\n",
      "TotalChargesR\n",
      "<class 'int'>    7031\n",
      "Name: count, dtype: int64\n"
     ]
    }
   ],
   "source": [
    "for col in df.columns:\n",
    "    print(f\"\\nColumna: {col}\")\n",
    "    print(df[col].apply(type).value_counts())"
   ]
  },
  {
   "cell_type": "markdown",
   "metadata": {},
   "source": [
    "Revisemos las columnas que tienen un faltante"
   ]
  },
  {
   "cell_type": "code",
   "execution_count": null,
   "metadata": {},
   "outputs": [
    {
     "name": "stdout",
     "output_type": "stream",
     "text": [
      "Columna: customerID - Faltantes: 0\n",
      "Columna: gender - Faltantes: 0\n",
      "Columna: SeniorCitizen - Faltantes: 0\n",
      "Columna: Partner - Faltantes: 0\n",
      "Columna: Dependents - Faltantes: 0\n",
      "Columna: tenure - Faltantes: 0\n",
      "Columna: PhoneService - Faltantes: 0\n",
      "Columna: MultipleLines - Faltantes: 0\n",
      "Columna: InternetService - Faltantes: 0\n",
      "Columna: OnlineSecurity - Faltantes: 0\n",
      "Columna: OnlineBackup - Faltantes: 0\n",
      "Columna: DeviceProtection - Faltantes: 0\n",
      "Columna: TechSupport - Faltantes: 0\n",
      "Columna: StreamingTV - Faltantes: 0\n",
      "Columna: StreamingMovies - Faltantes: 0\n",
      "Columna: Contract - Faltantes: 0\n",
      "Columna: PaperlessBilling - Faltantes: 0\n",
      "Columna: PaymentMethod - Faltantes: 0\n",
      "Columna: MonthlyCharges - Faltantes: 0\n",
      "Columna: TotalCharges - Faltantes: 11\n",
      "Columna: Churn - Faltantes: 0\n",
      "Columna: TotalChargesR - Faltantes: 12\n"
     ]
    }
   ],
   "source": [
    "for col in df.columns:\n",
    "    print(f\"Columna: {col} - Faltantes: {df[col].isna().sum()}\")\n"
   ]
  },
  {
   "cell_type": "markdown",
   "metadata": {},
   "source": []
  },
  {
   "cell_type": "markdown",
   "metadata": {},
   "source": [
    "Analizamos las variables continuas:"
   ]
  },
  {
   "cell_type": "code",
   "execution_count": null,
   "metadata": {},
   "outputs": [
    {
     "data": {
      "text/html": [
       "<div>\n",
       "<style scoped>\n",
       "    .dataframe tbody tr th:only-of-type {\n",
       "        vertical-align: middle;\n",
       "    }\n",
       "\n",
       "    .dataframe tbody tr th {\n",
       "        vertical-align: top;\n",
       "    }\n",
       "\n",
       "    .dataframe thead th {\n",
       "        text-align: right;\n",
       "    }\n",
       "</style>\n",
       "<table border=\"1\" class=\"dataframe\">\n",
       "  <thead>\n",
       "    <tr style=\"text-align: right;\">\n",
       "      <th></th>\n",
       "      <th>SeniorCitizen</th>\n",
       "      <th>tenure</th>\n",
       "      <th>MonthlyCharges</th>\n",
       "      <th>TotalCharges</th>\n",
       "    </tr>\n",
       "  </thead>\n",
       "  <tbody>\n",
       "    <tr>\n",
       "      <th>count</th>\n",
       "      <td>7043.000000</td>\n",
       "      <td>7043.000000</td>\n",
       "      <td>7043.000000</td>\n",
       "      <td>7032.000000</td>\n",
       "    </tr>\n",
       "    <tr>\n",
       "      <th>mean</th>\n",
       "      <td>0.162147</td>\n",
       "      <td>32.371149</td>\n",
       "      <td>64.761692</td>\n",
       "      <td>2283.300441</td>\n",
       "    </tr>\n",
       "    <tr>\n",
       "      <th>std</th>\n",
       "      <td>0.368612</td>\n",
       "      <td>24.559481</td>\n",
       "      <td>30.090047</td>\n",
       "      <td>2266.771362</td>\n",
       "    </tr>\n",
       "    <tr>\n",
       "      <th>min</th>\n",
       "      <td>0.000000</td>\n",
       "      <td>0.000000</td>\n",
       "      <td>18.250000</td>\n",
       "      <td>18.800000</td>\n",
       "    </tr>\n",
       "    <tr>\n",
       "      <th>25%</th>\n",
       "      <td>0.000000</td>\n",
       "      <td>9.000000</td>\n",
       "      <td>35.500000</td>\n",
       "      <td>401.450000</td>\n",
       "    </tr>\n",
       "    <tr>\n",
       "      <th>50%</th>\n",
       "      <td>0.000000</td>\n",
       "      <td>29.000000</td>\n",
       "      <td>70.350000</td>\n",
       "      <td>1397.475000</td>\n",
       "    </tr>\n",
       "    <tr>\n",
       "      <th>75%</th>\n",
       "      <td>0.000000</td>\n",
       "      <td>55.000000</td>\n",
       "      <td>89.850000</td>\n",
       "      <td>3794.737500</td>\n",
       "    </tr>\n",
       "    <tr>\n",
       "      <th>max</th>\n",
       "      <td>1.000000</td>\n",
       "      <td>72.000000</td>\n",
       "      <td>118.750000</td>\n",
       "      <td>8684.800000</td>\n",
       "    </tr>\n",
       "  </tbody>\n",
       "</table>\n",
       "</div>"
      ],
      "text/plain": [
       "       SeniorCitizen       tenure  MonthlyCharges  TotalCharges\n",
       "count    7043.000000  7043.000000     7043.000000   7032.000000\n",
       "mean        0.162147    32.371149       64.761692   2283.300441\n",
       "std         0.368612    24.559481       30.090047   2266.771362\n",
       "min         0.000000     0.000000       18.250000     18.800000\n",
       "25%         0.000000     9.000000       35.500000    401.450000\n",
       "50%         0.000000    29.000000       70.350000   1397.475000\n",
       "75%         0.000000    55.000000       89.850000   3794.737500\n",
       "max         1.000000    72.000000      118.750000   8684.800000"
      ]
     },
     "metadata": {},
     "output_type": "display_data"
    }
   ],
   "source": [
    "df.describe()"
   ]
  },
  {
   "cell_type": "markdown",
   "metadata": {},
   "source": [
    "Sacar las variables categóricas:"
   ]
  },
  {
   "cell_type": "code",
   "execution_count": null,
   "metadata": {},
   "outputs": [
    {
     "data": {
      "text/html": [
       "<div>\n",
       "<style scoped>\n",
       "    .dataframe tbody tr th:only-of-type {\n",
       "        vertical-align: middle;\n",
       "    }\n",
       "\n",
       "    .dataframe tbody tr th {\n",
       "        vertical-align: top;\n",
       "    }\n",
       "\n",
       "    .dataframe thead th {\n",
       "        text-align: right;\n",
       "    }\n",
       "</style>\n",
       "<table border=\"1\" class=\"dataframe\">\n",
       "  <thead>\n",
       "    <tr style=\"text-align: right;\">\n",
       "      <th></th>\n",
       "      <th>customerID</th>\n",
       "      <th>gender</th>\n",
       "      <th>Partner</th>\n",
       "      <th>Dependents</th>\n",
       "      <th>PhoneService</th>\n",
       "      <th>MultipleLines</th>\n",
       "      <th>InternetService</th>\n",
       "      <th>OnlineSecurity</th>\n",
       "      <th>OnlineBackup</th>\n",
       "      <th>DeviceProtection</th>\n",
       "      <th>TechSupport</th>\n",
       "      <th>StreamingTV</th>\n",
       "      <th>StreamingMovies</th>\n",
       "      <th>Contract</th>\n",
       "      <th>PaperlessBilling</th>\n",
       "      <th>PaymentMethod</th>\n",
       "      <th>Churn</th>\n",
       "    </tr>\n",
       "  </thead>\n",
       "  <tbody>\n",
       "    <tr>\n",
       "      <th>count</th>\n",
       "      <td>7043</td>\n",
       "      <td>7043</td>\n",
       "      <td>7043</td>\n",
       "      <td>7043</td>\n",
       "      <td>7043</td>\n",
       "      <td>7043</td>\n",
       "      <td>7043</td>\n",
       "      <td>7043</td>\n",
       "      <td>7043</td>\n",
       "      <td>7043</td>\n",
       "      <td>7043</td>\n",
       "      <td>7043</td>\n",
       "      <td>7043</td>\n",
       "      <td>7043</td>\n",
       "      <td>7043</td>\n",
       "      <td>7043</td>\n",
       "      <td>7043</td>\n",
       "    </tr>\n",
       "    <tr>\n",
       "      <th>unique</th>\n",
       "      <td>7043</td>\n",
       "      <td>2</td>\n",
       "      <td>2</td>\n",
       "      <td>2</td>\n",
       "      <td>2</td>\n",
       "      <td>3</td>\n",
       "      <td>3</td>\n",
       "      <td>3</td>\n",
       "      <td>3</td>\n",
       "      <td>3</td>\n",
       "      <td>3</td>\n",
       "      <td>3</td>\n",
       "      <td>3</td>\n",
       "      <td>3</td>\n",
       "      <td>2</td>\n",
       "      <td>4</td>\n",
       "      <td>2</td>\n",
       "    </tr>\n",
       "    <tr>\n",
       "      <th>top</th>\n",
       "      <td>7590-VHVEG</td>\n",
       "      <td>Male</td>\n",
       "      <td>No</td>\n",
       "      <td>No</td>\n",
       "      <td>Yes</td>\n",
       "      <td>No</td>\n",
       "      <td>Fiber optic</td>\n",
       "      <td>No</td>\n",
       "      <td>No</td>\n",
       "      <td>No</td>\n",
       "      <td>No</td>\n",
       "      <td>No</td>\n",
       "      <td>No</td>\n",
       "      <td>Month-to-month</td>\n",
       "      <td>Yes</td>\n",
       "      <td>Electronic check</td>\n",
       "      <td>No</td>\n",
       "    </tr>\n",
       "    <tr>\n",
       "      <th>freq</th>\n",
       "      <td>1</td>\n",
       "      <td>3555</td>\n",
       "      <td>3641</td>\n",
       "      <td>4933</td>\n",
       "      <td>6361</td>\n",
       "      <td>3390</td>\n",
       "      <td>3096</td>\n",
       "      <td>3498</td>\n",
       "      <td>3088</td>\n",
       "      <td>3095</td>\n",
       "      <td>3473</td>\n",
       "      <td>2810</td>\n",
       "      <td>2785</td>\n",
       "      <td>3875</td>\n",
       "      <td>4171</td>\n",
       "      <td>2365</td>\n",
       "      <td>5174</td>\n",
       "    </tr>\n",
       "  </tbody>\n",
       "</table>\n",
       "</div>"
      ],
      "text/plain": [
       "        customerID gender Partner Dependents  ...        Contract PaperlessBilling     PaymentMethod Churn\n",
       "count         7043   7043    7043       7043  ...            7043             7043              7043  7043\n",
       "unique        7043      2       2          2  ...               3                2                 4     2\n",
       "top     7590-VHVEG   Male      No         No  ...  Month-to-month              Yes  Electronic check    No\n",
       "freq             1   3555    3641       4933  ...            3875             4171              2365  5174\n",
       "\n",
       "[4 rows x 17 columns]"
      ]
     },
     "metadata": {},
     "output_type": "display_data"
    }
   ],
   "source": [
    "df.describe(include='object')\n"
   ]
  },
  {
   "cell_type": "markdown",
   "metadata": {},
   "source": [
    "<!-- # Algunas lecturas sugeridas\n",
    "- https://log.schemescape.com/posts/programming-languages/python-as-a-modern-basic.html -->"
   ]
  },
  {
   "cell_type": "markdown",
   "metadata": {},
   "source": [
    "# Algunas lecturas sugeridas"
   ]
  },
  {
   "cell_type": "markdown",
   "metadata": {},
   "source": [
    "- https://log.schemescape.com/posts/programming-languages/python-as-a-modern-basic.html"
   ]
  },
  {
   "cell_type": "markdown",
   "metadata": {},
   "source": []
  },
  {
   "cell_type": "markdown",
   "metadata": {},
   "source": []
  },
  {
   "cell_type": "markdown",
   "metadata": {},
   "source": [
    "Revisemos la versión de pandas:"
   ]
  },
  {
   "cell_type": "code",
   "execution_count": null,
   "metadata": {},
   "outputs": [
    {
     "name": "stdout",
     "output_type": "stream",
     "text": [
      "2.2.2\n"
     ]
    }
   ],
   "source": [
    "print(pd.__version__)\n"
   ]
  },
  {
   "cell_type": "markdown",
   "metadata": {},
   "source": []
  },
  {
   "cell_type": "markdown",
   "metadata": {},
   "source": [
    "# Pandas"
   ]
  },
  {
   "cell_type": "code",
   "execution_count": 143,
   "metadata": {},
   "outputs": [
    {
     "name": "stdout",
     "output_type": "stream",
     "text": [
      "   sepal_length  sepal_width  petal_length  petal_width species  prom_sepalLengthSpecie\n",
      "0           5.1          3.5           1.4          0.2  setosa                   5.006\n",
      "1           4.9          3.0           1.4          0.2  setosa                   5.006\n",
      "2           4.7          3.2           1.3          0.2  setosa                   5.006\n",
      "3           4.6          3.1           1.5          0.2  setosa                   5.006\n",
      "4           5.0          3.6           1.4          0.2  setosa                   5.006\n"
     ]
    }
   ],
   "source": [
    "import pandas as pd\n",
    "from seaborn import load_dataset\n",
    "\n",
    "# Cargar el dataset de iris\n",
    "iris = load_dataset(\"iris\")\n",
    "\n",
    "# Renombrar columnas para reemplazar '.' por '_'\n",
    "iris.columns = iris.columns.str.replace('.', '_', regex=False)\n",
    "\n",
    "# Calcular el promedio de sepal_length dentro de cada especie y agregarlo como nueva columna\n",
    "iris['prom_sepalLengthSpecie'] = iris.groupby('species')['sepal_length'].transform('mean')\n",
    "\n",
    "print(iris.head())\n"
   ]
  },
  {
   "cell_type": "code",
   "execution_count": null,
   "metadata": {},
   "outputs": [
    {
     "name": "stdout",
     "output_type": "stream",
     "text": [
      "2024-01-14\n",
      "2024-01-14\n"
     ]
    }
   ],
   "source": [
    "from datetime import datetime, date, timedelta\n",
    "fecha1 = date(2024, 1, 14)\n",
    "fecha2 = datetime.strptime(\"14-01-2024\", \"%d-%m-%Y\").date() \n",
    "print(fecha1)\n",
    "print(fecha2)\n"
   ]
  },
  {
   "cell_type": "code",
   "execution_count": null,
   "metadata": {},
   "outputs": [],
   "source": []
  },
  {
   "cell_type": "markdown",
   "metadata": {},
   "source": [
    "# Agrupación"
   ]
  },
  {
   "cell_type": "code",
   "execution_count": 149,
   "metadata": {},
   "outputs": [],
   "source": [
    "iris_summary = iris.groupby('species', as_index=False).agg(prom_sepalLengthSpecie=('sepal_length', 'mean'))\n"
   ]
  },
  {
   "cell_type": "code",
   "execution_count": 145,
   "metadata": {},
   "outputs": [
    {
     "name": "stdout",
     "output_type": "stream",
     "text": [
      "      species  prom_sepalLengthSpecie  mediana_sepalLengthSpecie  prom_sepalWidthSpecie  mediana_sepalWidthSpecie\n",
      "0      setosa                   5.006                        5.0                  3.428                       3.4\n",
      "1  versicolor                   5.936                        5.9                  2.770                       2.8\n",
      "2   virginica                   6.588                        6.5                  2.974                       3.0\n"
     ]
    }
   ],
   "source": [
    "# Agrupar por 'species' y calcular media y mediana para sepal_length y sepal_width\n",
    "iris_summary = iris.groupby('species', as_index=False).agg(\n",
    "    prom_sepalLengthSpecie=('sepal_length', 'mean'),\n",
    "    mediana_sepalLengthSpecie=('sepal_length', 'median'),\n",
    "    prom_sepalWidthSpecie=('sepal_width', 'mean'),\n",
    "    mediana_sepalWidthSpecie=('sepal_width', 'median')\n",
    ")\n",
    "\n",
    "print(iris_summary)"
   ]
  },
  {
   "cell_type": "markdown",
   "metadata": {},
   "source": [
    "# Transformación agrupada"
   ]
  },
  {
   "cell_type": "code",
   "execution_count": 147,
   "metadata": {},
   "outputs": [
    {
     "name": "stdout",
     "output_type": "stream",
     "text": [
      "   sepal_length  sepal_width  petal_length  ...  mediana_sepalLengthSpecie prom_sepalWidthSpecie  mediana_sepalWidthSpecie\n",
      "0           5.1          3.5           1.4  ...                        5.0                 3.428                       3.4\n",
      "1           4.9          3.0           1.4  ...                        5.0                 3.428                       3.4\n",
      "2           4.7          3.2           1.3  ...                        5.0                 3.428                       3.4\n",
      "3           4.6          3.1           1.5  ...                        5.0                 3.428                       3.4\n",
      "4           5.0          3.6           1.4  ...                        5.0                 3.428                       3.4\n",
      "\n",
      "[5 rows x 9 columns]\n"
     ]
    }
   ],
   "source": [
    "# Aplicar transform() separadamente para cada estadística\n",
    "iris['prom_sepalLengthSpecie'] = iris.groupby('species')['sepal_length'].transform('mean')\n",
    "iris['mediana_sepalLengthSpecie'] = iris.groupby('species')['sepal_length'].transform('median')\n",
    "iris['prom_sepalWidthSpecie'] = iris.groupby('species')['sepal_width'].transform('mean')\n",
    "iris['mediana_sepalWidthSpecie'] = iris.groupby('species')['sepal_width'].transform('median')\n",
    "\n",
    "print(iris.head())"
   ]
  },
  {
   "cell_type": "markdown",
   "metadata": {},
   "source": [
    "# Análisis de datos"
   ]
  },
  {
   "cell_type": "code",
   "execution_count": null,
   "metadata": {},
   "outputs": [],
   "source": [
    "\n",
    "import numpy as np\n",
    "import pandas as pd\n"
   ]
  },
  {
   "cell_type": "markdown",
   "metadata": {},
   "source": [
    "    Algunas de las variables, tenures: número de meses que ha tenido el servicio"
   ]
  },
  {
   "cell_type": "code",
   "execution_count": null,
   "metadata": {},
   "outputs": [],
   "source": [
    "df = pd.read_csv(\"WA_Fn-UseC_-Telco-Customer-Churn.csv\")"
   ]
  },
  {
   "cell_type": "code",
   "execution_count": null,
   "metadata": {},
   "outputs": [],
   "source": [
    "df['TotalCharges'] = pd.to_numeric(df['TotalCharges'], errors='coerce')  # Coerce invalid values to NaN\n"
   ]
  },
  {
   "cell_type": "markdown",
   "metadata": {},
   "source": [
    "# Recodificación en percentiles (cuartiles, deciles, etc):"
   ]
  },
  {
   "cell_type": "markdown",
   "metadata": {},
   "source": [
    "Para efectos de visualización puede ser muy interesante evaluar si existe una relación entre la deserción y la permanencia, para eso crearemos una variable recategorizada, creamos 4 clases:\n",
    "- min - P25\n",
    "- p25 - p50\n",
    "- p50 - p75\n",
    "- p75 max"
   ]
  },
  {
   "cell_type": "markdown",
   "metadata": {},
   "source": []
  },
  {
   "cell_type": "markdown",
   "metadata": {},
   "source": []
  },
  {
   "cell_type": "markdown",
   "metadata": {},
   "source": []
  },
  {
   "cell_type": "markdown",
   "metadata": {},
   "source": []
  },
  {
   "cell_type": "code",
   "execution_count": null,
   "metadata": {},
   "outputs": [
    {
     "data": {
      "text/plain": [
       "array([nan, nan, nan, nan, nan])"
      ]
     },
     "execution_count": null,
     "metadata": {},
     "output_type": "execute_result"
    }
   ],
   "source": [
    "bins = np.quantile(df['TotalCharges'], np.linspace(0, 1, 5))\n",
    "print(bins)"
   ]
  },
  {
   "cell_type": "markdown",
   "metadata": {},
   "source": [
    "¿Por que pasa lo anterior?, por que hay 11 valores faltantes:"
   ]
  },
  {
   "cell_type": "code",
   "execution_count": null,
   "metadata": {},
   "outputs": [
    {
     "data": {
      "text/plain": [
       "11"
      ]
     },
     "execution_count": null,
     "metadata": {},
     "output_type": "execute_result"
    }
   ],
   "source": [
    "df['TotalCharges'].isna().sum()"
   ]
  },
  {
   "cell_type": "code",
   "execution_count": null,
   "metadata": {},
   "outputs": [
    {
     "name": "stdout",
     "output_type": "stream",
     "text": [
      "[  18.8     401.45   1397.475  3794.7375 8684.8   ]\n"
     ]
    }
   ],
   "source": [
    "bins = np.quantile(df['TotalCharges'].dropna(), np.linspace(0, 1, 5))\n",
    "print(bins)"
   ]
  },
  {
   "cell_type": "code",
   "execution_count": null,
   "metadata": {},
   "outputs": [
    {
     "name": "stdout",
     "output_type": "stream",
     "text": [
      "TotalChargesR\n",
      "1    1758\n",
      "2    1758\n",
      "3    1758\n",
      "4    1757\n",
      "Name: count, dtype: int64\n"
     ]
    }
   ],
   "source": [
    "# Compute quantile-based bins\n",
    "\n",
    "df['TotalChargesR'] = pd.cut(df['TotalCharges'] , bins=bins, labels=[1, 2, 3, 4], \n",
    "include_lowest=True, right=False)\n",
    "# Verificamos la cantidad:\n",
    "print(df['TotalChargesR'].value_counts())"
   ]
  },
  {
   "cell_type": "code",
   "execution_count": null,
   "metadata": {},
   "outputs": [
    {
     "name": "stderr",
     "output_type": "stream",
     "text": [
      "<positron-console-cell-54>:1: FutureWarning: The default of observed=False is deprecated and will be changed to True in a future version of pandas. Pass observed=False to retain current behavior or observed=True to adopt the future default and silence this warning.\n"
     ]
    },
    {
     "data": {
      "text/html": [
       "<div>\n",
       "<style scoped>\n",
       "    .dataframe tbody tr th:only-of-type {\n",
       "        vertical-align: middle;\n",
       "    }\n",
       "\n",
       "    .dataframe tbody tr th {\n",
       "        vertical-align: top;\n",
       "    }\n",
       "\n",
       "    .dataframe thead th {\n",
       "        text-align: right;\n",
       "    }\n",
       "</style>\n",
       "<table border=\"1\" class=\"dataframe\">\n",
       "  <thead>\n",
       "    <tr style=\"text-align: right;\">\n",
       "      <th></th>\n",
       "      <th>TotalChargesR</th>\n",
       "      <th>Churn</th>\n",
       "    </tr>\n",
       "  </thead>\n",
       "  <tbody>\n",
       "    <tr>\n",
       "      <th>0</th>\n",
       "      <td>1</td>\n",
       "      <td>0.434585</td>\n",
       "    </tr>\n",
       "    <tr>\n",
       "      <th>1</th>\n",
       "      <td>2</td>\n",
       "      <td>0.253129</td>\n",
       "    </tr>\n",
       "    <tr>\n",
       "      <th>2</th>\n",
       "      <td>3</td>\n",
       "      <td>0.230375</td>\n",
       "    </tr>\n",
       "    <tr>\n",
       "      <th>3</th>\n",
       "      <td>4</td>\n",
       "      <td>0.144565</td>\n",
       "    </tr>\n",
       "  </tbody>\n",
       "</table>\n",
       "</div>"
      ],
      "text/plain": [
       "  TotalChargesR     Churn\n",
       "0             1  0.434585\n",
       "1             2  0.253129\n",
       "2             3  0.230375\n",
       "3             4  0.144565"
      ]
     },
     "execution_count": null,
     "metadata": {},
     "output_type": "execute_result"
    }
   ],
   "source": [
    "df.groupby('TotalChargesR')['Churn'].apply(lambda x: (x == 'Yes').mean()).reset_index()"
   ]
  },
  {
   "cell_type": "code",
   "execution_count": null,
   "metadata": {},
   "outputs": [
    {
     "name": "stderr",
     "output_type": "stream",
     "text": [
      "<positron-console-cell-64>:2: FutureWarning: The default of observed=False is deprecated and will be changed to True in a future version of pandas. Pass observed=False to retain current behavior or observed=True to adopt the future default and silence this warning.\n"
     ]
    }
   ],
   "source": [
    "# Calcular proporción de desertores en cada cuartil\n",
    "df_summary = df.groupby('TotalChargesR')['Churn'].apply(lambda x: (x == 'Yes').mean()).reset_index()\n",
    "df_summary.columns = ['Quartile', 'ChurnRate']"
   ]
  },
  {
   "cell_type": "markdown",
   "metadata": {},
   "source": []
  },
  {
   "cell_type": "code",
   "execution_count": null,
   "metadata": {},
   "outputs": [
    {
     "name": "stdout",
     "output_type": "stream",
     "text": [
      "<class 'pandas.core.frame.DataFrame'>\n",
      "RangeIndex: 7043 entries, 0 to 7042\n",
      "Data columns (total 22 columns):\n",
      " #   Column            Non-Null Count  Dtype   \n",
      "---  ------            --------------  -----   \n",
      " 0   customerID        7043 non-null   object  \n",
      " 1   gender            7043 non-null   object  \n",
      " 2   SeniorCitizen     7043 non-null   int64   \n",
      " 3   Partner           7043 non-null   object  \n",
      " 4   Dependents        7043 non-null   object  \n",
      " 5   tenure            7043 non-null   int64   \n",
      " 6   PhoneService      7043 non-null   object  \n",
      " 7   MultipleLines     7043 non-null   object  \n",
      " 8   InternetService   7043 non-null   object  \n",
      " 9   OnlineSecurity    7043 non-null   object  \n",
      " 10  OnlineBackup      7043 non-null   object  \n",
      " 11  DeviceProtection  7043 non-null   object  \n",
      " 12  TechSupport       7043 non-null   object  \n",
      " 13  StreamingTV       7043 non-null   object  \n",
      " 14  StreamingMovies   7043 non-null   object  \n",
      " 15  Contract          7043 non-null   object  \n",
      " 16  PaperlessBilling  7043 non-null   object  \n",
      " 17  PaymentMethod     7043 non-null   object  \n",
      " 18  MonthlyCharges    7043 non-null   float64 \n",
      " 19  TotalCharges      7032 non-null   float64 \n",
      " 20  Churn             7043 non-null   object  \n",
      " 21  TotalChargesR     7031 non-null   category\n",
      "dtypes: category(1), float64(2), int64(2), object(17)\n",
      "memory usage: 1.1+ MB\n"
     ]
    }
   ],
   "source": [
    "# Análisis de datos\n",
    "df.info()"
   ]
  },
  {
   "cell_type": "code",
   "execution_count": null,
   "metadata": {},
   "outputs": [
    {
     "data": {
      "text/plain": [
       "0       <class 'str'>\n",
       "1       <class 'str'>\n",
       "2       <class 'str'>\n",
       "3       <class 'str'>\n",
       "4       <class 'str'>\n",
       "            ...      \n",
       "7038    <class 'str'>\n",
       "7039    <class 'str'>\n",
       "7040    <class 'str'>\n",
       "7041    <class 'str'>\n",
       "7042    <class 'str'>\n",
       "Name: Churn, Length: 7043, dtype: object"
      ]
     },
     "execution_count": null,
     "metadata": {},
     "output_type": "execute_result"
    }
   ],
   "source": [
    "df['Churn'].apply(type)"
   ]
  },
  {
   "cell_type": "code",
   "execution_count": null,
   "metadata": {},
   "outputs": [
    {
     "name": "stdout",
     "output_type": "stream",
     "text": [
      "\n",
      "Columna: customerID\n",
      "customerID\n",
      "<class 'str'>    7043\n",
      "Name: count, dtype: int64\n",
      "\n",
      "Columna: gender\n",
      "gender\n",
      "<class 'str'>    7043\n",
      "Name: count, dtype: int64\n",
      "\n",
      "Columna: SeniorCitizen\n",
      "SeniorCitizen\n",
      "<class 'int'>    7043\n",
      "Name: count, dtype: int64\n",
      "\n",
      "Columna: Partner\n",
      "Partner\n",
      "<class 'str'>    7043\n",
      "Name: count, dtype: int64\n",
      "\n",
      "Columna: Dependents\n",
      "Dependents\n",
      "<class 'str'>    7043\n",
      "Name: count, dtype: int64\n",
      "\n",
      "Columna: tenure\n",
      "tenure\n",
      "<class 'int'>    7043\n",
      "Name: count, dtype: int64\n",
      "\n",
      "Columna: PhoneService\n",
      "PhoneService\n",
      "<class 'str'>    7043\n",
      "Name: count, dtype: int64\n",
      "\n",
      "Columna: MultipleLines\n",
      "MultipleLines\n",
      "<class 'str'>    7043\n",
      "Name: count, dtype: int64\n",
      "\n",
      "Columna: InternetService\n",
      "InternetService\n",
      "<class 'str'>    7043\n",
      "Name: count, dtype: int64\n",
      "\n",
      "Columna: OnlineSecurity\n",
      "OnlineSecurity\n",
      "<class 'str'>    7043\n",
      "Name: count, dtype: int64\n",
      "\n",
      "Columna: OnlineBackup\n",
      "OnlineBackup\n",
      "<class 'str'>    7043\n",
      "Name: count, dtype: int64\n",
      "\n",
      "Columna: DeviceProtection\n",
      "DeviceProtection\n",
      "<class 'str'>    7043\n",
      "Name: count, dtype: int64\n",
      "\n",
      "Columna: TechSupport\n",
      "TechSupport\n",
      "<class 'str'>    7043\n",
      "Name: count, dtype: int64\n",
      "\n",
      "Columna: StreamingTV\n",
      "StreamingTV\n",
      "<class 'str'>    7043\n",
      "Name: count, dtype: int64\n",
      "\n",
      "Columna: StreamingMovies\n",
      "StreamingMovies\n",
      "<class 'str'>    7043\n",
      "Name: count, dtype: int64\n",
      "\n",
      "Columna: Contract\n",
      "Contract\n",
      "<class 'str'>    7043\n",
      "Name: count, dtype: int64\n",
      "\n",
      "Columna: PaperlessBilling\n",
      "PaperlessBilling\n",
      "<class 'str'>    7043\n",
      "Name: count, dtype: int64\n",
      "\n",
      "Columna: PaymentMethod\n",
      "PaymentMethod\n",
      "<class 'str'>    7043\n",
      "Name: count, dtype: int64\n",
      "\n",
      "Columna: MonthlyCharges\n",
      "MonthlyCharges\n",
      "<class 'float'>    7043\n",
      "Name: count, dtype: int64\n",
      "\n",
      "Columna: TotalCharges\n",
      "TotalCharges\n",
      "<class 'float'>    7043\n",
      "Name: count, dtype: int64\n",
      "\n",
      "Columna: Churn\n",
      "Churn\n",
      "<class 'str'>    7043\n",
      "Name: count, dtype: int64\n",
      "\n",
      "Columna: TotalChargesR\n",
      "TotalChargesR\n",
      "<class 'int'>    7031\n",
      "Name: count, dtype: int64\n"
     ]
    }
   ],
   "source": [
    "for col in df.columns:\n",
    "    print(f\"\\nColumna: {col}\")\n",
    "    print(df[col].apply(type).value_counts())"
   ]
  },
  {
   "cell_type": "markdown",
   "metadata": {},
   "source": [
    "Revisemos las columnas que tienen un faltante"
   ]
  },
  {
   "cell_type": "code",
   "execution_count": null,
   "metadata": {},
   "outputs": [
    {
     "name": "stdout",
     "output_type": "stream",
     "text": [
      "Columna: customerID - Faltantes: 0\n",
      "Columna: gender - Faltantes: 0\n",
      "Columna: SeniorCitizen - Faltantes: 0\n",
      "Columna: Partner - Faltantes: 0\n",
      "Columna: Dependents - Faltantes: 0\n",
      "Columna: tenure - Faltantes: 0\n",
      "Columna: PhoneService - Faltantes: 0\n",
      "Columna: MultipleLines - Faltantes: 0\n",
      "Columna: InternetService - Faltantes: 0\n",
      "Columna: OnlineSecurity - Faltantes: 0\n",
      "Columna: OnlineBackup - Faltantes: 0\n",
      "Columna: DeviceProtection - Faltantes: 0\n",
      "Columna: TechSupport - Faltantes: 0\n",
      "Columna: StreamingTV - Faltantes: 0\n",
      "Columna: StreamingMovies - Faltantes: 0\n",
      "Columna: Contract - Faltantes: 0\n",
      "Columna: PaperlessBilling - Faltantes: 0\n",
      "Columna: PaymentMethod - Faltantes: 0\n",
      "Columna: MonthlyCharges - Faltantes: 0\n",
      "Columna: TotalCharges - Faltantes: 11\n",
      "Columna: Churn - Faltantes: 0\n",
      "Columna: TotalChargesR - Faltantes: 12\n"
     ]
    }
   ],
   "source": [
    "for col in df.columns:\n",
    "    print(f\"Columna: {col} - Faltantes: {df[col].isna().sum()}\")\n"
   ]
  },
  {
   "cell_type": "markdown",
   "metadata": {},
   "source": []
  },
  {
   "cell_type": "markdown",
   "metadata": {},
   "source": [
    "Analizamos las variables continuas:"
   ]
  },
  {
   "cell_type": "code",
   "execution_count": null,
   "metadata": {},
   "outputs": [
    {
     "data": {
      "text/html": [
       "<div>\n",
       "<style scoped>\n",
       "    .dataframe tbody tr th:only-of-type {\n",
       "        vertical-align: middle;\n",
       "    }\n",
       "\n",
       "    .dataframe tbody tr th {\n",
       "        vertical-align: top;\n",
       "    }\n",
       "\n",
       "    .dataframe thead th {\n",
       "        text-align: right;\n",
       "    }\n",
       "</style>\n",
       "<table border=\"1\" class=\"dataframe\">\n",
       "  <thead>\n",
       "    <tr style=\"text-align: right;\">\n",
       "      <th></th>\n",
       "      <th>SeniorCitizen</th>\n",
       "      <th>tenure</th>\n",
       "      <th>MonthlyCharges</th>\n",
       "      <th>TotalCharges</th>\n",
       "    </tr>\n",
       "  </thead>\n",
       "  <tbody>\n",
       "    <tr>\n",
       "      <th>count</th>\n",
       "      <td>7043.000000</td>\n",
       "      <td>7043.000000</td>\n",
       "      <td>7043.000000</td>\n",
       "      <td>7032.000000</td>\n",
       "    </tr>\n",
       "    <tr>\n",
       "      <th>mean</th>\n",
       "      <td>0.162147</td>\n",
       "      <td>32.371149</td>\n",
       "      <td>64.761692</td>\n",
       "      <td>2283.300441</td>\n",
       "    </tr>\n",
       "    <tr>\n",
       "      <th>std</th>\n",
       "      <td>0.368612</td>\n",
       "      <td>24.559481</td>\n",
       "      <td>30.090047</td>\n",
       "      <td>2266.771362</td>\n",
       "    </tr>\n",
       "    <tr>\n",
       "      <th>min</th>\n",
       "      <td>0.000000</td>\n",
       "      <td>0.000000</td>\n",
       "      <td>18.250000</td>\n",
       "      <td>18.800000</td>\n",
       "    </tr>\n",
       "    <tr>\n",
       "      <th>25%</th>\n",
       "      <td>0.000000</td>\n",
       "      <td>9.000000</td>\n",
       "      <td>35.500000</td>\n",
       "      <td>401.450000</td>\n",
       "    </tr>\n",
       "    <tr>\n",
       "      <th>50%</th>\n",
       "      <td>0.000000</td>\n",
       "      <td>29.000000</td>\n",
       "      <td>70.350000</td>\n",
       "      <td>1397.475000</td>\n",
       "    </tr>\n",
       "    <tr>\n",
       "      <th>75%</th>\n",
       "      <td>0.000000</td>\n",
       "      <td>55.000000</td>\n",
       "      <td>89.850000</td>\n",
       "      <td>3794.737500</td>\n",
       "    </tr>\n",
       "    <tr>\n",
       "      <th>max</th>\n",
       "      <td>1.000000</td>\n",
       "      <td>72.000000</td>\n",
       "      <td>118.750000</td>\n",
       "      <td>8684.800000</td>\n",
       "    </tr>\n",
       "  </tbody>\n",
       "</table>\n",
       "</div>"
      ],
      "text/plain": [
       "       SeniorCitizen       tenure  MonthlyCharges  TotalCharges\n",
       "count    7043.000000  7043.000000     7043.000000   7032.000000\n",
       "mean        0.162147    32.371149       64.761692   2283.300441\n",
       "std         0.368612    24.559481       30.090047   2266.771362\n",
       "min         0.000000     0.000000       18.250000     18.800000\n",
       "25%         0.000000     9.000000       35.500000    401.450000\n",
       "50%         0.000000    29.000000       70.350000   1397.475000\n",
       "75%         0.000000    55.000000       89.850000   3794.737500\n",
       "max         1.000000    72.000000      118.750000   8684.800000"
      ]
     },
     "execution_count": null,
     "metadata": {},
     "output_type": "execute_result"
    }
   ],
   "source": [
    "df.describe()"
   ]
  },
  {
   "cell_type": "markdown",
   "metadata": {},
   "source": [
    "Sacar las variables categóricas:"
   ]
  },
  {
   "cell_type": "code",
   "execution_count": null,
   "metadata": {},
   "outputs": [
    {
     "data": {
      "text/html": [
       "<div>\n",
       "<style scoped>\n",
       "    .dataframe tbody tr th:only-of-type {\n",
       "        vertical-align: middle;\n",
       "    }\n",
       "\n",
       "    .dataframe tbody tr th {\n",
       "        vertical-align: top;\n",
       "    }\n",
       "\n",
       "    .dataframe thead th {\n",
       "        text-align: right;\n",
       "    }\n",
       "</style>\n",
       "<table border=\"1\" class=\"dataframe\">\n",
       "  <thead>\n",
       "    <tr style=\"text-align: right;\">\n",
       "      <th></th>\n",
       "      <th>customerID</th>\n",
       "      <th>gender</th>\n",
       "      <th>Partner</th>\n",
       "      <th>Dependents</th>\n",
       "      <th>PhoneService</th>\n",
       "      <th>MultipleLines</th>\n",
       "      <th>InternetService</th>\n",
       "      <th>OnlineSecurity</th>\n",
       "      <th>OnlineBackup</th>\n",
       "      <th>DeviceProtection</th>\n",
       "      <th>TechSupport</th>\n",
       "      <th>StreamingTV</th>\n",
       "      <th>StreamingMovies</th>\n",
       "      <th>Contract</th>\n",
       "      <th>PaperlessBilling</th>\n",
       "      <th>PaymentMethod</th>\n",
       "      <th>Churn</th>\n",
       "    </tr>\n",
       "  </thead>\n",
       "  <tbody>\n",
       "    <tr>\n",
       "      <th>count</th>\n",
       "      <td>7043</td>\n",
       "      <td>7043</td>\n",
       "      <td>7043</td>\n",
       "      <td>7043</td>\n",
       "      <td>7043</td>\n",
       "      <td>7043</td>\n",
       "      <td>7043</td>\n",
       "      <td>7043</td>\n",
       "      <td>7043</td>\n",
       "      <td>7043</td>\n",
       "      <td>7043</td>\n",
       "      <td>7043</td>\n",
       "      <td>7043</td>\n",
       "      <td>7043</td>\n",
       "      <td>7043</td>\n",
       "      <td>7043</td>\n",
       "      <td>7043</td>\n",
       "    </tr>\n",
       "    <tr>\n",
       "      <th>unique</th>\n",
       "      <td>7043</td>\n",
       "      <td>2</td>\n",
       "      <td>2</td>\n",
       "      <td>2</td>\n",
       "      <td>2</td>\n",
       "      <td>3</td>\n",
       "      <td>3</td>\n",
       "      <td>3</td>\n",
       "      <td>3</td>\n",
       "      <td>3</td>\n",
       "      <td>3</td>\n",
       "      <td>3</td>\n",
       "      <td>3</td>\n",
       "      <td>3</td>\n",
       "      <td>2</td>\n",
       "      <td>4</td>\n",
       "      <td>2</td>\n",
       "    </tr>\n",
       "    <tr>\n",
       "      <th>top</th>\n",
       "      <td>7590-VHVEG</td>\n",
       "      <td>Male</td>\n",
       "      <td>No</td>\n",
       "      <td>No</td>\n",
       "      <td>Yes</td>\n",
       "      <td>No</td>\n",
       "      <td>Fiber optic</td>\n",
       "      <td>No</td>\n",
       "      <td>No</td>\n",
       "      <td>No</td>\n",
       "      <td>No</td>\n",
       "      <td>No</td>\n",
       "      <td>No</td>\n",
       "      <td>Month-to-month</td>\n",
       "      <td>Yes</td>\n",
       "      <td>Electronic check</td>\n",
       "      <td>No</td>\n",
       "    </tr>\n",
       "    <tr>\n",
       "      <th>freq</th>\n",
       "      <td>1</td>\n",
       "      <td>3555</td>\n",
       "      <td>3641</td>\n",
       "      <td>4933</td>\n",
       "      <td>6361</td>\n",
       "      <td>3390</td>\n",
       "      <td>3096</td>\n",
       "      <td>3498</td>\n",
       "      <td>3088</td>\n",
       "      <td>3095</td>\n",
       "      <td>3473</td>\n",
       "      <td>2810</td>\n",
       "      <td>2785</td>\n",
       "      <td>3875</td>\n",
       "      <td>4171</td>\n",
       "      <td>2365</td>\n",
       "      <td>5174</td>\n",
       "    </tr>\n",
       "  </tbody>\n",
       "</table>\n",
       "</div>"
      ],
      "text/plain": [
       "        customerID gender Partner Dependents  ...        Contract PaperlessBilling     PaymentMethod Churn\n",
       "count         7043   7043    7043       7043  ...            7043             7043              7043  7043\n",
       "unique        7043      2       2          2  ...               3                2                 4     2\n",
       "top     7590-VHVEG   Male      No         No  ...  Month-to-month              Yes  Electronic check    No\n",
       "freq             1   3555    3641       4933  ...            3875             4171              2365  5174\n",
       "\n",
       "[4 rows x 17 columns]"
      ]
     },
     "execution_count": null,
     "metadata": {},
     "output_type": "execute_result"
    }
   ],
   "source": [
    "df.describe(include='object')\n"
   ]
  },
  {
   "cell_type": "markdown",
   "metadata": {},
   "source": [
    "<!-- # Algunas lecturas sugeridas\n",
    "- https://log.schemescape.com/posts/programming-languages/python-as-a-modern-basic.html -->"
   ]
  },
  {
   "cell_type": "markdown",
   "metadata": {},
   "source": [
    "# Algunas lecturas sugeridas y videos"
   ]
  },
  {
   "cell_type": "markdown",
   "metadata": {},
   "source": [
    "- https://log.schemescape.com/posts/programming-languages/python-as-a-modern-basic.html\n",
    "- https://www.youtube.com/watch?v=LN2NbUkuddA\n",
    "-  \n"
   ]
  }
 ],
 "metadata": {
  "language_info": {
   "name": "python"
  }
 },
 "nbformat": 4,
 "nbformat_minor": 2
}
