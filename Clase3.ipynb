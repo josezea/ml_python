{
 "cells": [
  {
   "cell_type": "code",
   "execution_count": null,
   "metadata": {},
   "outputs": [],
   "source": [
    "from pathlib import Path\n",
    "import pandas as pd\n",
    "import tarfile\n",
    "import urllib.request\n",
    "def load_housing_data():\n",
    "tarball_path = Path(\"datasets/housing.tgz\")\n",
    "if not tarball_path.is_file():\n",
    "Path(\"datasets\").mkdir(parents=True, exist_ok=True)\n",
    "url = \"https://github.com/ageron/data/raw/main/housing.tgz\"\n",
    "urllib.request.urlretrieve(url, tarball_path)\n",
    "with tarfile.open(tarball_path) as housing_tarball:\n",
    "housing_tarball.extractall(path=\"datasets\")\n",
    "return pd.read_csv(Path(\"datasets/housing/housing.csv\"))"
   ]
  }
 ],
 "metadata": {
  "language_info": {
   "name": "python"
  }
 },
 "nbformat": 4,
 "nbformat_minor": 2
}
