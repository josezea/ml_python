{
 "cells": [
  {
   "cell_type": "markdown",
   "metadata": {},
   "source": [
    "# Regresión logística"
   ]
  },
  {
   "cell_type": "markdown",
   "metadata": {},
   "source": [
    "# Dataset: Breast Cancer Wisconsin (Diagnostic)\n",
    "\n",
    "## Descripción General\n",
    "**Nombre**: Breast Cancer Wisconsin Diagnostic Dataset  \n",
    "**Tipo**: Dataset de clasificación médica binaria  \n",
    "**Origen**: Universidad de Wisconsin, Hospitales de Madison (1995)  \n",
    "**Muestras**: 569 casos (212 malignos/357 benignos)  \n",
    "**Características**: 30 atributos numéricos  \n",
    "**Distribución**: 62.7% benignos, 37.3% malignos  \n",
    "\n",
    "## Estructura\n",
    "```python\n",
    "from sklearn.datasets import load_breast_cancer\n",
    "data = load_breast_cancer()\n",
    "# Claves: ['data', 'target', 'feature_names', 'target_names', 'DESCR', 'filename']"
   ]
  },
  {
   "cell_type": "markdown",
   "metadata": {},
   "source": [
    "# Descripción detallada de las variables del dataset Breast Cancer Wisconsin\n",
    "\n",
    "## Variables objetivo\n",
    "| Nombre | Valor | Descripción | Tipo | Distribución |\n",
    "|--------|-------|-------------|------|--------------|\n",
    "| target | 0 | Tumor maligno (canceroso) | Binario | 212 casos (37.3%) |\n",
    "| target | 1 | Tumor benigno (no canceroso) | Binario | 357 casos (62.7%) |\n",
    "\n",
    "## Variables predictoras (30 características numéricas)\n",
    "Todas las características representan medidas de núcleos celulares y se agrupan en:\n",
    "\n",
    "### 1. Medidas de tendencia central (mean)\n",
    "| Nombre | Descripción | Unidad | Rango típico |\n",
    "|--------|-------------|--------|--------------|\n",
    "| mean radius | Radio promedio de los núcleos | píxeles | 6-28 |\n",
    "| mean texture | Desviación estándar de los valores de escala de grises | adimensional | 9-40 |\n",
    "| mean perimeter | Perímetro promedio de los núcleos | píxeles | 43-190 |\n",
    "| mean area | Área promedio de los núcleos | píxeles² | 143-2500 |\n",
    "| mean smoothness | Variación local en longitudes de radio | adimensional | 0.05-0.16 |\n",
    "| mean compactness | Perímetro²/área - 1.0 | adimensional | 0.02-0.35 |\n",
    "| mean concavity | Severidad de las porciones cóncavas del contorno | adimensional | 0.0-0.43 |\n",
    "| mean concave points | Número de porciones cóncavas del contorno | adimensional | 0.0-0.20 |\n",
    "| mean symmetry | Simetría del núcleo | adimensional | 0.11-0.30 |\n",
    "| mean fractal dimension | \"Aproximación a la costa\" - 1.0 | adimensional | 0.05-0.10 |\n",
    "\n",
    "### 2. Medidas de dispersión (standard error)\n",
    "| Nombre | Descripción | Interpretación |\n",
    "|--------|-------------|----------------|\n",
    "| radius error | Error estándar del radio | Variabilidad del tamaño nuclear |\n",
    "| texture error | Error estándar de la textura | Consistencia de los patrones de grises |\n",
    "| perimeter error | Error estándar del perímetro | Uniformidad de la forma |\n",
    "| area error | Error estándar del área | Estabilidad del área celular |\n",
    "| smoothness error | Error estándar de la suavidad | Consistencia de bordes |\n",
    "| compactness error | Error estándar de la compacidad | Regularidad de la forma |\n",
    "| concavity error | Error estándar de la concavidad | Variabilidad de depresiones |\n",
    "| concave points error | Error estándar de puntos cóncavos | Consistencia de indentaciones |\n",
    "| symmetry error | Error estándar de simetría | Regularidad de la simetría |\n",
    "| fractal dimension error | Error estándar de dimensión fractal | Complejidad del patrón |\n",
    "\n",
    "### 3. Valores extremos (worst)\n",
    "| Nombre | Descripción | Importancia clínica |\n",
    "|--------|-------------|---------------------|\n",
    "| worst radius | Mayor radio observado | Indica células más grandes |\n",
    "| worst texture | Mayor textura observada | Patrones anormales |\n",
    "| worst perimeter | Mayor perímetro observado | Células más irregulares |\n",
    "| worst area | Mayor área observada | Tamaño celular máximo |\n",
    "| worst smoothness | Mayor suavidad observada | Bordes más irregulares |\n",
    "| worst compactness | Mayor compacidad observada | Formas más anormales |\n",
    "| worst concavity | Mayor concavidad observada | Depresiones más marcadas |\n",
    "| worst concave points | Más puntos cóncavos observados | Indentaciones pronunciadas |\n",
    "| worst symmetry | Peor simetría observada | Asimetría extrema |\n",
    "| worst fractal dimension | Mayor dimensión fractal | Complejidad máxima |\n",
    "\n",
    "## Relaciones clave:\n",
    "1. Las características de \"radius\", \"perimeter\" y \"area\" suelen estar altamente correlacionadas\n",
    "2. Las medidas \"worst\" son particularmente importantes para diagnóstico\n",
    "3. \"concavity\" y \"concave points\" son predictores fuertes de malignidad\n",
    "4. La \"texture\" refleja la heterogeneidad nuclear"
   ]
  },
  {
   "cell_type": "markdown",
   "metadata": {},
   "source": []
  },
  {
   "cell_type": "code",
   "execution_count": 4,
   "metadata": {},
   "outputs": [],
   "source": [
    "# Importar librerías necesarias\n",
    "import pandas as pd\n",
    "from sklearn.datasets import load_breast_cancer\n",
    "from sklearn.model_selection import train_test_split\n",
    "from sklearn.preprocessing import StandardScaler\n",
    "from sklearn.linear_model import LogisticRegression\n",
    "from sklearn.metrics import classification_report, confusion_matrix, accuracy_score, roc_auc_score\n",
    "\n",
    "# Cargar el dataset y convertirlo a DataFrame\n",
    "cancer_data = load_breast_cancer()\n",
    "df = pd.DataFrame(data=cancer_data.data, columns=cancer_data.feature_names)\n",
    "\n",
    "# Añadir la columna target al DataFrame\n",
    "df['target'] = cancer_data.target\n",
    "\n",
    "# Mapear los valores numéricos a etiquetas comprensibles\n",
    "df['diagnosis'] = df['target'].map({0: 'Maligno', 1: 'Benigno'})"
   ]
  },
  {
   "cell_type": "code",
   "execution_count": 5,
   "metadata": {},
   "outputs": [
    {
     "data": {
      "text/html": [
       "<div>\n",
       "<style scoped>\n",
       "    .dataframe tbody tr th:only-of-type {\n",
       "        vertical-align: middle;\n",
       "    }\n",
       "\n",
       "    .dataframe tbody tr th {\n",
       "        vertical-align: top;\n",
       "    }\n",
       "\n",
       "    .dataframe thead th {\n",
       "        text-align: right;\n",
       "    }\n",
       "</style>\n",
       "<table border=\"1\" class=\"dataframe\">\n",
       "  <thead>\n",
       "    <tr style=\"text-align: right;\">\n",
       "      <th></th>\n",
       "      <th>mean radius</th>\n",
       "      <th>mean texture</th>\n",
       "      <th>mean perimeter</th>\n",
       "      <th>mean area</th>\n",
       "      <th>mean smoothness</th>\n",
       "      <th>mean compactness</th>\n",
       "      <th>mean concavity</th>\n",
       "      <th>mean concave points</th>\n",
       "      <th>mean symmetry</th>\n",
       "      <th>mean fractal dimension</th>\n",
       "      <th>radius error</th>\n",
       "      <th>texture error</th>\n",
       "      <th>perimeter error</th>\n",
       "      <th>area error</th>\n",
       "      <th>smoothness error</th>\n",
       "      <th>compactness error</th>\n",
       "      <th>concavity error</th>\n",
       "      <th>concave points error</th>\n",
       "      <th>symmetry error</th>\n",
       "      <th>fractal dimension error</th>\n",
       "      <th>worst radius</th>\n",
       "      <th>worst texture</th>\n",
       "      <th>worst perimeter</th>\n",
       "      <th>worst area</th>\n",
       "      <th>worst smoothness</th>\n",
       "      <th>worst compactness</th>\n",
       "      <th>worst concavity</th>\n",
       "      <th>worst concave points</th>\n",
       "      <th>worst symmetry</th>\n",
       "      <th>worst fractal dimension</th>\n",
       "      <th>target</th>\n",
       "      <th>diagnosis</th>\n",
       "    </tr>\n",
       "  </thead>\n",
       "  <tbody>\n",
       "    <tr>\n",
       "      <th>0</th>\n",
       "      <td>17.99</td>\n",
       "      <td>10.38</td>\n",
       "      <td>122.80</td>\n",
       "      <td>1001.0</td>\n",
       "      <td>0.11840</td>\n",
       "      <td>0.27760</td>\n",
       "      <td>0.3001</td>\n",
       "      <td>0.14710</td>\n",
       "      <td>0.2419</td>\n",
       "      <td>0.07871</td>\n",
       "      <td>1.0950</td>\n",
       "      <td>0.9053</td>\n",
       "      <td>8.589</td>\n",
       "      <td>153.40</td>\n",
       "      <td>0.006399</td>\n",
       "      <td>0.04904</td>\n",
       "      <td>0.05373</td>\n",
       "      <td>0.01587</td>\n",
       "      <td>0.03003</td>\n",
       "      <td>0.006193</td>\n",
       "      <td>25.38</td>\n",
       "      <td>17.33</td>\n",
       "      <td>184.60</td>\n",
       "      <td>2019.0</td>\n",
       "      <td>0.1622</td>\n",
       "      <td>0.6656</td>\n",
       "      <td>0.7119</td>\n",
       "      <td>0.2654</td>\n",
       "      <td>0.4601</td>\n",
       "      <td>0.11890</td>\n",
       "      <td>0</td>\n",
       "      <td>Maligno</td>\n",
       "    </tr>\n",
       "    <tr>\n",
       "      <th>1</th>\n",
       "      <td>20.57</td>\n",
       "      <td>17.77</td>\n",
       "      <td>132.90</td>\n",
       "      <td>1326.0</td>\n",
       "      <td>0.08474</td>\n",
       "      <td>0.07864</td>\n",
       "      <td>0.0869</td>\n",
       "      <td>0.07017</td>\n",
       "      <td>0.1812</td>\n",
       "      <td>0.05667</td>\n",
       "      <td>0.5435</td>\n",
       "      <td>0.7339</td>\n",
       "      <td>3.398</td>\n",
       "      <td>74.08</td>\n",
       "      <td>0.005225</td>\n",
       "      <td>0.01308</td>\n",
       "      <td>0.01860</td>\n",
       "      <td>0.01340</td>\n",
       "      <td>0.01389</td>\n",
       "      <td>0.003532</td>\n",
       "      <td>24.99</td>\n",
       "      <td>23.41</td>\n",
       "      <td>158.80</td>\n",
       "      <td>1956.0</td>\n",
       "      <td>0.1238</td>\n",
       "      <td>0.1866</td>\n",
       "      <td>0.2416</td>\n",
       "      <td>0.1860</td>\n",
       "      <td>0.2750</td>\n",
       "      <td>0.08902</td>\n",
       "      <td>0</td>\n",
       "      <td>Maligno</td>\n",
       "    </tr>\n",
       "    <tr>\n",
       "      <th>2</th>\n",
       "      <td>19.69</td>\n",
       "      <td>21.25</td>\n",
       "      <td>130.00</td>\n",
       "      <td>1203.0</td>\n",
       "      <td>0.10960</td>\n",
       "      <td>0.15990</td>\n",
       "      <td>0.1974</td>\n",
       "      <td>0.12790</td>\n",
       "      <td>0.2069</td>\n",
       "      <td>0.05999</td>\n",
       "      <td>0.7456</td>\n",
       "      <td>0.7869</td>\n",
       "      <td>4.585</td>\n",
       "      <td>94.03</td>\n",
       "      <td>0.006150</td>\n",
       "      <td>0.04006</td>\n",
       "      <td>0.03832</td>\n",
       "      <td>0.02058</td>\n",
       "      <td>0.02250</td>\n",
       "      <td>0.004571</td>\n",
       "      <td>23.57</td>\n",
       "      <td>25.53</td>\n",
       "      <td>152.50</td>\n",
       "      <td>1709.0</td>\n",
       "      <td>0.1444</td>\n",
       "      <td>0.4245</td>\n",
       "      <td>0.4504</td>\n",
       "      <td>0.2430</td>\n",
       "      <td>0.3613</td>\n",
       "      <td>0.08758</td>\n",
       "      <td>0</td>\n",
       "      <td>Maligno</td>\n",
       "    </tr>\n",
       "    <tr>\n",
       "      <th>3</th>\n",
       "      <td>11.42</td>\n",
       "      <td>20.38</td>\n",
       "      <td>77.58</td>\n",
       "      <td>386.1</td>\n",
       "      <td>0.14250</td>\n",
       "      <td>0.28390</td>\n",
       "      <td>0.2414</td>\n",
       "      <td>0.10520</td>\n",
       "      <td>0.2597</td>\n",
       "      <td>0.09744</td>\n",
       "      <td>0.4956</td>\n",
       "      <td>1.1560</td>\n",
       "      <td>3.445</td>\n",
       "      <td>27.23</td>\n",
       "      <td>0.009110</td>\n",
       "      <td>0.07458</td>\n",
       "      <td>0.05661</td>\n",
       "      <td>0.01867</td>\n",
       "      <td>0.05963</td>\n",
       "      <td>0.009208</td>\n",
       "      <td>14.91</td>\n",
       "      <td>26.50</td>\n",
       "      <td>98.87</td>\n",
       "      <td>567.7</td>\n",
       "      <td>0.2098</td>\n",
       "      <td>0.8663</td>\n",
       "      <td>0.6869</td>\n",
       "      <td>0.2575</td>\n",
       "      <td>0.6638</td>\n",
       "      <td>0.17300</td>\n",
       "      <td>0</td>\n",
       "      <td>Maligno</td>\n",
       "    </tr>\n",
       "    <tr>\n",
       "      <th>4</th>\n",
       "      <td>20.29</td>\n",
       "      <td>14.34</td>\n",
       "      <td>135.10</td>\n",
       "      <td>1297.0</td>\n",
       "      <td>0.10030</td>\n",
       "      <td>0.13280</td>\n",
       "      <td>0.1980</td>\n",
       "      <td>0.10430</td>\n",
       "      <td>0.1809</td>\n",
       "      <td>0.05883</td>\n",
       "      <td>0.7572</td>\n",
       "      <td>0.7813</td>\n",
       "      <td>5.438</td>\n",
       "      <td>94.44</td>\n",
       "      <td>0.011490</td>\n",
       "      <td>0.02461</td>\n",
       "      <td>0.05688</td>\n",
       "      <td>0.01885</td>\n",
       "      <td>0.01756</td>\n",
       "      <td>0.005115</td>\n",
       "      <td>22.54</td>\n",
       "      <td>16.67</td>\n",
       "      <td>152.20</td>\n",
       "      <td>1575.0</td>\n",
       "      <td>0.1374</td>\n",
       "      <td>0.2050</td>\n",
       "      <td>0.4000</td>\n",
       "      <td>0.1625</td>\n",
       "      <td>0.2364</td>\n",
       "      <td>0.07678</td>\n",
       "      <td>0</td>\n",
       "      <td>Maligno</td>\n",
       "    </tr>\n",
       "  </tbody>\n",
       "</table>\n",
       "</div>"
      ],
      "text/plain": [
       "   mean radius  mean texture  mean perimeter  mean area  ...  worst symmetry  worst fractal dimension  target  diagnosis\n",
       "0        17.99         10.38          122.80     1001.0  ...          0.4601                  0.11890       0    Maligno\n",
       "1        20.57         17.77          132.90     1326.0  ...          0.2750                  0.08902       0    Maligno\n",
       "2        19.69         21.25          130.00     1203.0  ...          0.3613                  0.08758       0    Maligno\n",
       "3        11.42         20.38           77.58      386.1  ...          0.6638                  0.17300       0    Maligno\n",
       "4        20.29         14.34          135.10     1297.0  ...          0.2364                  0.07678       0    Maligno\n",
       "\n",
       "[5 rows x 32 columns]"
      ]
     },
     "execution_count": null,
     "metadata": {},
     "output_type": "execute_result"
    }
   ],
   "source": [
    "df.head()"
   ]
  },
  {
   "cell_type": "code",
   "execution_count": 6,
   "metadata": {},
   "outputs": [
    {
     "name": "stdout",
     "output_type": "stream",
     "text": [
      "\n",
      "Información del dataset:\n",
      "Número de muestras: 569\n",
      "Número de características: 30\n",
      "Distribución de clases:\n",
      "diagnosis\n",
      "Benigno    357\n",
      "Maligno    212\n",
      "Name: count, dtype: int64\n"
     ]
    }
   ],
   "source": [
    "# Información básica del DataFrame\n",
    "print(\"\\nInformación del dataset:\")\n",
    "print(f\"Número de muestras: {len(df)}\")\n",
    "print(f\"Número de características: {len(cancer_data.feature_names)}\")\n",
    "print(f\"Distribución de clases:\\n{df['diagnosis'].value_counts()}\")"
   ]
  },
  {
   "cell_type": "code",
   "execution_count": 8,
   "metadata": {},
   "outputs": [
    {
     "data": {
      "text/plain": [
       "array(['mean radius', 'mean texture', 'mean perimeter', 'mean area', 'mean smoothness', 'mean compactness', 'mean concavity',\n",
       "       'mean concave points', 'mean symmetry', 'mean fractal dimension', 'radius error', 'texture error', 'perimeter error',\n",
       "       'area error', 'smoothness error', 'compactness error', 'concavity error', 'concave points error', 'symmetry error',\n",
       "       'fractal dimension error', 'worst radius', 'worst texture', 'worst perimeter', 'worst area', 'worst smoothness',\n",
       "       'worst compactness', 'worst concavity', 'worst concave points', 'worst symmetry', 'worst fractal dimension'], dtype='<U23')"
      ]
     },
     "execution_count": null,
     "metadata": {},
     "output_type": "execute_result"
    }
   ],
   "source": [
    "cancer_data.feature_names"
   ]
  },
  {
   "cell_type": "code",
   "execution_count": 9,
   "metadata": {},
   "outputs": [],
   "source": [
    "X = df[cancer_data.feature_names]\n",
    "y = df['target']"
   ]
  },
  {
   "cell_type": "markdown",
   "metadata": {},
   "source": [
    "Seleccionamos aleatoriamente la base de datos de entrenamiento y de prueba"
   ]
  },
  {
   "cell_type": "code",
   "execution_count": 11,
   "metadata": {},
   "outputs": [],
   "source": [
    "# Dividir en conjuntos de entrenamiento y prueba\n",
    "X_train, X_test, y_train, y_test = train_test_split(X, y, test_size=0.3, random_state=42, stratify=y)"
   ]
  },
  {
   "cell_type": "code",
   "execution_count": 14,
   "metadata": {},
   "outputs": [],
   "source": [
    "#Estandarizar las características\n",
    "scaler = StandardScaler()\n",
    "X_train_scaled = scaler.fit_transform(X_train)\n",
    "X_test_scaled = scaler.transform(X_test)\n"
   ]
  },
  {
   "cell_type": "code",
   "execution_count": 49,
   "metadata": {},
   "outputs": [
    {
     "data": {
      "text/html": [
       "<style>#sk-container-id-2 {\n",
       "  /* Definition of color scheme common for light and dark mode */\n",
       "  --sklearn-color-text: black;\n",
       "  --sklearn-color-line: gray;\n",
       "  /* Definition of color scheme for unfitted estimators */\n",
       "  --sklearn-color-unfitted-level-0: #fff5e6;\n",
       "  --sklearn-color-unfitted-level-1: #f6e4d2;\n",
       "  --sklearn-color-unfitted-level-2: #ffe0b3;\n",
       "  --sklearn-color-unfitted-level-3: chocolate;\n",
       "  /* Definition of color scheme for fitted estimators */\n",
       "  --sklearn-color-fitted-level-0: #f0f8ff;\n",
       "  --sklearn-color-fitted-level-1: #d4ebff;\n",
       "  --sklearn-color-fitted-level-2: #b3dbfd;\n",
       "  --sklearn-color-fitted-level-3: cornflowerblue;\n",
       "\n",
       "  /* Specific color for light theme */\n",
       "  --sklearn-color-text-on-default-background: var(--sg-text-color, var(--theme-code-foreground, var(--jp-content-font-color1, black)));\n",
       "  --sklearn-color-background: var(--sg-background-color, var(--theme-background, var(--jp-layout-color0, white)));\n",
       "  --sklearn-color-border-box: var(--sg-text-color, var(--theme-code-foreground, var(--jp-content-font-color1, black)));\n",
       "  --sklearn-color-icon: #696969;\n",
       "\n",
       "  @media (prefers-color-scheme: dark) {\n",
       "    /* Redefinition of color scheme for dark theme */\n",
       "    --sklearn-color-text-on-default-background: var(--sg-text-color, var(--theme-code-foreground, var(--jp-content-font-color1, white)));\n",
       "    --sklearn-color-background: var(--sg-background-color, var(--theme-background, var(--jp-layout-color0, #111)));\n",
       "    --sklearn-color-border-box: var(--sg-text-color, var(--theme-code-foreground, var(--jp-content-font-color1, white)));\n",
       "    --sklearn-color-icon: #878787;\n",
       "  }\n",
       "}\n",
       "\n",
       "#sk-container-id-2 {\n",
       "  color: var(--sklearn-color-text);\n",
       "}\n",
       "\n",
       "#sk-container-id-2 pre {\n",
       "  padding: 0;\n",
       "}\n",
       "\n",
       "#sk-container-id-2 input.sk-hidden--visually {\n",
       "  border: 0;\n",
       "  clip: rect(1px 1px 1px 1px);\n",
       "  clip: rect(1px, 1px, 1px, 1px);\n",
       "  height: 1px;\n",
       "  margin: -1px;\n",
       "  overflow: hidden;\n",
       "  padding: 0;\n",
       "  position: absolute;\n",
       "  width: 1px;\n",
       "}\n",
       "\n",
       "#sk-container-id-2 div.sk-dashed-wrapped {\n",
       "  border: 1px dashed var(--sklearn-color-line);\n",
       "  margin: 0 0.4em 0.5em 0.4em;\n",
       "  box-sizing: border-box;\n",
       "  padding-bottom: 0.4em;\n",
       "  background-color: var(--sklearn-color-background);\n",
       "}\n",
       "\n",
       "#sk-container-id-2 div.sk-container {\n",
       "  /* jupyter's `normalize.less` sets `[hidden] { display: none; }`\n",
       "     but bootstrap.min.css set `[hidden] { display: none !important; }`\n",
       "     so we also need the `!important` here to be able to override the\n",
       "     default hidden behavior on the sphinx rendered scikit-learn.org.\n",
       "     See: https://github.com/scikit-learn/scikit-learn/issues/21755 */\n",
       "  display: inline-block !important;\n",
       "  position: relative;\n",
       "}\n",
       "\n",
       "#sk-container-id-2 div.sk-text-repr-fallback {\n",
       "  display: none;\n",
       "}\n",
       "\n",
       "div.sk-parallel-item,\n",
       "div.sk-serial,\n",
       "div.sk-item {\n",
       "  /* draw centered vertical line to link estimators */\n",
       "  background-image: linear-gradient(var(--sklearn-color-text-on-default-background), var(--sklearn-color-text-on-default-background));\n",
       "  background-size: 2px 100%;\n",
       "  background-repeat: no-repeat;\n",
       "  background-position: center center;\n",
       "}\n",
       "\n",
       "/* Parallel-specific style estimator block */\n",
       "\n",
       "#sk-container-id-2 div.sk-parallel-item::after {\n",
       "  content: \"\";\n",
       "  width: 100%;\n",
       "  border-bottom: 2px solid var(--sklearn-color-text-on-default-background);\n",
       "  flex-grow: 1;\n",
       "}\n",
       "\n",
       "#sk-container-id-2 div.sk-parallel {\n",
       "  display: flex;\n",
       "  align-items: stretch;\n",
       "  justify-content: center;\n",
       "  background-color: var(--sklearn-color-background);\n",
       "  position: relative;\n",
       "}\n",
       "\n",
       "#sk-container-id-2 div.sk-parallel-item {\n",
       "  display: flex;\n",
       "  flex-direction: column;\n",
       "}\n",
       "\n",
       "#sk-container-id-2 div.sk-parallel-item:first-child::after {\n",
       "  align-self: flex-end;\n",
       "  width: 50%;\n",
       "}\n",
       "\n",
       "#sk-container-id-2 div.sk-parallel-item:last-child::after {\n",
       "  align-self: flex-start;\n",
       "  width: 50%;\n",
       "}\n",
       "\n",
       "#sk-container-id-2 div.sk-parallel-item:only-child::after {\n",
       "  width: 0;\n",
       "}\n",
       "\n",
       "/* Serial-specific style estimator block */\n",
       "\n",
       "#sk-container-id-2 div.sk-serial {\n",
       "  display: flex;\n",
       "  flex-direction: column;\n",
       "  align-items: center;\n",
       "  background-color: var(--sklearn-color-background);\n",
       "  padding-right: 1em;\n",
       "  padding-left: 1em;\n",
       "}\n",
       "\n",
       "\n",
       "/* Toggleable style: style used for estimator/Pipeline/ColumnTransformer box that is\n",
       "clickable and can be expanded/collapsed.\n",
       "- Pipeline and ColumnTransformer use this feature and define the default style\n",
       "- Estimators will overwrite some part of the style using the `sk-estimator` class\n",
       "*/\n",
       "\n",
       "/* Pipeline and ColumnTransformer style (default) */\n",
       "\n",
       "#sk-container-id-2 div.sk-toggleable {\n",
       "  /* Default theme specific background. It is overwritten whether we have a\n",
       "  specific estimator or a Pipeline/ColumnTransformer */\n",
       "  background-color: var(--sklearn-color-background);\n",
       "}\n",
       "\n",
       "/* Toggleable label */\n",
       "#sk-container-id-2 label.sk-toggleable__label {\n",
       "  cursor: pointer;\n",
       "  display: block;\n",
       "  width: 100%;\n",
       "  margin-bottom: 0;\n",
       "  padding: 0.5em;\n",
       "  box-sizing: border-box;\n",
       "  text-align: center;\n",
       "}\n",
       "\n",
       "#sk-container-id-2 label.sk-toggleable__label-arrow:before {\n",
       "  /* Arrow on the left of the label */\n",
       "  content: \"▸\";\n",
       "  float: left;\n",
       "  margin-right: 0.25em;\n",
       "  color: var(--sklearn-color-icon);\n",
       "}\n",
       "\n",
       "#sk-container-id-2 label.sk-toggleable__label-arrow:hover:before {\n",
       "  color: var(--sklearn-color-text);\n",
       "}\n",
       "\n",
       "/* Toggleable content - dropdown */\n",
       "\n",
       "#sk-container-id-2 div.sk-toggleable__content {\n",
       "  max-height: 0;\n",
       "  max-width: 0;\n",
       "  overflow: hidden;\n",
       "  text-align: left;\n",
       "  /* unfitted */\n",
       "  background-color: var(--sklearn-color-unfitted-level-0);\n",
       "}\n",
       "\n",
       "#sk-container-id-2 div.sk-toggleable__content.fitted {\n",
       "  /* fitted */\n",
       "  background-color: var(--sklearn-color-fitted-level-0);\n",
       "}\n",
       "\n",
       "#sk-container-id-2 div.sk-toggleable__content pre {\n",
       "  margin: 0.2em;\n",
       "  border-radius: 0.25em;\n",
       "  color: var(--sklearn-color-text);\n",
       "  /* unfitted */\n",
       "  background-color: var(--sklearn-color-unfitted-level-0);\n",
       "}\n",
       "\n",
       "#sk-container-id-2 div.sk-toggleable__content.fitted pre {\n",
       "  /* unfitted */\n",
       "  background-color: var(--sklearn-color-fitted-level-0);\n",
       "}\n",
       "\n",
       "#sk-container-id-2 input.sk-toggleable__control:checked~div.sk-toggleable__content {\n",
       "  /* Expand drop-down */\n",
       "  max-height: 200px;\n",
       "  max-width: 100%;\n",
       "  overflow: auto;\n",
       "}\n",
       "\n",
       "#sk-container-id-2 input.sk-toggleable__control:checked~label.sk-toggleable__label-arrow:before {\n",
       "  content: \"▾\";\n",
       "}\n",
       "\n",
       "/* Pipeline/ColumnTransformer-specific style */\n",
       "\n",
       "#sk-container-id-2 div.sk-label input.sk-toggleable__control:checked~label.sk-toggleable__label {\n",
       "  color: var(--sklearn-color-text);\n",
       "  background-color: var(--sklearn-color-unfitted-level-2);\n",
       "}\n",
       "\n",
       "#sk-container-id-2 div.sk-label.fitted input.sk-toggleable__control:checked~label.sk-toggleable__label {\n",
       "  background-color: var(--sklearn-color-fitted-level-2);\n",
       "}\n",
       "\n",
       "/* Estimator-specific style */\n",
       "\n",
       "/* Colorize estimator box */\n",
       "#sk-container-id-2 div.sk-estimator input.sk-toggleable__control:checked~label.sk-toggleable__label {\n",
       "  /* unfitted */\n",
       "  background-color: var(--sklearn-color-unfitted-level-2);\n",
       "}\n",
       "\n",
       "#sk-container-id-2 div.sk-estimator.fitted input.sk-toggleable__control:checked~label.sk-toggleable__label {\n",
       "  /* fitted */\n",
       "  background-color: var(--sklearn-color-fitted-level-2);\n",
       "}\n",
       "\n",
       "#sk-container-id-2 div.sk-label label.sk-toggleable__label,\n",
       "#sk-container-id-2 div.sk-label label {\n",
       "  /* The background is the default theme color */\n",
       "  color: var(--sklearn-color-text-on-default-background);\n",
       "}\n",
       "\n",
       "/* On hover, darken the color of the background */\n",
       "#sk-container-id-2 div.sk-label:hover label.sk-toggleable__label {\n",
       "  color: var(--sklearn-color-text);\n",
       "  background-color: var(--sklearn-color-unfitted-level-2);\n",
       "}\n",
       "\n",
       "/* Label box, darken color on hover, fitted */\n",
       "#sk-container-id-2 div.sk-label.fitted:hover label.sk-toggleable__label.fitted {\n",
       "  color: var(--sklearn-color-text);\n",
       "  background-color: var(--sklearn-color-fitted-level-2);\n",
       "}\n",
       "\n",
       "/* Estimator label */\n",
       "\n",
       "#sk-container-id-2 div.sk-label label {\n",
       "  font-family: monospace;\n",
       "  font-weight: bold;\n",
       "  display: inline-block;\n",
       "  line-height: 1.2em;\n",
       "}\n",
       "\n",
       "#sk-container-id-2 div.sk-label-container {\n",
       "  text-align: center;\n",
       "}\n",
       "\n",
       "/* Estimator-specific */\n",
       "#sk-container-id-2 div.sk-estimator {\n",
       "  font-family: monospace;\n",
       "  border: 1px dotted var(--sklearn-color-border-box);\n",
       "  border-radius: 0.25em;\n",
       "  box-sizing: border-box;\n",
       "  margin-bottom: 0.5em;\n",
       "  /* unfitted */\n",
       "  background-color: var(--sklearn-color-unfitted-level-0);\n",
       "}\n",
       "\n",
       "#sk-container-id-2 div.sk-estimator.fitted {\n",
       "  /* fitted */\n",
       "  background-color: var(--sklearn-color-fitted-level-0);\n",
       "}\n",
       "\n",
       "/* on hover */\n",
       "#sk-container-id-2 div.sk-estimator:hover {\n",
       "  /* unfitted */\n",
       "  background-color: var(--sklearn-color-unfitted-level-2);\n",
       "}\n",
       "\n",
       "#sk-container-id-2 div.sk-estimator.fitted:hover {\n",
       "  /* fitted */\n",
       "  background-color: var(--sklearn-color-fitted-level-2);\n",
       "}\n",
       "\n",
       "/* Specification for estimator info (e.g. \"i\" and \"?\") */\n",
       "\n",
       "/* Common style for \"i\" and \"?\" */\n",
       "\n",
       ".sk-estimator-doc-link,\n",
       "a:link.sk-estimator-doc-link,\n",
       "a:visited.sk-estimator-doc-link {\n",
       "  float: right;\n",
       "  font-size: smaller;\n",
       "  line-height: 1em;\n",
       "  font-family: monospace;\n",
       "  background-color: var(--sklearn-color-background);\n",
       "  border-radius: 1em;\n",
       "  height: 1em;\n",
       "  width: 1em;\n",
       "  text-decoration: none !important;\n",
       "  margin-left: 1ex;\n",
       "  /* unfitted */\n",
       "  border: var(--sklearn-color-unfitted-level-1) 1pt solid;\n",
       "  color: var(--sklearn-color-unfitted-level-1);\n",
       "}\n",
       "\n",
       ".sk-estimator-doc-link.fitted,\n",
       "a:link.sk-estimator-doc-link.fitted,\n",
       "a:visited.sk-estimator-doc-link.fitted {\n",
       "  /* fitted */\n",
       "  border: var(--sklearn-color-fitted-level-1) 1pt solid;\n",
       "  color: var(--sklearn-color-fitted-level-1);\n",
       "}\n",
       "\n",
       "/* On hover */\n",
       "div.sk-estimator:hover .sk-estimator-doc-link:hover,\n",
       ".sk-estimator-doc-link:hover,\n",
       "div.sk-label-container:hover .sk-estimator-doc-link:hover,\n",
       ".sk-estimator-doc-link:hover {\n",
       "  /* unfitted */\n",
       "  background-color: var(--sklearn-color-unfitted-level-3);\n",
       "  color: var(--sklearn-color-background);\n",
       "  text-decoration: none;\n",
       "}\n",
       "\n",
       "div.sk-estimator.fitted:hover .sk-estimator-doc-link.fitted:hover,\n",
       ".sk-estimator-doc-link.fitted:hover,\n",
       "div.sk-label-container:hover .sk-estimator-doc-link.fitted:hover,\n",
       ".sk-estimator-doc-link.fitted:hover {\n",
       "  /* fitted */\n",
       "  background-color: var(--sklearn-color-fitted-level-3);\n",
       "  color: var(--sklearn-color-background);\n",
       "  text-decoration: none;\n",
       "}\n",
       "\n",
       "/* Span, style for the box shown on hovering the info icon */\n",
       ".sk-estimator-doc-link span {\n",
       "  display: none;\n",
       "  z-index: 9999;\n",
       "  position: relative;\n",
       "  font-weight: normal;\n",
       "  right: .2ex;\n",
       "  padding: .5ex;\n",
       "  margin: .5ex;\n",
       "  width: min-content;\n",
       "  min-width: 20ex;\n",
       "  max-width: 50ex;\n",
       "  color: var(--sklearn-color-text);\n",
       "  box-shadow: 2pt 2pt 4pt #999;\n",
       "  /* unfitted */\n",
       "  background: var(--sklearn-color-unfitted-level-0);\n",
       "  border: .5pt solid var(--sklearn-color-unfitted-level-3);\n",
       "}\n",
       "\n",
       ".sk-estimator-doc-link.fitted span {\n",
       "  /* fitted */\n",
       "  background: var(--sklearn-color-fitted-level-0);\n",
       "  border: var(--sklearn-color-fitted-level-3);\n",
       "}\n",
       "\n",
       ".sk-estimator-doc-link:hover span {\n",
       "  display: block;\n",
       "}\n",
       "\n",
       "/* \"?\"-specific style due to the `<a>` HTML tag */\n",
       "\n",
       "#sk-container-id-2 a.estimator_doc_link {\n",
       "  float: right;\n",
       "  font-size: 1rem;\n",
       "  line-height: 1em;\n",
       "  font-family: monospace;\n",
       "  background-color: var(--sklearn-color-background);\n",
       "  border-radius: 1rem;\n",
       "  height: 1rem;\n",
       "  width: 1rem;\n",
       "  text-decoration: none;\n",
       "  /* unfitted */\n",
       "  color: var(--sklearn-color-unfitted-level-1);\n",
       "  border: var(--sklearn-color-unfitted-level-1) 1pt solid;\n",
       "}\n",
       "\n",
       "#sk-container-id-2 a.estimator_doc_link.fitted {\n",
       "  /* fitted */\n",
       "  border: var(--sklearn-color-fitted-level-1) 1pt solid;\n",
       "  color: var(--sklearn-color-fitted-level-1);\n",
       "}\n",
       "\n",
       "/* On hover */\n",
       "#sk-container-id-2 a.estimator_doc_link:hover {\n",
       "  /* unfitted */\n",
       "  background-color: var(--sklearn-color-unfitted-level-3);\n",
       "  color: var(--sklearn-color-background);\n",
       "  text-decoration: none;\n",
       "}\n",
       "\n",
       "#sk-container-id-2 a.estimator_doc_link.fitted:hover {\n",
       "  /* fitted */\n",
       "  background-color: var(--sklearn-color-fitted-level-3);\n",
       "}\n",
       "</style><div id=\"sk-container-id-2\" class=\"sk-top-container\"><div class=\"sk-text-repr-fallback\"><pre>LogisticRegression(random_state=42)</pre><b>In a Jupyter environment, please rerun this cell to show the HTML representation or trust the notebook. <br />On GitHub, the HTML representation is unable to render, please try loading this page with nbviewer.org.</b></div><div class=\"sk-container\" hidden><div class=\"sk-item\"><div class=\"sk-estimator fitted sk-toggleable\"><input class=\"sk-toggleable__control sk-hidden--visually\" id=\"sk-estimator-id-2\" type=\"checkbox\" checked><label for=\"sk-estimator-id-2\" class=\"sk-toggleable__label fitted sk-toggleable__label-arrow fitted\">&nbsp;&nbsp;LogisticRegression<a class=\"sk-estimator-doc-link fitted\" rel=\"noreferrer\" target=\"_blank\" href=\"https://scikit-learn.org/1.5/modules/generated/sklearn.linear_model.LogisticRegression.html\">?<span>Documentation for LogisticRegression</span></a><span class=\"sk-estimator-doc-link fitted\">i<span>Fitted</span></span></label><div class=\"sk-toggleable__content fitted\"><pre>LogisticRegression(random_state=42)</pre></div> </div></div></div></div>"
      ],
      "text/plain": [
       "LogisticRegression(random_state=42)"
      ]
     },
     "execution_count": null,
     "metadata": {},
     "output_type": "execute_result"
    }
   ],
   "source": [
    "model = LogisticRegression(random_state=42)\n",
    "model.fit(X_train_scaled, y_train)"
   ]
  },
  {
   "cell_type": "code",
   "execution_count": 50,
   "metadata": {},
   "outputs": [],
   "source": [
    "# Hacer predicciones\n",
    "y_pred = model.predict(X_test_scaled)\n",
    "y_pred_proba = model.predict_proba(X_test_scaled)[:, 1]"
   ]
  },
  {
   "cell_type": "code",
   "execution_count": 17,
   "metadata": {},
   "outputs": [
    {
     "data": {
      "text/plain": [
       "array([0, 1, 1, 0, 0, 0, 1, 0, 1, 0, 1, 1, 0, 1, 1, 0, 0, 1, 1, 1, 1, 1, 1, 0, 0, 1, 1, 1, 0, 0, 1, 0, 1, 1, 0, 1, 1, 1, 1, 1, 1, 0, 1,\n",
       "       1, 1, 1, 1, 1, 1, 0, 1, 1, 0, 0, 1, 1, 0, 1, 1, 1, 0, 0, 0, 1, 1, 1, 1, 0, 1, 1, 0, 0, 0, 0, 1, 1, 1, 1, 0, 1, 1, 1, 0, 1, 0, 1,\n",
       "       1, 0, 0, 0, 0, 1, 1, 1, 1, 1, 0, 1, 0, 1, 1, 1, 1, 0, 1, 1, 1, 1, 0, 1, 0, 1, 0, 1, 1, 0, 0, 1, 1, 0, 1, 1, 0, 1, 0, 1, 1, 0, 1,\n",
       "       1, 1, 1, 0, 1, 0, 1, 0, 1, 0, 1, 1, 1, 0, 0, 0, 0, 0, 1, 0, 1, 1, 1, 0, 1, 0, 1, 1, 0, 1, 1, 0, 0, 1, 1, 0, 1, 1, 1, 1, 0, 1])"
      ]
     },
     "execution_count": null,
     "metadata": {},
     "output_type": "execute_result"
    }
   ],
   "source": [
    "y_pred"
   ]
  },
  {
   "cell_type": "code",
   "execution_count": 18,
   "metadata": {},
   "outputs": [
    {
     "data": {
      "text/plain": [
       "array([3.21189451e-02, 9.50131633e-01, 9.83515146e-01, 1.05941489e-03, 2.85319392e-01, 1.37690081e-03, 9.99994981e-01, 1.52997631e-03,\n",
       "       9.81705879e-01, 6.55507086e-11, 9.99982708e-01, 9.91642527e-01, 2.52482630e-03, 8.68692026e-01, 9.98678339e-01, 2.85665639e-01,\n",
       "       4.59774521e-05, 8.60743393e-01, 9.99371213e-01, 9.86254523e-01, 9.92286406e-01, 8.91754572e-01, 9.77545574e-01, 1.46908931e-05,\n",
       "       9.20974649e-07, 8.57338450e-01, 9.98306440e-01, 9.88005356e-01, 8.62457967e-04, 7.89572681e-05, 8.81229901e-01, 6.87921003e-08,\n",
       "       9.91624036e-01, 9.99335487e-01, 1.71875350e-07, 9.99658654e-01, 8.34892247e-01, 9.98957313e-01, 9.92338749e-01, 9.05089862e-01,\n",
       "       9.45639107e-01, 1.04030906e-03, 9.99938478e-01, 9.99998886e-01, 9.98678782e-01, 6.23278235e-01, 9.03598486e-01, 9.99761214e-01,\n",
       "       9.99740872e-01, 7.53538445e-04, 9.99391182e-01, 9.91323849e-01, 2.31047892e-06, 3.59849942e-06, 9.98991371e-01, 9.90250882e-01,\n",
       "       1.41309297e-04, 9.98629873e-01, 8.52290263e-01, 6.77942305e-01, 3.57175421e-05, 3.54358314e-05, 9.00450948e-05, 9.99997404e-01,\n",
       "       9.99670555e-01, 9.94409822e-01, 9.50992739e-01, 6.30494643e-17, 9.99860281e-01, 9.97253595e-01, 3.51113083e-10, 2.04843711e-03,\n",
       "       2.18596058e-04, 2.30040658e-09, 9.27100427e-01, 9.99865571e-01, 8.52069481e-01, 9.96016139e-01, 4.20271932e-04, 9.98095608e-01,\n",
       "       9.99992466e-01, 9.66490113e-01, 7.25904518e-05, 9.99892157e-01, 1.07358972e-08, 9.99692463e-01, 9.96884862e-01, 1.65772903e-08,\n",
       "       8.78581037e-06, 1.17806185e-05, 8.86845191e-06, 9.97243944e-01, 9.83202847e-01, 9.99979482e-01, 9.99537471e-01, 9.84077623e-01,\n",
       "       2.16622075e-02, 9.99493406e-01, 3.50058681e-01, 9.99999953e-01, 9.10757488e-01, 9.99976395e-01, 9.69901833e-01, 1.00607068e-02,\n",
       "       5.60155747e-01, 9.94922158e-01, 8.73574657e-01, 9.97586446e-01, 9.01226687e-03, 9.99136964e-01, 3.60809502e-01, 9.82530401e-01,\n",
       "       6.24241985e-02, 9.99513279e-01, 9.99396099e-01, 2.19078231e-01, 2.07264820e-01, 5.42731237e-01, 9.99973619e-01, 1.32025124e-06,\n",
       "       9.84292144e-01, 9.99099030e-01, 3.24482045e-07, 9.98423887e-01, 2.09218363e-01, 9.98527792e-01, 9.03897171e-01, 4.35138229e-03,\n",
       "       9.84042051e-01, 9.88179520e-01, 9.68774762e-01, 9.98843790e-01, 3.74896563e-04, 9.98450677e-01, 3.81710409e-04, 9.99977191e-01,\n",
       "       3.76421636e-03, 8.48511219e-01, 2.83846857e-01, 9.32602961e-01, 9.98886341e-01, 9.99823674e-01, 1.71106488e-06, 6.00618369e-05,\n",
       "       1.08714871e-22, 1.96175228e-04, 9.06816678e-07, 9.99888672e-01, 3.73943333e-01, 9.99999045e-01, 9.99929928e-01, 9.99937844e-01,\n",
       "       6.56580222e-13, 9.86362455e-01, 8.57418791e-04, 9.97059222e-01, 9.99985334e-01, 4.87760514e-04, 9.98683539e-01, 9.94153769e-01,\n",
       "       7.84197565e-03, 2.49851024e-02, 8.18240417e-01, 9.87914669e-01, 1.09382165e-05, 9.98519591e-01, 9.99913338e-01, 9.99978340e-01,\n",
       "       5.49386531e-01, 8.70065938e-02, 9.99539759e-01])"
      ]
     },
     "execution_count": null,
     "metadata": {},
     "output_type": "execute_result"
    }
   ],
   "source": [
    "y_pred_proba"
   ]
  },
  {
   "cell_type": "markdown",
   "metadata": {},
   "source": [
    "Realizamos un reporte de evaluación del modelo"
   ]
  },
  {
   "cell_type": "code",
   "execution_count": 19,
   "metadata": {},
   "outputs": [
    {
     "name": "stdout",
     "output_type": "stream",
     "text": [
      "\n",
      "Resultados de la clasificación:\n",
      "              precision    recall  f1-score   support\n",
      "\n",
      "     Maligno       0.98      0.98      0.98        64\n",
      "     Benigno       0.99      0.99      0.99       107\n",
      "\n",
      "    accuracy                           0.99       171\n",
      "   macro avg       0.99      0.99      0.99       171\n",
      "weighted avg       0.99      0.99      0.99       171\n",
      "\n"
     ]
    }
   ],
   "source": [
    "# Evaluar el modelo\n",
    "print(\"\\nResultados de la clasificación:\")\n",
    "print(classification_report(y_test, y_pred, target_names=['Maligno', 'Benigno']))"
   ]
  },
  {
   "cell_type": "code",
   "execution_count": 22,
   "metadata": {},
   "outputs": [
    {
     "data": {
      "text/plain": [
       "target\n",
       "1    107\n",
       "0     64\n",
       "Name: count, dtype: int64"
      ]
     },
     "execution_count": null,
     "metadata": {},
     "output_type": "execute_result"
    }
   ],
   "source": [
    "y_test.value_counts()"
   ]
  },
  {
   "cell_type": "code",
   "execution_count": 20,
   "metadata": {},
   "outputs": [
    {
     "name": "stdout",
     "output_type": "stream",
     "text": [
      "\n",
      "Matriz de confusión:\n",
      "[[ 63   1]\n",
      " [  1 106]]\n",
      "\n",
      "Exactitud (Accuracy): 0.9883\n",
      "AUC-ROC: 0.9981\n",
      "\n",
      "Top 10 características más importantes:\n"
     ]
    },
    {
     "data": {
      "text/html": [
       "<div>\n",
       "<style scoped>\n",
       "    .dataframe tbody tr th:only-of-type {\n",
       "        vertical-align: middle;\n",
       "    }\n",
       "\n",
       "    .dataframe tbody tr th {\n",
       "        vertical-align: top;\n",
       "    }\n",
       "\n",
       "    .dataframe thead th {\n",
       "        text-align: right;\n",
       "    }\n",
       "</style>\n",
       "<table border=\"1\" class=\"dataframe\">\n",
       "  <thead>\n",
       "    <tr style=\"text-align: right;\">\n",
       "      <th></th>\n",
       "      <th>Feature</th>\n",
       "      <th>Importance</th>\n",
       "    </tr>\n",
       "  </thead>\n",
       "  <tbody>\n",
       "    <tr>\n",
       "      <th>5</th>\n",
       "      <td>mean compactness</td>\n",
       "      <td>0.652655</td>\n",
       "    </tr>\n",
       "    <tr>\n",
       "      <th>15</th>\n",
       "      <td>compactness error</td>\n",
       "      <td>0.568702</td>\n",
       "    </tr>\n",
       "    <tr>\n",
       "      <th>11</th>\n",
       "      <td>texture error</td>\n",
       "      <td>0.367761</td>\n",
       "    </tr>\n",
       "    <tr>\n",
       "      <th>19</th>\n",
       "      <td>fractal dimension error</td>\n",
       "      <td>0.349557</td>\n",
       "    </tr>\n",
       "    <tr>\n",
       "      <th>18</th>\n",
       "      <td>symmetry error</td>\n",
       "      <td>0.324894</td>\n",
       "    </tr>\n",
       "    <tr>\n",
       "      <th>16</th>\n",
       "      <td>concavity error</td>\n",
       "      <td>0.163745</td>\n",
       "    </tr>\n",
       "    <tr>\n",
       "      <th>9</th>\n",
       "      <td>mean fractal dimension</td>\n",
       "      <td>0.036185</td>\n",
       "    </tr>\n",
       "    <tr>\n",
       "      <th>25</th>\n",
       "      <td>worst compactness</td>\n",
       "      <td>0.035920</td>\n",
       "    </tr>\n",
       "    <tr>\n",
       "      <th>8</th>\n",
       "      <td>mean symmetry</td>\n",
       "      <td>-0.113813</td>\n",
       "    </tr>\n",
       "    <tr>\n",
       "      <th>29</th>\n",
       "      <td>worst fractal dimension</td>\n",
       "      <td>-0.164264</td>\n",
       "    </tr>\n",
       "  </tbody>\n",
       "</table>\n",
       "</div>"
      ],
      "text/plain": [
       "                    Feature  Importance\n",
       "5          mean compactness    0.652655\n",
       "15        compactness error    0.568702\n",
       "11            texture error    0.367761\n",
       "19  fractal dimension error    0.349557\n",
       "18           symmetry error    0.324894\n",
       "16          concavity error    0.163745\n",
       "9    mean fractal dimension    0.036185\n",
       "25        worst compactness    0.035920\n",
       "8             mean symmetry   -0.113813\n",
       "29  worst fractal dimension   -0.164264"
      ]
     },
     "metadata": {},
     "output_type": "display_data"
    }
   ],
   "source": [
    "print(\"\\nMatriz de confusión:\")\n",
    "print(confusion_matrix(y_test, y_pred))\n",
    "\n",
    "print(f\"\\nExactitud (Accuracy): {accuracy_score(y_test, y_pred):.4f}\")\n",
    "print(f\"AUC-ROC: {roc_auc_score(y_test, y_pred_proba):.4f}\")\n",
    "\n",
    "# Coeficientes del modelo (importancia de características)\n",
    "coef_df = pd.DataFrame({\n",
    "    'Feature': cancer_data.feature_names,\n",
    "    'Importance': model.coef_[0]\n",
    "}).sort_values('Importance', ascending=False)\n",
    "\n",
    "print(\"\\nTop 10 características más importantes:\")\n",
    "display(coef_df.head(10))"
   ]
  },
  {
   "cell_type": "markdown",
   "metadata": {},
   "source": []
  },
  {
   "cell_type": "code",
   "execution_count": null,
   "metadata": {},
   "outputs": [],
   "source": [
    "# Importar librerías necesarias\n",
    "import pandas as pd\n",
    "import numpy as np\n",
    "from sklearn.datasets import load_iris\n",
    "from sklearn.model_selection import train_test_split\n",
    "from sklearn.preprocessing import StandardScaler\n",
    "from sklearn.linear_model import LogisticRegression\n",
    "from sklearn.metrics import (accuracy_score, precision_score, recall_score, \n",
    "                            f1_score, roc_auc_score, confusion_matrix, \n",
    "                            classification_report)\n",
    "import matplotlib.pyplot as plt\n",
    "import seaborn as sns\n",
    "\n",
    "# 1. Cargar el dataset Iris y convertirlo a DataFrame\n",
    "iris = load_iris()\n",
    "df = pd.DataFrame(data=iris.data, columns=iris.feature_names)\n",
    "\n",
    "# 2. Crear variable binaria: 1 si es versicolor, 0 si no\n",
    "df['target'] = np.where(iris.target == 1, 1, 0)  # 1=versicolor, 0=otras (setosa, virginica)"
   ]
  },
  {
   "cell_type": "code",
   "execution_count": 25,
   "metadata": {},
   "outputs": [
    {
     "name": "stdout",
     "output_type": "stream",
     "text": [
      "Distribución de clases:\n",
      "target\n",
      "0    100\n",
      "1     50\n",
      "Name: count, dtype: int64\n",
      "\n",
      "Estadísticas descriptivas:\n",
      "       sepal length (cm)  sepal width (cm)  petal length (cm)  petal width (cm)      target\n",
      "count         150.000000        150.000000         150.000000        150.000000  150.000000\n",
      "mean            5.843333          3.057333           3.758000          1.199333    0.333333\n",
      "std             0.828066          0.435866           1.765298          0.762238    0.472984\n",
      "min             4.300000          2.000000           1.000000          0.100000    0.000000\n",
      "25%             5.100000          2.800000           1.600000          0.300000    0.000000\n",
      "50%             5.800000          3.000000           4.350000          1.300000    0.000000\n",
      "75%             6.400000          3.300000           5.100000          1.800000    1.000000\n",
      "max             7.900000          4.400000           6.900000          2.500000    1.000000\n"
     ]
    }
   ],
   "source": [
    "\n",
    "# 3. Análisis exploratorio básico\n",
    "print(\"Distribución de clases:\")\n",
    "print(df['target'].value_counts())\n",
    "print(\"\\nEstadísticas descriptivas:\")\n",
    "print(df.describe())"
   ]
  },
  {
   "cell_type": "code",
   "execution_count": null,
   "metadata": {},
   "outputs": [
    {
     "data": {
      "image/png": "[encoded data removed]",
      "text/plain": [
       "<Figure size 1200x600 with 1 Axes>"
      ]
     },
     "metadata": {},
     "output_type": "display_data"
    }
   ],
   "source": [
    "\n",
    "    # 4. Visualización de datos\n",
    "    plt.figure(figsize=(12, 6))\n",
    "    sns.scatterplot(x='petal length (cm)', y='petal width (cm)', hue='target', data=df)\n",
    "    plt.title('Distribución de Versicolor vs Otras Especies')\n",
    "    plt.show()"
   ]
  },
  {
   "cell_type": "code",
   "execution_count": 27,
   "metadata": {},
   "outputs": [],
   "source": [
    "# 6. Dividir en entrenamiento (70%) y prueba (30%)\n",
    "X_train, X_test, y_train, y_test = train_test_split(X, y, test_size=0.3, random_state=42, stratify=y)"
   ]
  },
  {
   "cell_type": "code",
   "execution_count": 45,
   "metadata": {},
   "outputs": [],
   "source": [
    "# 8. Crear y entrenar modelo de regresión logística\n",
    "model = LogisticRegression(random_state=42)\n",
    "model.fit(X_train_scaled, y_train)\n",
    "\n",
    "# 9. Hacer predicciones\n",
    "y_pred = model.predict(X_test_scaled)\n",
    "y_pred_proba = model.predict_proba(X_test_scaled)[:, 1]  # Probabilidades para clase 1 (versicolor)\n"
   ]
  },
  {
   "cell_type": "code",
   "execution_count": 42,
   "metadata": {},
   "outputs": [
    {
     "data": {
      "text/plain": [
       "array([-1.05932828, -1.47108897, -0.16636351, -0.16605468])"
      ]
     },
     "execution_count": null,
     "metadata": {},
     "output_type": "execute_result"
    }
   ],
   "source": [
    "X_test_scaled[0,:]"
   ]
  },
  {
   "cell_type": "code",
   "execution_count": 32,
   "metadata": {},
   "outputs": [
    {
     "data": {
      "text/plain": [
       "array([1, 0, 1, 0, 0, 1, 0, 0, 0, 0, 0, 0, 1, 0, 0, 1, 0, 1, 0, 0, 0, 1, 0, 1, 0, 0, 0, 0, 0, 1, 0, 1, 0, 0, 0, 0, 1, 1, 1, 0, 0, 0, 0,\n",
       "       0, 0])"
      ]
     },
     "execution_count": null,
     "metadata": {},
     "output_type": "execute_result"
    }
   ],
   "source": [
    "y_pred"
   ]
  },
  {
   "cell_type": "code",
   "execution_count": 33,
   "metadata": {},
   "outputs": [
    {
     "data": {
      "text/plain": [
       "array([0.71525184, 0.18310222, 0.57570819, 0.14733502, 0.36054316, 0.66028344, 0.18195217, 0.33321327, 0.05501848, 0.36141655,\n",
       "       0.07221494, 0.31803046, 0.50816934, 0.29091151, 0.19949493, 0.60764697, 0.0706257 , 0.57899324, 0.05631525, 0.01787789,\n",
       "       0.04223642, 0.5821423 , 0.47117927, 0.52033994, 0.30865949, 0.02363695, 0.15004386, 0.40146647, 0.28514592, 0.76896919,\n",
       "       0.27742821, 0.56374878, 0.13109339, 0.09915463, 0.28797404, 0.07122779, 0.7468971 , 0.50352144, 0.764057  , 0.16912683,\n",
       "       0.36085665, 0.31379537, 0.16037706, 0.44679485, 0.47117927])"
      ]
     },
     "execution_count": null,
     "metadata": {},
     "output_type": "execute_result"
    }
   ],
   "source": [
    "y_pred_proba"
   ]
  },
  {
   "cell_type": "code",
   "execution_count": 31,
   "metadata": {},
   "outputs": [
    {
     "data": {
      "text/plain": [
       "array([-0.91374192])"
      ]
     },
     "execution_count": null,
     "metadata": {},
     "output_type": "execute_result"
    }
   ],
   "source": [
    " model.intercept_"
   ]
  },
  {
   "cell_type": "code",
   "execution_count": 30,
   "metadata": {},
   "outputs": [
    {
     "data": {
      "text/plain": [
       "array([[ 0.28131459, -1.42494881,  0.67273024, -0.89408671]])"
      ]
     },
     "execution_count": null,
     "metadata": {},
     "output_type": "execute_result"
    }
   ],
   "source": [
    "model.coef_"
   ]
  },
  {
   "cell_type": "markdown",
   "metadata": {},
   "source": [
    "$$\n",
    "\n",
    "P(Y = 1) =  \\frac{exp(0.91374192 +\\hat 0.28131459 X_1 -1.42494881 x_2 +  0.67273024 x_3  -0.89408671 x_4 )}{1+exp( 0.91374192 + \\hat  0.28131459 X_1 -1.42494881 X_2 +  0.67273024 x_3 -0.89408671 x_4 )} \n",
    "\n",
    "\n",
    "$$\n",
    "x1: petat length (estand)\n",
    "x2: petal width (estand)\n",
    "x3: seapl length (estand)\n",
    "x4: sepal width (estand)\n"
   ]
  },
  {
   "cell_type": "markdown",
   "metadata": {},
   "source": [
    "Evaluación del modelo"
   ]
  },
  {
   "cell_type": "code",
   "execution_count": 47,
   "metadata": {},
   "outputs": [
    {
     "data": {
      "text/plain": [
       "target\n",
       "0    30\n",
       "1    15\n",
       "Name: count, dtype: int64"
      ]
     },
     "execution_count": null,
     "metadata": {},
     "output_type": "execute_result"
    }
   ],
   "source": [
    "y_test.value_counts()"
   ]
  },
  {
   "cell_type": "code",
   "execution_count": 48,
   "metadata": {},
   "outputs": [
    {
     "name": "stdout",
     "output_type": "stream",
     "text": [
      "\n",
      "Métricas de evaluación:\n",
      "Exactitud (Accuracy): 0.6889\n",
      "Precisión (Precision): 0.5455\n",
      "Sensibilidad (Recall): 0.4000\n",
      "Puntuación F1: 0.4615\n",
      "AUC-ROC: 0.7156\n",
      "\n",
      "Matriz de confusión:\n"
     ]
    },
    {
     "data": {
      "image/png": "[encoded data removed]",
      "text/plain": [
       "<Figure size 640x480 with 2 Axes>"
      ]
     },
     "metadata": {},
     "output_type": "display_data"
    },
    {
     "name": "stdout",
     "output_type": "stream",
     "text": [
      "\n",
      "Reporte de clasificación completo:\n",
      "               precision    recall  f1-score   support\n",
      "\n",
      "No Versicolor       0.74      0.83      0.78        30\n",
      "   Versicolor       0.55      0.40      0.46        15\n",
      "\n",
      "     accuracy                           0.69        45\n",
      "    macro avg       0.64      0.62      0.62        45\n",
      " weighted avg       0.67      0.69      0.67        45\n",
      "\n"
     ]
    }
   ],
   "source": [
    "\n",
    "# 10. Evaluar el modelo\n",
    "print(\"\\nMétricas de evaluación:\")\n",
    "print(f\"Exactitud (Accuracy): {accuracy_score(y_test, y_pred):.4f}\")\n",
    "print(f\"Precisión (Precision): {precision_score(y_test, y_pred):.4f}\")\n",
    "print(f\"Sensibilidad (Recall): {recall_score(y_test, y_pred):.4f}\")\n",
    "print(f\"Puntuación F1: {f1_score(y_test, y_pred):.4f}\")\n",
    "print(f\"AUC-ROC: {roc_auc_score(y_test, y_pred_proba):.4f}\")\n",
    "\n",
    "print(\"\\nMatriz de confusión:\")\n",
    "conf_mat = confusion_matrix(y_test, y_pred)\n",
    "sns.heatmap(conf_mat, annot=True, fmt='d', cmap='Blues', \n",
    "            xticklabels=['No Versicolor', 'Versicolor'],\n",
    "            yticklabels=['No Versicolor', 'Versicolor'])\n",
    "plt.ylabel('Verdadero')\n",
    "plt.xlabel('Predicho')\n",
    "plt.title('Matriz de Confusión')\n",
    "plt.show()\n",
    "\n",
    "print(\"\\nReporte de clasificación completo:\")\n",
    "print(classification_report(y_test, y_pred, target_names=['No Versicolor', 'Versicolor']))"
   ]
  },
  {
   "cell_type": "code",
   "execution_count": null,
   "metadata": {},
   "outputs": [],
   "source": [
    "\n",
    "# 11. Importancia de las características\n",
    "coef_df = pd.DataFrame({\n",
    "    'Característica': iris.feature_names,\n",
    "    'Coeficiente': model.coef_[0],\n",
    "    'Importancia Absoluta': np.abs(model.coef_[0])\n",
    "}).sort_values('Importancia Absoluta', ascending=False)\n",
    "\n",
    "print(\"\\nImportancia de las características:\")\n",
    "display(coef_df)\n",
    "\n",
    "# 12. Visualización de coeficientes\n",
    "plt.figure(figsize=(10, 6))\n",
    "sns.barplot(x='Coeficiente', y='Característica', data=coef_df)\n",
    "plt.title('Coeficientes de la Regresión Logística')\n",
    "plt.show()"
   ]
  },
  {
   "cell_type": "markdown",
   "metadata": {},
   "source": [
    "# Árbol de decisión"
   ]
  },
  {
   "cell_type": "code",
   "execution_count": 74,
   "metadata": {},
   "outputs": [],
   "source": [
    "from sklearn.tree import DecisionTreeClassifier\n",
    "\n",
    "#model = LogisticRegression(random_state=42)\n",
    "\n",
    "model = DecisionTreeClassifier(\n",
    "    max_depth=3,        # Profundidad máxima del árbol\n",
    "    min_samples_split=5, # Mínimo de muestras para dividir un nodo\n",
    "    min_samples_leaf=5,  # Mínimo de muestras en hojas\n",
    "    random_state=42\n",
    ")\n",
    "\n",
    "model.fit(X_train_scaled, y_train)\n",
    "\n",
    "# 9. Hacer predicciones\n",
    "y_pred = model.predict(X_test_scaled)\n",
    "y_pred_proba = model.predict_proba(X_test_scaled)[:, 1]  # Probabilidades para clase 1 (versicolor)\n"
   ]
  },
  {
   "cell_type": "code",
   "execution_count": 75,
   "metadata": {},
   "outputs": [
    {
     "data": {
      "text/plain": [
       "array([1. , 0. , 0.6, 0. , 0. , 1. , 0. , 0.2, 0. , 1. , 0. , 0. , 1. , 1. , 0. , 1. , 0. , 0. , 0. , 0. , 0. , 0.2, 0.2, 1. , 1. ,\n",
       "       0. , 0. , 0. , 0. , 0. , 1. , 1. , 0. , 0. , 1. , 0. , 0.6, 0.6, 0. , 0. , 0. , 0. , 1. , 1. , 0.2])"
      ]
     },
     "execution_count": null,
     "metadata": {},
     "output_type": "execute_result"
    }
   ],
   "source": [
    "y_pred_proba"
   ]
  },
  {
   "cell_type": "code",
   "execution_count": 76,
   "metadata": {},
   "outputs": [
    {
     "name": "stdout",
     "output_type": "stream",
     "text": [
      "\n",
      "Métricas de evaluación:\n",
      "Exactitud (Accuracy): 0.9333\n",
      "Precisión (Precision): 0.8750\n",
      "Sensibilidad (Recall): 0.9333\n",
      "Puntuación F1: 0.9032\n",
      "AUC-ROC: 0.9578\n",
      "\n",
      "Matriz de confusión:\n"
     ]
    },
    {
     "data": {
      "image/png": "[encoded data removed]",
      "text/plain": [
       "<Figure size 640x480 with 2 Axes>"
      ]
     },
     "metadata": {},
     "output_type": "display_data"
    },
    {
     "name": "stdout",
     "output_type": "stream",
     "text": [
      "\n",
      "Reporte de clasificación completo:\n",
      "               precision    recall  f1-score   support\n",
      "\n",
      "No Versicolor       0.97      0.93      0.95        30\n",
      "   Versicolor       0.88      0.93      0.90        15\n",
      "\n",
      "     accuracy                           0.93        45\n",
      "    macro avg       0.92      0.93      0.93        45\n",
      " weighted avg       0.94      0.93      0.93        45\n",
      "\n"
     ]
    }
   ],
   "source": [
    "\n",
    "# 10. Evaluar el modelo\n",
    "print(\"\\nMétricas de evaluación:\")\n",
    "print(f\"Exactitud (Accuracy): {accuracy_score(y_test, y_pred):.4f}\")\n",
    "print(f\"Precisión (Precision): {precision_score(y_test, y_pred):.4f}\")\n",
    "print(f\"Sensibilidad (Recall): {recall_score(y_test, y_pred):.4f}\")\n",
    "print(f\"Puntuación F1: {f1_score(y_test, y_pred):.4f}\")\n",
    "print(f\"AUC-ROC: {roc_auc_score(y_test, y_pred_proba):.4f}\")\n",
    "\n",
    "print(\"\\nMatriz de confusión:\")\n",
    "conf_mat = confusion_matrix(y_test, y_pred)\n",
    "sns.heatmap(conf_mat, annot=True, fmt='d', cmap='Blues', \n",
    "            xticklabels=['No Versicolor', 'Versicolor'],\n",
    "            yticklabels=['No Versicolor', 'Versicolor'])\n",
    "plt.ylabel('Verdadero')\n",
    "plt.xlabel('Predicho')\n",
    "plt.title('Matriz de Confusión')\n",
    "plt.show()\n",
    "\n",
    "print(\"\\nReporte de clasificación completo:\")\n",
    "print(classification_report(y_test, y_pred, target_names=['No Versicolor', 'Versicolor']))"
   ]
  }
 ],
 "metadata": {
  "language_info": {
   "name": "python"
  }
 },
 "nbformat": 4,
 "nbformat_minor": 2
}
