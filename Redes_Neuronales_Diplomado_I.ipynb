{
  "nbformat": 4,
  "nbformat_minor": 0,
  "metadata": {
    "colab": {
      "provenance": []
    },
    "kernelspec": {
      "name": "python3",
      "display_name": "Python 3"
    },
    "language_info": {
      "name": "python"
    }
  },
  "cells": [
    {
      "cell_type": "markdown",
      "source": [
        "# Redes neuronales y gradiente descendente\n",
        "Batch, Mini-batch y Descenso de Gradiente Estocástico\n",
        "• Si usamos todos los puntos del conjunto de entrenamiento (n = N) para calcular la pérdida, estamos realizando un descenso de gradiente por lotes (batch gradient descent).\n",
        "• Si utilizamos un solo punto (n = 1) cada vez, estaríamos realizando un descenso de gradiente estocástico (stochastic gradient descent).\n",
        "• Cualquier otro valor de\n",
        "𝑛\n",
        "n entre 1 y\n",
        "𝑁\n",
        "N caracteriza un descenso de gradiente en mini-lotes (mini-batch gradient descent).\n"
      ],
      "metadata": {
        "id": "NjIVI4ow4Wa0"
      }
    },
    {
      "cell_type": "markdown",
      "source": [],
      "metadata": {
        "id": "18DEuvW-4WT0"
      }
    },
    {
      "cell_type": "markdown",
      "source": [
        "El número de actualizaciones (N/n) dependerá del tipo de descenso de gradiente que se utilice:\n",
        "\n",
        "- Para el descenso de gradiente por lotes (n = N), esto es trivial, ya que utiliza todos los puntos para calcular la pérdida: una época equivale a una sola actualización.\n",
        "- Para el descenso de gradiente estocástico (n = 1), una época significa N actualizaciones, ya que cada punto de datos individual se usa para realizar una actualización.\n",
        "- Para el descenso de gradiente en mini-lotes (de tamaño n), una época tiene N/n actualizaciones, ya que se usa un mini-lote de n puntos de datos para realizar una actualización."
      ],
      "metadata": {
        "id": "O-iQ0Bfv4i7J"
      }
    },
    {
      "cell_type": "code",
      "source": [
        "import torch\n",
        "from sklearn import datasets\n",
        "import pandas as pd\n",
        "\n",
        "\n",
        "# Cargar el dataset Iris\n",
        "iris = datasets.load_iris()\n",
        "\n",
        "# Convertirlo a un DataFrame de pandas\n",
        "df = pd.DataFrame(iris.data, columns=iris.feature_names)\n",
        "df['species'] = iris.target  # Agregar la columna de etiquetas numéricas\n",
        "df['species'] = df['species'].map({0: 'setosa', 1: 'versicolor', 2: 'virginica'})  # Convertir a nombres de especies\n",
        "\n",
        "# Mostrar las primeras filas\n",
        "df.head()"
      ],
      "metadata": {
        "id": "PZyCP2S14Vu_"
      },
      "execution_count": null,
      "outputs": []
    },
    {
      "cell_type": "code",
      "source": [
        "N = df.shape[0]"
      ],
      "metadata": {
        "id": "I0qvFB3-4mcW"
      },
      "execution_count": null,
      "outputs": []
    },
    {
      "cell_type": "code",
      "source": [
        "# Extraer las columnas usando NumPy\n",
        "import numpy as np\n",
        "x = np.array(df['petal length (cm)'])  # Definir x como petal length\n",
        "y = np.array(df['petal width (cm)'])   # Definir y como petal width\n",
        "\n",
        "# Mostrar los primeros valores\n",
        "print(\"x (Petal Length):\", x[:5])\n",
        "print(\"y (Petal Width):\", y[:5])\n",
        "\n",
        "# Mezcla los índices\n",
        "idx = np.arange(N)\n",
        "np.random.shuffle(idx)\n",
        "\n",
        "# Usa los primeros 80% de índices para entrenamiento\n",
        "train_idx = idx[:int(N * 0.8)]\n",
        "# Usa el 20% restante para validación\n",
        "val_idx = idx[int(N * 0.8):]\n",
        "\n",
        "# Generar los conjuntos de entrenamiento y validación\n",
        "x_train, y_train = x[train_idx], y[train_idx]\n",
        "x_val, y_val = x[val_idx], y[val_idx]\n",
        "\n",
        "# Mostrar tamaños de los conjuntos\n",
        "print(f\"Train set: {x_train.shape}, {y_train.shape}\")\n",
        "print(f\"Validation set: {x_val.shape}, {y_val.shape}\")"
      ],
      "metadata": {
        "id": "MoIkvDdq4mW1"
      },
      "execution_count": null,
      "outputs": []
    },
    {
      "cell_type": "code",
      "source": [
        "x_train_tensor = torch.as_tensor(x_train)\n",
        "y_train_tensor = torch.as_tensor(y_train)"
      ],
      "metadata": {
        "id": "1UpcPLzF4VrU"
      },
      "execution_count": null,
      "outputs": []
    },
    {
      "cell_type": "code",
      "source": [
        "device = 'cpu'\n"
      ],
      "metadata": {
        "id": "h58KmxGT4VoM"
      },
      "execution_count": null,
      "outputs": []
    },
    {
      "cell_type": "markdown",
      "source": [
        "# Fase de entrenamiento"
      ],
      "metadata": {
        "id": "gRwPWFbv4xrR"
      }
    },
    {
      "cell_type": "code",
      "source": [
        "import torch\n",
        "\n",
        "# Supongamos que x_train_tensor y y_train_tensor están definidos\n",
        "# y tienen la misma cantidad de elementos\n",
        "\n",
        "# Define la tasa de aprendizaje\n",
        "lr = 0.001\n",
        "\n",
        "# Número de épocas\n",
        "n_epochs = 1000\n",
        "\n",
        "# Inicialización de parámetros\n",
        "b = torch.randn(1, requires_grad=True, dtype=torch.float, device=device)\n",
        "w = torch.randn(1, requires_grad=True, dtype=torch.float, device=device)\n",
        "\n",
        "# Bucle de entrenamiento\n",
        "for epoch in range(n_epochs):\n",
        "    for i in range(len(x_train_tensor)):  # Iteramos sobre cada punto de datos\n",
        "        x_i = x_train_tensor[i]  # Seleccionamos un solo punto x\n",
        "        y_i = y_train_tensor[i]  # Seleccionamos su correspondiente y\n",
        "\n",
        "        # Paso 1: Predicción del modelo\n",
        "        yhat = b + w * x_i\n",
        "\n",
        "        # Paso 2: Cálculo de la pérdida (error cuadrático medio para un solo punto)\n",
        "        loss = (yhat - y_i) ** 2\n",
        "\n",
        "        # Paso 3: Cálculo de gradientes\n",
        "        loss.backward()\n",
        "\n",
        "        # Paso 4: Actualización de parámetros\n",
        "        with torch.no_grad():\n",
        "            b -= lr * b.grad\n",
        "            w -= lr * w.grad\n",
        "\n",
        "        # Limpiar gradientes antes de la siguiente iteración\n",
        "        b.grad.zero_()\n",
        "        w.grad.zero_()\n",
        "\n",
        "    # Imprimir cada 50 épocas\n",
        "    #if (epoch + 1) % 50 == 0:\n",
        "    if (epoch + 1) in [1, 10, 30] or (epoch + 1) % 50 == 0:\n",
        "        print(f\"Época {epoch+1}: b = {b.item()}, w = {w.item()}, pérdida = {loss.item()}\")"
      ],
      "metadata": {
        "id": "N8gdMc0X4VlP"
      },
      "execution_count": null,
      "outputs": []
    },
    {
      "cell_type": "code",
      "source": [
        "\n",
        "from scipy import stats\n",
        "# Realizar la regresión lineal\n",
        "slope, intercept, r_value, p_value, std_err = stats.linregress(x_train, y_train)\n",
        "\n",
        "# Mostrar los resultados\n",
        "print(f\"Coeficiente de pendiente (w): {slope}\")\n",
        "print(f\"Coeficiente de intercepción (b): {intercept}\")\n",
        "print(f\"Coeficiente de correlación (r): {r_value}\")\n",
        "print(f\"Valor p: {p_value}\")\n",
        "print(f\"Error estándar: {std_err}\")"
      ],
      "metadata": {
        "id": "0TwX8Sjq4Vid"
      },
      "execution_count": null,
      "outputs": []
    },
    {
      "cell_type": "code",
      "source": [
        "lr = 0.01\n",
        "\n",
        "# Step 0 - Initializes parameters \"b\" and \"w\" randomly\n",
        "torch.manual_seed(42)\n",
        "b = torch.randn(1, requires_grad=True, dtype=torch.float, device=device)\n",
        "w = torch.randn(1, requires_grad=True, dtype=torch.float, device=device)\n",
        "(b, w)"
      ],
      "metadata": {
        "id": "o2J3mhvE4Vff"
      },
      "execution_count": null,
      "outputs": []
    },
    {
      "cell_type": "code",
      "source": [
        "# Supongamos que x_train_tensor y y_train_tensor están definidos\n",
        "# y tienen la misma cantidad de elementos\n",
        "\n",
        "# Define la tasa de aprendizaje\n",
        "lr = 0.001\n",
        "\n",
        "# Número de épocas\n",
        "n_epochs = 31000\n",
        "\n",
        "# Inicialización de parámetros\n",
        "b = torch.randn(1, requires_grad=True, dtype=torch.float, device=device)\n",
        "w = torch.randn(1, requires_grad=True, dtype=torch.float, device=device)\n",
        "\n",
        "\n",
        "for epoch in range(n_epochs):\n",
        "    # Step 1 - Computes model's predicted output - forward pass\n",
        "    yhat = b + w * x_train_tensor\n",
        "\n",
        "    # Step 2 - Computes the loss\n",
        "    # We are using ALL data points, so this is BATCH gradient\n",
        "    # descent. How wrong is our model? That's the error!\n",
        "    error = (yhat - y_train_tensor)\n",
        "    # It is a regression, so it computes mean squared error (MSE)\n",
        "    loss = (error ** 2).mean()\n",
        "\n",
        "    # Step 3 - Computes gradients for both \"b\" and \"w\"\n",
        "    loss.backward()\n",
        "\n",
        "    # Step 4 - Updates parameters using gradients and\n",
        "    # the learning rate.\n",
        "    with torch.no_grad():\n",
        "        b -= lr * b.grad # b = b -lr * b.grad\n",
        "        w -= lr * w.grad\n",
        "\n",
        "    # Clears gradients\n",
        "    b.grad.zero_()\n",
        "    w.grad.zero_()\n",
        "\n",
        "    # Prints values every 50 iterations\n",
        "    if (epoch + 1) in [1, 10, 30] or (epoch + 1) % 50 == 0:\n",
        "        print(f\"Epoch {epoch+1}: b = {b.item()}, w = {w.item()}, loss = {loss.item()}\")"
      ],
      "metadata": {
        "id": "a7TmZF5W4Vcz"
      },
      "execution_count": null,
      "outputs": []
    },
    {
      "cell_type": "markdown",
      "source": [
        "1. Precisión vs. Velocidad\n",
        "Gradiente Descendente por Lotes (Batch GD):\n",
        "Precisión: Batch GD calcula el gradiente utilizando todos los datos en cada iteración, lo que proporciona una estimación más precisa y estable del gradiente.\n",
        "\n",
        "Velocidad: Sin embargo, calcular el gradiente sobre todo el conjunto de datos puede ser muy lento, especialmente cuando el conjunto de datos es grande.\n",
        "\n",
        "Gradiente Descendente Estocástico (SGD):\n",
        "Precisión: SGD calcula el gradiente utilizando un solo punto de datos (o un mini-lote) en cada iteración, lo que introduce ruido en las actualizaciones. Esto puede hacer que las actualizaciones sean menos precisas.\n",
        "\n",
        "Velocidad: SGD es mucho más rápido porque realiza actualizaciones frecuentes con menos cálculos por iteración.\n",
        "\n",
        "2. Tamaño del conjunto de datos\n",
        "Batch GD:\n",
        "Ventaja: Funciona bien en conjuntos de datos pequeños o medianos, donde calcular el gradiente sobre todos los datos es factible.\n",
        "\n",
        "Desventaja: En conjuntos de datos grandes, Batch GD puede ser computacionalmente costoso y lento, ya que requiere pasar por todo el conjunto de datos en cada iteración.\n",
        "\n",
        "SGD:\n",
        "Ventaja: Es ideal para conjuntos de datos grandes, ya que realiza actualizaciones con solo un punto de datos (o un mini-lote) en cada iteración.\n",
        "\n",
        "Desventaja: En conjuntos de datos pequeños, el ruido introducido por SGD puede hacer que el entrenamiento sea menos estable.\n",
        "\n",
        "3. Convergencia\n",
        "Batch GD:\n",
        "Convergencia suave: Batch GD converge de manera más suave y predecible porque utiliza el gradiente promedio de todos los datos.\n",
        "\n",
        "Convergencia lenta: Sin embargo, puede ser lento en converger, especialmente en problemas con muchas dimensiones o datos grandes.\n",
        "\n",
        "SGD:\n",
        "Convergencia ruidosa: SGD puede oscilar alrededor del mínimo debido al ruido en las actualizaciones.\n",
        "\n",
        "Convergencia rápida: Sin embargo, este ruido puede ayudar a SGD a escapar de mínimos locales y converger más rápido en algunos casos.\n",
        "\n",
        "4. Mínimos locales y puntos de silla\n",
        "Batch GD:\n",
        "Atrapado en mínimos locales: Batch GD puede quedar atrapado en mínimos locales o puntos de silla, especialmente en funciones de pérdida no convexas.\n",
        "\n",
        "Menos exploración: Al usar el gradiente promedio, Batch GD tiene menos capacidad para explorar el espacio de búsqueda.\n",
        "\n",
        "SGD:\n",
        "Escapa de mínimos locales: El ruido en las actualizaciones de SGD puede ayudar a escapar de mínimos locales y encontrar mejores soluciones.\n",
        "\n",
        "Más exploración: SGD explora más el espacio de búsqueda, lo que puede ser útil en problemas no convexos.\n",
        "\n",
        "5. Uso de memoria\n",
        "Batch GD:\n",
        "Alto uso de memoria: Batch GD requiere cargar todo el conjunto de datos en memoria para calcular el gradiente, lo que puede ser un problema en conjuntos de datos grandes.\n",
        "\n",
        "SGD:\n",
        "Bajo uso de memoria: SGD solo necesita cargar un punto de datos (o un mini-lote) a la vez, lo que reduce el uso de memoria.\n",
        "\n",
        "6. Aplicaciones prácticas\n",
        "Batch GD:\n",
        "Recomendado para: Problemas pequeños o medianos donde la precisión es crítica y el tiempo de entrenamiento no es un problema.\n",
        "\n",
        "Ejemplos: Regresión lineal en conjuntos de datos pequeños, problemas académicos.\n",
        "\n",
        "SGD:\n",
        "Recomendado para: Problemas grandes donde el tiempo de entrenamiento y el uso de memoria son críticos.\n",
        "\n",
        "Ejemplos: Entrenamiento de redes neuronales en grandes conjuntos de datos (por ejemplo, ImageNet), problemas de aprendizaje profundo.\n",
        "\n",
        "Tipicamente usa n = 32, 64, 129."
      ],
      "metadata": {
        "id": "LtFRwXbC4_u9"
      }
    },
    {
      "cell_type": "markdown",
      "source": [
        "#Minibarch (n = 32)"
      ],
      "metadata": {
        "id": "yeKgSRSY5EVF"
      }
    },
    {
      "cell_type": "code",
      "source": [
        "# Define la tasa de aprendizaje\n",
        "lr = 0.001\n",
        "\n",
        "# Número de épocas\n",
        "n_epochs = 20000\n",
        "\n",
        "# Tamaño del mini-batch\n",
        "batch_size = 32\n",
        "\n",
        "# Inicialización de parámetros\n",
        "b = torch.randn(1, requires_grad=True, dtype=torch.float32)\n",
        "w = torch.randn(1, requires_grad=True, dtype=torch.float32)\n",
        "\n",
        "# Bucle de entrenamiento\n",
        "for epoch in range(n_epochs):\n",
        "    # Mezclar los datos en cada época (opcional pero recomendado)\n",
        "    indices = torch.randperm(len(x_train_tensor))\n",
        "    x_train_tensor = x_train_tensor[indices]\n",
        "    y_train_tensor = y_train_tensor[indices]\n",
        "\n",
        "    # Iterar sobre mini-lotes\n",
        "    for i in range(0, len(x_train_tensor), batch_size):\n",
        "        # Seleccionar el mini-batch actual\n",
        "        x_batch = x_train_tensor[i:i + batch_size]\n",
        "        y_batch = y_train_tensor[i:i + batch_size]\n",
        "\n",
        "        # Paso 1: Predicción del modelo\n",
        "        yhat = b + w * x_batch\n",
        "\n",
        "        # Paso 2: Cálculo de la pérdida (error cuadrático medio para el mini-batch)\n",
        "        loss = ((yhat - y_batch) ** 2).mean()\n",
        "\n",
        "        # Paso 3: Cálculo de gradientes\n",
        "        loss.backward()\n",
        "\n",
        "        # Paso 4: Actualización de parámetros\n",
        "        with torch.no_grad():\n",
        "            b -= lr * b.grad\n",
        "            w -= lr * w.grad\n",
        "\n",
        "        # Limpiar gradientes antes de la siguiente iteración\n",
        "        b.grad.zero_()\n",
        "        w.grad.zero_()\n",
        "\n",
        "    # Imprimir cada 50 épocas o en épocas específicas\n",
        "    if (epoch + 1) in [1, 10, 30] or (epoch + 1) % 50 == 0:\n",
        "        print(f\"Época {epoch+1}: b = {b.item()}, w = {w.item()}, pérdida = {loss.item()}\")"
      ],
      "metadata": {
        "id": "PM8GREy95DnE"
      },
      "execution_count": null,
      "outputs": []
    },
    {
      "cell_type": "markdown",
      "source": [
        "# Simplificación"
      ],
      "metadata": {
        "id": "u5QSyBzu5PJT"
      }
    },
    {
      "cell_type": "code",
      "source": [
        "# Extraer las columnas usando NumPy\n",
        "import numpy as np\n",
        "x = np.array(df['petal length (cm)'])  # Definir x como petal length\n",
        "y = np.array(df['petal width (cm)'])   # Definir y como petal width\n",
        "\n",
        "# Mostrar los primeros valores\n",
        "print(\"x (Petal Length):\", x[:5])\n",
        "print(\"y (Petal Width):\", y[:5])\n",
        "\n",
        "# Mezcla los índices\n",
        "idx = np.arange(N)\n",
        "np.random.shuffle(idx)\n",
        "\n",
        "# Usa los primeros 80% de índices para entrenamiento\n",
        "train_idx = idx[:int(N * 0.8)]\n",
        "# Usa el 20% restante para validación\n",
        "val_idx = idx[int(N * 0.8):]\n",
        "\n",
        "# Generar los conjuntos de entrenamiento y validación\n",
        "x_train, y_train = x[train_idx], y[train_idx]\n",
        "x_val, y_val = x[val_idx], y[val_idx]\n",
        "\n",
        "# Mostrar tamaños de los conjuntos\n",
        "print(f\"Train set: {x_train.shape}, {y_train.shape}\")\n",
        "print(f\"Validation set: {x_val.shape}, {y_val.shape}\")"
      ],
      "metadata": {
        "id": "w3jq9Q3t4VZ4"
      },
      "execution_count": null,
      "outputs": []
    },
    {
      "cell_type": "code",
      "source": [
        "x_train_tensor = torch.as_tensor(x_train)\n",
        "y_train_tensor = torch.as_tensor(y_train)"
      ],
      "metadata": {
        "id": "xy3tger84VWw"
      },
      "execution_count": null,
      "outputs": []
    },
    {
      "cell_type": "code",
      "source": [
        "import torch\n",
        "import torch.optim as optim\n",
        "\n",
        "# Define el dispositivo (CPU o GPU)\n",
        "device = torch.device(\"cuda\" if torch.cuda.is_available() else \"cpu\")\n",
        "\n",
        "# 1. Define la tasa de aprendizaje (eta)\n",
        "lr = 0.01\n",
        "\n",
        "# 2. Inicializa los parámetros \"b\" y \"w\" aleatoriamente\n",
        "torch.manual_seed(42)  # Para reproducibilidad\n",
        "b = torch.randn(1, requires_grad=True, dtype=torch.float, device=device)\n",
        "w = torch.randn(1, requires_grad=True, dtype=torch.float, device=device)\n",
        "\n",
        "# 3. Define un optimizador SGD para actualizar los parámetros\n",
        "optimizer = optim.SGD([b, w], lr=lr)\n",
        "\n",
        "# 4. Define el número de épocas\n",
        "n_epochs = 10000\n",
        "\n",
        "# 5. Bucle de entrenamiento\n",
        "for epoch in range(n_epochs):\n",
        "    # Paso 1 - Calcula la salida predicha por el modelo (forward pass)\n",
        "    yhat = b + w * x_train_tensor\n",
        "\n",
        "    # Paso 2 - Calcula la pérdida\n",
        "    # Estamos usando TODOS los puntos de datos, por lo que esto es\n",
        "    # Gradiente Descendente por Lotes (Batch Gradient Descent).\n",
        "    error = (yhat - y_train_tensor)\n",
        "    # Es una regresión, por lo que calculamos el error cuadrático medio (MSE)\n",
        "    loss = (error ** 2).mean()\n",
        "\n",
        "    # Paso 3 - Calcula los gradientes para los parámetros \"b\" y \"w\"\n",
        "    loss.backward()\n",
        "\n",
        "    # Paso 4 - Actualiza los parámetros usando los gradientes y\n",
        "    # la tasa de aprendizaje. ¡No más actualización manual!\n",
        "    # Step 4 - Updates parameters using gradients and\n",
        "    # the learning rate. No more manual update!\n",
        "    # with torch.no_grad():\n",
        "    # b -= lr * b.grad\n",
        "    # w -= lr * w.grad\n",
        "    optimizer.step()\n",
        "\n",
        "    # Paso 5 - Limpia los gradientes para la siguiente iteración\n",
        "    optimizer.zero_grad()\n",
        "    # No more telling Pytorch to let gradients go!\n",
        "    # b.grad.zero_()\n",
        "    # w.grad.zero_()\n",
        "\n",
        "# 6. Imprime los parámetros finales\n",
        "print(f\"Parámetro b: {b.item()}\")\n",
        "print(f\"Parámetro w: {w.item()}\")"
      ],
      "metadata": {
        "id": "f_7MLabn4VTm"
      },
      "execution_count": null,
      "outputs": []
    },
    {
      "cell_type": "markdown",
      "source": [
        "# Definición de función de perdida"
      ],
      "metadata": {
        "id": "rJ6pX8bR5Z66"
      }
    },
    {
      "cell_type": "code",
      "source": [
        "import torch.nn as nn  # Importa el módulo nn para usar MSELoss\n",
        "import torch\n",
        "import torch.optim as optim\n",
        "import torch.nn as nn"
      ],
      "metadata": {
        "id": "78Zxlo8B5KcO"
      },
      "execution_count": null,
      "outputs": []
    },
    {
      "cell_type": "markdown",
      "source": [
        "Ejemplo de función de perdida"
      ],
      "metadata": {
        "id": "oF3iF2_j5i9m"
      }
    },
    {
      "cell_type": "code",
      "source": [
        "loss_fn = nn.MSELoss(reduction='mean')\n",
        "# This is a random example to illustrate the loss function\n",
        "predictions = torch.tensor([0.5, 1.0])\n",
        "labels = torch.tensor([2.0, 1.3])\n",
        "loss_fn(predictions, labels)"
      ],
      "metadata": {
        "id": "VYwmFlQh5KYx"
      },
      "execution_count": null,
      "outputs": []
    },
    {
      "cell_type": "markdown",
      "source": [
        "Usemola en la práctica:"
      ],
      "metadata": {
        "id": "SxHAvVsv5sAb"
      }
    },
    {
      "cell_type": "code",
      "source": [
        "import torch\n",
        "import torch.optim as optim\n",
        "import torch.nn as nn\n",
        "\n",
        "\n",
        "# Define el dispositivo (CPU o GPU)\n",
        "device = torch.device(\"cuda\" if torch.cuda.is_available() else \"cpu\")\n",
        "\n",
        "torch.manual_seed(42)  # Para reproducibilidad\n",
        "b = torch.randn(1, requires_grad=True, dtype=torch.float, device=device)\n",
        "w = torch.randn(1, requires_grad=True, dtype=torch.float, device=device)\n",
        "\n",
        "# 2. Inicializa los parámetros \"b\" y \"w\" aleatoriamente\n",
        "\n",
        "# Define el dispositivo (CPU o GPU)\n",
        "device = torch.device(\"cuda\" if torch.cuda.is_available() else \"cpu\")\n",
        "\n",
        "# 1. Define la tasa de aprendizaje (eta)\n",
        "lr = 0.01\n",
        "\n",
        "# 2. Inicializa los parámetros \"b\" y \"w\" aleatoriamente\n",
        "torch.manual_seed(42)  # Para reproducibilidad\n",
        "b = torch.randn(1, requires_grad=True, dtype=torch.float, device=device)\n",
        "w = torch.randn(1, requires_grad=True, dtype=torch.float, device=device)\n",
        "\n",
        "# 3. Define un optimizador y un error SGD para actualizar los parámetros\n",
        "optimizer = optim.SGD([b, w], lr=lr)\n",
        "\n",
        "# Defines an MSE loss function\n",
        "loss_fn = nn.MSELoss(reduction='mean')\n",
        "\n",
        "# 4. Define el número de épocas\n",
        "n_epochs = 10000\n",
        "\n",
        "# 5. Bucle de entrenamiento\n",
        "for epoch in range(n_epochs):\n",
        "    # Paso 1 - Calcula la salida predicha por el modelo (forward pass)\n",
        "    yhat = b + w * x_train_tensor\n",
        "\n",
        "    # Paso 2 - Calcula la pérdida\n",
        "    # Estamos usando TODOS los puntos de datos, por lo que esto es\n",
        "    # Gradiente Descendente por Lotes (Batch Gradient Descent).\n",
        "    # error = (yhat - y_train_tensor)\n",
        "    # Es una regresión, por lo que calculamos el error cuadrático medio (MSE)\n",
        "    # loss = (error ** 2).mean()\n",
        "\n",
        "    loss = loss_fn(yhat, y_train_tensor)\n",
        "\n",
        "    # Paso 3 - Calcula los gradientes para los parámetros \"b\" y \"w\"\n",
        "    loss.backward()\n",
        "\n",
        "    # Paso 4 - Actualiza los parámetros usando los gradientes y\n",
        "    # la tasa de aprendizaje. ¡No más actualización manual!\n",
        "    # Step 4 - Updates parameters using gradients and\n",
        "    # the learning rate. No more manual update!\n",
        "    # with torch.no_grad():\n",
        "    # b -= lr * b.grad\n",
        "    # w -= lr * w.grad\n",
        "    optimizer.step()\n",
        "\n",
        "    # Paso 5 - Limpia los gradientes para la siguiente iteración\n",
        "    optimizer.zero_grad()\n",
        "    # No more telling Pytorch to let gradients go!\n",
        "    # b.grad.zero_()\n",
        "    # w.grad.zero_()\n",
        "\n",
        "# 6. Imprime los parámetros finales\n",
        "print(f\"Parámetro b: {b.item()}\")\n",
        "print(f\"Parámetro w: {w.item()}\")"
      ],
      "metadata": {
        "id": "n2J1FXJ_5KVf"
      },
      "execution_count": null,
      "outputs": []
    },
    {
      "cell_type": "markdown",
      "source": [
        "# Incluir el modelo"
      ],
      "metadata": {
        "id": "PPJ3TSpz5wEw"
      }
    },
    {
      "cell_type": "code",
      "source": [
        "class ManualLinearRegression(nn.Module):\n",
        "    def __init__(self):\n",
        "        super().__init__()\n",
        "        # Define los parámetros \"b\" y \"w\" como nn.Parameter\n",
        "        self.b = nn.Parameter(torch.randn(1, requires_grad=True, dtype=torch.float))\n",
        "        self.w = nn.Parameter(torch.randn(1, requires_grad=True, dtype=torch.float))\n",
        "\n",
        "    def forward(self, x):\n",
        "        # Calcula la salida/predicción del modelo\n",
        "        return self.b + self.w * x\n"
      ],
      "metadata": {
        "id": "AhMqrn1W5R3p"
      },
      "execution_count": null,
      "outputs": []
    },
    {
      "cell_type": "markdown",
      "source": [
        "Qué hace super().__init__()?\n",
        "Inicializa la clase base (nn.Module):\n",
        "\n",
        "La clase ManualLinearRegression hereda de nn.Module, que es la clase base para todos los modelos en PyTorch.\n",
        "\n",
        "super().__init__() llama al método __init__ de la clase base (nn.Module) para asegurarse de que se realice la inicialización necesaria.        \n",
        "\n",
        "Registra los parámetros y submódulos:\n",
        "\n",
        "nn.Module tiene un mecanismo interno para rastrear los parámetros (como self.b y self.w) y submódulos (si los hubiera) que se definen en la clase.\n",
        "\n",
        "Sin llamar a super().__init__(), este mecanismo no funcionaría correctamente, y los parámetros no se registrarían como parte del modelo.\n",
        "\n",
        "Habilita funcionalidades de PyTorch:\n",
        "\n",
        "nn.Module proporciona muchas funcionalidades útiles, como:\n",
        "\n",
        "Manejo automático de gradientes.\n",
        "\n",
        "Soporte para mover el modelo a diferentes dispositivos (CPU/GPU).\n",
        "\n",
        "Métodos como parameters(), to(device), state_dict(), etc.\n",
        "\n",
        "Estas funcionalidades dependen de que nn.Module se inicialice correctamente."
      ],
      "metadata": {
        "id": "AlczeTlC51U4"
      }
    },
    {
      "cell_type": "code",
      "source": [
        "torch.manual_seed(42)\n",
        "# Creates a \"dummy\" instance of our ManualLinearRegression model\n",
        "dummy = ManualLinearRegression()\n",
        "list(dummy.parameters()) # Método heredado de nn.Module"
      ],
      "metadata": {
        "id": "ZKkFpVc-5Rzf"
      },
      "execution_count": null,
      "outputs": []
    },
    {
      "cell_type": "code",
      "source": [
        "# El valor actual de los parámetros:\n",
        "dummy.state_dict()"
      ],
      "metadata": {
        "id": "pXJXUvKS55sX"
      },
      "execution_count": null,
      "outputs": []
    },
    {
      "cell_type": "code",
      "source": [
        "optimizer.state_dict()"
      ],
      "metadata": {
        "id": "XUBcAVnB58Cu"
      },
      "execution_count": null,
      "outputs": []
    },
    {
      "cell_type": "code",
      "source": [
        "torch.manual_seed(42)\n",
        "# Creates a \"dummy\" instance of our ManualLinearRegression model\n",
        "# and sends it to the device\n",
        "dummy = ManualLinearRegression().to(device)"
      ],
      "metadata": {
        "id": "DFUkN9v_5-ev"
      },
      "execution_count": null,
      "outputs": []
    },
    {
      "cell_type": "markdown",
      "source": [
        "Construimos un modelo"
      ],
      "metadata": {
        "id": "BKbtE4JJ6DJx"
      }
    },
    {
      "cell_type": "code",
      "source": [
        "class ManualLinearRegression(nn.Module):\n",
        "    def __init__(self):\n",
        "        super().__init__()\n",
        "        # Define los parámetros \"b\" y \"w\" como nn.Parameter\n",
        "        self.b = nn.Parameter(torch.randn(1, requires_grad=True, dtype=torch.float))\n",
        "        self.w = nn.Parameter(torch.randn(1, requires_grad=True, dtype=torch.float))\n",
        "\n",
        "    def forward(self, x):\n",
        "        # Calcula la salida/predicción del modelo\n",
        "        return self.b + self.w * x"
      ],
      "metadata": {
        "id": "61GoVyTD571c"
      },
      "execution_count": null,
      "outputs": []
    },
    {
      "cell_type": "code",
      "source": [
        "# Extraer las columnas usando NumPy\n",
        "import numpy as np\n",
        "x = np.array(df['petal length (cm)'])  # Definir x como petal length\n",
        "y = np.array(df['petal width (cm)'])   # Definir y como petal width\n",
        "\n",
        "# Mostrar los primeros valores\n",
        "print(\"x (Petal Length):\", x[:5])\n",
        "print(\"y (Petal Width):\", y[:5])\n",
        "\n",
        "# Mezcla los índices\n",
        "idx = np.arange(N)\n",
        "np.random.shuffle(idx)\n",
        "\n",
        "# Usa los primeros 80% de índices para entrenamiento\n",
        "train_idx = idx[:int(N * 0.8)]\n",
        "# Usa el 20% restante para validación\n",
        "val_idx = idx[int(N * 0.8):]\n",
        "\n",
        "# Generar los conjuntos de entrenamiento y validación\n",
        "x_train, y_train = x[train_idx], y[train_idx]\n",
        "x_val, y_val = x[val_idx], y[val_idx]\n",
        "\n",
        "# Mostrar tamaños de los conjuntos\n",
        "print(f\"Train set: {x_train.shape}, {y_train.shape}\")\n",
        "print(f\"Validation set: {x_val.shape}, {y_val.shape}\")"
      ],
      "metadata": {
        "id": "qL32-XgG6FK3"
      },
      "execution_count": null,
      "outputs": []
    },
    {
      "cell_type": "code",
      "source": [
        "x_train_tensor = torch.as_tensor(x_train)\n",
        "y_train_tensor = torch.as_tensor(y_train)"
      ],
      "metadata": {
        "id": "FxUP4uA16KNb"
      },
      "execution_count": null,
      "outputs": []
    },
    {
      "cell_type": "code",
      "source": [
        "import torch\n",
        "import torch.optim as optim\n",
        "import torch.nn as nn\n",
        "\n",
        "\n",
        "# Define el dispositivo (CPU o GPU)\n",
        "# Define el dispositivo (CPU o GPU)\n",
        "device = torch.device(\"cuda\" if torch.cuda.is_available() else \"cpu\")\n",
        "\n",
        "# 1. Define la tasa de aprendizaje (eta)\n",
        "lr = 0.01\n",
        "\n",
        "# 2. Inicializa los parámetros \"b\" y \"w\" aleatoriamente\n",
        "torch.manual_seed(42)  # Para reproducibilidad\n",
        "# Ya no se requiere inicializar b y w, están dentro de la clase\n",
        "#b = torch.randn(1, requires_grad=True, dtype=torch.float, device=device)\n",
        "#w = torch.randn(1, requires_grad=True, dtype=torch.float, device=device)\n",
        "# Inicializo modelo\n",
        "model = ManualLinearRegression()\n",
        "print(model.state_dict())\n",
        "\n",
        "# 3. Define un optimizador y un error SGD para actualizar los parámetros\n",
        "optimizer = optim.SGD(model.parameters(), lr=lr)\n",
        "#optimizer = optim.SGD([b, w], lr=lr)\n",
        "\n",
        "# Defines an MSE loss function\n",
        "loss_fn = nn.MSELoss(reduction='mean')\n",
        "\n",
        "# 4. Define el número de épocas\n",
        "n_epochs = 10000\n",
        "\n",
        "# 5. Bucle de entrenamiento\n",
        "for epoch in range(n_epochs):\n",
        "    # Paso 1 - Calcula la salida predicha por el modelo (forward pass)\n",
        "    # Ya no se corre lo siguiente:\n",
        "    # yhat = b + w * x_train_tensor\n",
        "    model.train() # set the model to training mode\n",
        "    yhat = model(x_train_tensor)\n",
        "\n",
        "    # Paso 2 - Calcula la pérdida\n",
        "    # Estamos usando TODOS los puntos de datos, por lo que esto es\n",
        "    # Gradiente Descendente por Lotes (Batch Gradient Descent).\n",
        "    # error = (yhat - y_train_tensor)\n",
        "    # Es una regresión, por lo que calculamos el error cuadrático medio (MSE)\n",
        "    # loss = (error ** 2).mean()\n",
        "\n",
        "    loss = loss_fn(yhat, y_train_tensor)\n",
        "\n",
        "    # Paso 3 - Calcula los gradientes para los parámetros \"b\" y \"w\"\n",
        "    loss.backward()\n",
        "\n",
        "    # Paso 4 - Actualiza los parámetros usando los gradientes y\n",
        "    # la tasa de aprendizaje. ¡No más actualización manual!\n",
        "    # Step 4 - Updates parameters using gradients and\n",
        "    # the learning rate. No more manual update!\n",
        "    # with torch.no_grad():\n",
        "    # b -= lr * b.grad\n",
        "    # w -= lr * w.grad\n",
        "    optimizer.step()\n",
        "\n",
        "    # Paso 5 - Limpia los gradientes para la siguiente iteración\n",
        "    optimizer.zero_grad()\n",
        "    # No more telling Pytorch to let gradients go!\n",
        "    # b.grad.zero_()\n",
        "    # w.grad.zero_()\n",
        "\n",
        "print(model.state_dict())"
      ],
      "metadata": {
        "id": "DTF4L_XR6M6n"
      },
      "execution_count": null,
      "outputs": []
    },
    {
      "cell_type": "markdown",
      "source": [
        "#Más simplicado aún (nuestra primer real neuronal)"
      ],
      "metadata": {
        "id": "x-uV9tR56QAu"
      }
    },
    {
      "cell_type": "code",
      "source": [
        "linear = nn.Linear(1, 1)\n",
        "print(linear)"
      ],
      "metadata": {
        "colab": {
          "base_uri": "https://localhost:8080/"
        },
        "id": "Deno2es66R6l",
        "outputId": "aa290899-c891-435f-8aae-4e7244ffb357"
      },
      "execution_count": 57,
      "outputs": [
        {
          "output_type": "stream",
          "name": "stdout",
          "text": [
            "Linear(in_features=1, out_features=1, bias=True)\n"
          ]
        }
      ]
    },
    {
      "cell_type": "markdown",
      "source": [
        "linear.state_dict()"
      ],
      "metadata": {
        "id": "m2dKNCZK6P10"
      }
    },
    {
      "cell_type": "code",
      "source": [
        "#class ManualLinearRegression(nn.Module):\n",
        "#    def __init__(self):\n",
        "#        super().__init__()\n",
        "#        # Define los parámetros \"b\" y \"w\" como nn.Parameter\n",
        "#        self.b = nn.Parameter(torch.randn(1, requires_grad=True, dtype=torch.float))\n",
        "#        self.w = nn.Parameter(torch.randn(1, requires_grad=True, dtype=torch.float))\n",
        "#\n",
        "#    def forward(self, x):\n",
        "#        # Calcula la salida/predicción del modelo\n",
        "#       return self.b + self.w * x"
      ],
      "metadata": {
        "id": "O54BzWBz6aHy"
      },
      "execution_count": null,
      "outputs": []
    },
    {
      "cell_type": "code",
      "source": [
        "class MyLinearRegression(nn.Module):\n",
        "  def __init__(self):\n",
        "    super().__init__()\n",
        "    # Instead of our custom parameters, we use a Linear model\n",
        "    # with a single input and a single output\n",
        "    self.linear = nn.Linear(1, 1)\n",
        "    def forward(self, x):\n",
        "    # Now it only makes\n",
        "      self.linear(x)"
      ],
      "metadata": {
        "id": "4bv4Dk9O6bAi"
      },
      "execution_count": null,
      "outputs": []
    },
    {
      "cell_type": "code",
      "source": [
        "torch.manual_seed(42)\n",
        "dummy = MyLinearRegression()\n",
        "list(dummy.parameters())"
      ],
      "metadata": {
        "id": "Fd6S-U7c6gCm"
      },
      "execution_count": null,
      "outputs": []
    },
    {
      "cell_type": "code",
      "source": [
        "dummy.state_dict()"
      ],
      "metadata": {
        "id": "U1VN3XO86f4V"
      },
      "execution_count": null,
      "outputs": []
    },
    {
      "cell_type": "code",
      "source": [
        "torch.manual_seed(42)\n",
        "# Alternatively, you can use a Sequential model\n",
        "model = nn.Sequential(nn.Linear(1, 1)).to(device)\n",
        "\n",
        "model.state_dict()"
      ],
      "metadata": {
        "id": "ysZ_vKd86j6o"
      },
      "execution_count": null,
      "outputs": []
    },
    {
      "cell_type": "markdown",
      "source": [
        "# La plantilla final"
      ],
      "metadata": {
        "id": "3r8W8-uP7Td_"
      }
    },
    {
      "cell_type": "code",
      "source": [
        "x_train_tensor = torch.as_tensor(x_train, dtype=torch.float32, device=device).reshape(-1, 1)\n",
        "y_train_tensor = torch.as_tensor(y_train, dtype=torch.float32, device=device).reshape(-1, 1)"
      ],
      "metadata": {
        "id": "bLjv5lhV7Xfb"
      },
      "execution_count": null,
      "outputs": []
    },
    {
      "cell_type": "code",
      "source": [
        "import torch\n",
        "import torch.optim as optim\n",
        "import torch.nn as nn\n",
        "\n",
        "\n",
        "# Define el dispositivo (CPU o GPU)\n",
        "device = torch.device(\"cuda\" if torch.cuda.is_available() else \"cpu\")\n",
        "\n",
        "# 1. Define la tasa de aprendizaje (eta)\n",
        "lr = 0.01\n",
        "\n",
        "# 2. Inicializa los parámetros \"b\" y \"w\" aleatoriamente\n",
        "torch.manual_seed(42)  # Para reproducibilidad\n",
        "\n",
        "# Inicializo modelo\n",
        "model = nn.Sequential(nn.Linear(1, 1)).to(device)  # Mueve el modelo al dispositivo\n",
        "\n",
        "# Imprime el estado inicial del modelo\n",
        "print(\"Estado inicial del modelo:\")\n",
        "print(model.state_dict())\n",
        "\n",
        "# 3. Define un optimizador y un error SGD para actualizar los parámetros\n",
        "optimizer = optim.SGD(model.parameters(), lr=lr)\n",
        "\n",
        "# Define una función de pérdida MSE\n",
        "loss_fn = nn.MSELoss(reduction='mean')\n",
        "\n",
        "# 4. Define el número de épocas\n",
        "n_epochs = 10000\n",
        "\n",
        "# 5. Bucle de entrenamiento\n",
        "for epoch in range(n_epochs):\n",
        "    # Paso 1 - Calcula la salida predicha por el modelo (forward pass)\n",
        "    model.train()  # Establece el modelo en modo de entrenamiento\n",
        "    yhat = model(x_train_tensor)\n",
        "\n",
        "    # Paso 2 - Calcula la pérdida\n",
        "    loss = loss_fn(yhat, y_train_tensor)\n",
        "\n",
        "    # Paso 3 - Calcula los gradientes para los parámetros \"b\" y \"w\"\n",
        "    loss.backward()\n",
        "\n",
        "    # Paso 4 - Actualiza los parámetros usando los gradientes y la tasa de aprendizaje\n",
        "    optimizer.step()\n",
        "\n",
        "    # Paso 5 - Limpia los gradientes para la siguiente iteración\n",
        "    optimizer.zero_grad()\n",
        "\n",
        "# Imprime el estado final del modelo\n",
        "print(\"\\nEstado final del modelo:\")\n",
        "print(model.state_dict())"
      ],
      "metadata": {
        "id": "scjqj42M7qKg"
      },
      "execution_count": null,
      "outputs": []
    },
    {
      "cell_type": "markdown",
      "source": [
        "# Más redes neuronales"
      ],
      "metadata": {
        "id": "EreVwGXB6zo3"
      }
    },
    {
      "cell_type": "markdown",
      "source": [
        "![image.png](data:image/png;base64,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)![image.png](\n",
        "  \n",
        "\n",
        ")"
      ],
      "metadata": {
        "id": "tzkT2v9z64Qy"
      }
    },
    {
      "cell_type": "code",
      "source": [
        "torch.manual_seed(42)\n",
        "# Building the model from the figure above\n",
        "model = nn.Sequential(nn.Linear(3, 5), nn.Linear(5, 1)).to(device)\n",
        "model.state_dict()"
      ],
      "metadata": {
        "id": "eEqEhv0C6_33"
      },
      "execution_count": null,
      "outputs": []
    },
    {
      "cell_type": "code",
      "source": [
        "torch.manual_seed(42)\n",
        "# Building the model from the figure above\n",
        "model = nn.Sequential(nn.Linear(3, 5), nn.Linear(5, 1)).to(device)\n",
        "model.state_dict()"
      ],
      "metadata": {
        "id": "X-P0pFoh6_0v"
      },
      "execution_count": null,
      "outputs": []
    },
    {
      "cell_type": "code",
      "source": [
        "torch.manual_seed(42)\n",
        "# Building the model from the figure above\n",
        "model = nn.Sequential()\n",
        "model.add_module('layer1', nn.Linear(3, 5))\n",
        "model.add_module('layer2', nn.Linear(5, 1))\n",
        "model.to(device)"
      ],
      "metadata": {
        "id": "LuL6oMYc6_wt"
      },
      "execution_count": null,
      "outputs": []
    },
    {
      "cell_type": "code",
      "source": [],
      "metadata": {
        "id": "_7Sf06ZE6_ts"
      },
      "execution_count": null,
      "outputs": []
    },
    {
      "cell_type": "markdown",
      "source": [
        "# Relaciones no lineales"
      ],
      "metadata": {
        "id": "9K7pwp-E30uK"
      }
    },
    {
      "cell_type": "code",
      "source": [],
      "metadata": {
        "id": "2gpB-_g-6l8R"
      },
      "execution_count": null,
      "outputs": []
    },
    {
      "cell_type": "code",
      "source": [
        "import torch\n",
        "import torch.nn as nn\n",
        "import torch.optim as optim\n",
        "import numpy as np\n",
        "import matplotlib.pyplot as plt"
      ],
      "metadata": {
        "id": "ZsumToDf32JU"
      },
      "execution_count": null,
      "outputs": []
    },
    {
      "cell_type": "code",
      "source": [
        "# ===== 1. Generación de datos (función no lineal + ruido) =====\n",
        "np.random.seed(42)\n",
        "X = np.linspace(-5, 5, 100).reshape(-1, 1)\n",
        "y = np.sin(X) + 0.3 * np.random.randn(*X.shape)  # y = sin(x) + ruido"
      ],
      "metadata": {
        "id": "OwyjYL_u36Eb"
      },
      "execution_count": null,
      "outputs": []
    },
    {
      "cell_type": "code",
      "source": [
        "# Gráfico 1: Datos originales\n",
        "plt.figure(figsize=(12, 5))\n",
        "plt.subplot(1, 2, 1)\n",
        "plt.scatter(X, y, color='blue', alpha=0.5, label='Datos reales (y = sin(x) + ruido)')\n",
        "plt.title(\"Datos originales\")\n",
        "plt.xlabel(\"x\")\n",
        "plt.ylabel(\"y\")\n",
        "plt.grid(True)\n",
        "plt.legend()\n"
      ],
      "metadata": {
        "id": "_HKUDeIp37x1"
      },
      "execution_count": null,
      "outputs": []
    },
    {
      "cell_type": "code",
      "source": [
        "# Convertir a tensores PyTorch\n",
        "X_tensor = torch.tensor(X, dtype=torch.float32)\n",
        "y_tensor = torch.tensor(y, dtype=torch.float32)"
      ],
      "metadata": {
        "id": "n198b9jN37uD"
      },
      "execution_count": null,
      "outputs": []
    },
    {
      "cell_type": "code",
      "source": [
        "import torch.nn as nn\n",
        "\n",
        "class SimpleNN(nn.Module):\n",
        "    def __init__(self):\n",
        "        super(SimpleNN, self).__init__()\n",
        "\n",
        "        self.num_salidas_capa1 = 5  # Número de neuronas en la capa 1\n",
        "\n",
        "        self.layer1 = nn.Linear(1, self.num_salidas_capa1)\n",
        "        self.relu = nn.ReLU()\n",
        "        self.layer2 = nn.Linear(self.num_salidas_capa1, 1)  # Salida escalar\n",
        "\n",
        "    def forward(self, x):\n",
        "        x = self.layer1(x)\n",
        "        x = self.relu(x)\n",
        "        x = self.layer2(x)\n",
        "        return x"
      ],
      "metadata": {
        "id": "aigAoMuw37lD"
      },
      "execution_count": null,
      "outputs": []
    },
    {
      "cell_type": "code",
      "source": [
        "model = SimpleNN()\n",
        "\n",
        "# ===== 3. Configuración del entrenamiento =====\n",
        "criterion = nn.MSELoss()  # Función de pérdida\n",
        "optimizer = optim.Adam(model.parameters(), lr=0.01)  # Optimizador\n",
        "\n",
        "# ===== 4. Entrenamiento =====\n",
        "epochs = 1000\n",
        "loss_history = []\n",
        "\n",
        "for epoch in range(epochs):\n",
        "    optimizer.zero_grad()\n",
        "    outputs = model(X_tensor)\n",
        "    loss = criterion(outputs, y_tensor)\n",
        "    loss.backward()\n",
        "    optimizer.step()\n",
        "    loss_history.append(loss.item())\n",
        "\n",
        "    if (epoch + 1) % 100 == 0:\n",
        "        print(f'Epoch [{epoch+1}/{epochs}], Loss: {loss.item():.4f}')\n",
        "\n",
        "# ===== 5. Visualización =====\n",
        "with torch.no_grad():\n",
        "    predictions = model(X_tensor).numpy()"
      ],
      "metadata": {
        "id": "E-LTOLdn3-0N"
      },
      "execution_count": null,
      "outputs": []
    },
    {
      "cell_type": "code",
      "source": [
        "# Gráfico 2: Ajuste del modelo\n",
        "plt.subplot(1, 2, 2)\n",
        "plt.scatter(X, y, color='blue', alpha=0.5, label='Datos reales')\n",
        "plt.plot(X, predictions, color='red', linewidth=2, label='Predicción del modelo')\n",
        "plt.title(\"Ajuste de la red neuronal (ReLU en el medio)\")\n",
        "plt.xlabel(\"x\")\n",
        "plt.ylabel(\"y\")\n",
        "plt.grid(True)\n",
        "plt.legend()\n",
        "\n",
        "plt.tight_layout()\n",
        "plt.show()"
      ],
      "metadata": {
        "id": "9DFQ4KeL3-wn"
      },
      "execution_count": null,
      "outputs": []
    },
    {
      "cell_type": "code",
      "source": [
        "# Ejemplo real"
      ],
      "metadata": {
        "id": "anDbkNa33-tt"
      },
      "execution_count": null,
      "outputs": []
    },
    {
      "cell_type": "code",
      "source": [
        "import torch\n",
        "import torch.nn as nn\n",
        "import torch.optim as optim\n",
        "import pandas as pd\n",
        "from sklearn.datasets import fetch_california_housing\n",
        "from sklearn.model_selection import train_test_split\n",
        "from sklearn.preprocessing import StandardScaler\n",
        "import matplotlib.pyplot as plt\n",
        "from sklearn.metrics import mean_squared_error, mean_absolute_error, r2_score\n"
      ],
      "metadata": {
        "id": "F4keCikTpqA3"
      },
      "execution_count": 13,
      "outputs": []
    },
    {
      "cell_type": "code",
      "source": [
        "\n",
        "# 1. Cargar el dataset\n",
        "data = fetch_california_housing()\n",
        "X, y = data.data, data.target\n",
        "\n",
        "# 2. Convertir a DataFrame\n",
        "df = pd.DataFrame(X, columns=data.feature_names)\n",
        "df['target'] = y  # Agregamos la columna objetivo\n",
        "\n",
        "# 3. Mostrar las primeras filas\n",
        "print(df.head())"
      ],
      "metadata": {
        "colab": {
          "base_uri": "https://localhost:8080/"
        },
        "id": "KpVLbfZ8qkUr",
        "outputId": "0bb68c07-15f4-4b59-9025-79ae788f7b18"
      },
      "execution_count": 6,
      "outputs": [
        {
          "output_type": "stream",
          "name": "stdout",
          "text": [
            "   MedInc  HouseAge  AveRooms  AveBedrms  Population  AveOccup  Latitude  \\\n",
            "0  8.3252      41.0  6.984127   1.023810       322.0  2.555556     37.88   \n",
            "1  8.3014      21.0  6.238137   0.971880      2401.0  2.109842     37.86   \n",
            "2  7.2574      52.0  8.288136   1.073446       496.0  2.802260     37.85   \n",
            "3  5.6431      52.0  5.817352   1.073059       558.0  2.547945     37.85   \n",
            "4  3.8462      52.0  6.281853   1.081081       565.0  2.181467     37.85   \n",
            "\n",
            "   Longitude  target  \n",
            "0    -122.23   4.526  \n",
            "1    -122.22   3.585  \n",
            "2    -122.24   3.521  \n",
            "3    -122.25   3.413  \n",
            "4    -122.25   3.422  \n"
          ]
        }
      ]
    },
    {
      "cell_type": "code",
      "source": [
        "# 1. Load dataset\n",
        "data = fetch_california_housing()\n",
        "X, y = data.data, data.target"
      ],
      "metadata": {
        "id": "lzsLKi5XqVKH"
      },
      "execution_count": 7,
      "outputs": []
    },
    {
      "cell_type": "code",
      "source": [
        "data"
      ],
      "metadata": {
        "colab": {
          "base_uri": "https://localhost:8080/"
        },
        "id": "eLlvbj8BqWOb",
        "outputId": "ba1a104d-72d2-419f-fe53-20dc5816b493"
      },
      "execution_count": 3,
      "outputs": [
        {
          "output_type": "execute_result",
          "data": {
            "text/plain": [
              "{'data': array([[   8.3252    ,   41.        ,    6.98412698, ...,    2.55555556,\n",
              "           37.88      , -122.23      ],\n",
              "        [   8.3014    ,   21.        ,    6.23813708, ...,    2.10984183,\n",
              "           37.86      , -122.22      ],\n",
              "        [   7.2574    ,   52.        ,    8.28813559, ...,    2.80225989,\n",
              "           37.85      , -122.24      ],\n",
              "        ...,\n",
              "        [   1.7       ,   17.        ,    5.20554273, ...,    2.3256351 ,\n",
              "           39.43      , -121.22      ],\n",
              "        [   1.8672    ,   18.        ,    5.32951289, ...,    2.12320917,\n",
              "           39.43      , -121.32      ],\n",
              "        [   2.3886    ,   16.        ,    5.25471698, ...,    2.61698113,\n",
              "           39.37      , -121.24      ]]),\n",
              " 'target': array([4.526, 3.585, 3.521, ..., 0.923, 0.847, 0.894]),\n",
              " 'frame': None,\n",
              " 'target_names': ['MedHouseVal'],\n",
              " 'feature_names': ['MedInc',\n",
              "  'HouseAge',\n",
              "  'AveRooms',\n",
              "  'AveBedrms',\n",
              "  'Population',\n",
              "  'AveOccup',\n",
              "  'Latitude',\n",
              "  'Longitude'],\n",
              " 'DESCR': '.. _california_housing_dataset:\\n\\nCalifornia Housing dataset\\n--------------------------\\n\\n**Data Set Characteristics:**\\n\\n:Number of Instances: 20640\\n\\n:Number of Attributes: 8 numeric, predictive attributes and the target\\n\\n:Attribute Information:\\n    - MedInc        median income in block group\\n    - HouseAge      median house age in block group\\n    - AveRooms      average number of rooms per household\\n    - AveBedrms     average number of bedrooms per household\\n    - Population    block group population\\n    - AveOccup      average number of household members\\n    - Latitude      block group latitude\\n    - Longitude     block group longitude\\n\\n:Missing Attribute Values: None\\n\\nThis dataset was obtained from the StatLib repository.\\nhttps://www.dcc.fc.up.pt/~ltorgo/Regression/cal_housing.html\\n\\nThe target variable is the median house value for California districts,\\nexpressed in hundreds of thousands of dollars ($100,000).\\n\\nThis dataset was derived from the 1990 U.S. census, using one row per census\\nblock group. A block group is the smallest geographical unit for which the U.S.\\nCensus Bureau publishes sample data (a block group typically has a population\\nof 600 to 3,000 people).\\n\\nA household is a group of people residing within a home. Since the average\\nnumber of rooms and bedrooms in this dataset are provided per household, these\\ncolumns may take surprisingly large values for block groups with few households\\nand many empty houses, such as vacation resorts.\\n\\nIt can be downloaded/loaded using the\\n:func:`sklearn.datasets.fetch_california_housing` function.\\n\\n.. rubric:: References\\n\\n- Pace, R. Kelley and Ronald Barry, Sparse Spatial Autoregressions,\\n  Statistics and Probability Letters, 33 (1997) 291-297\\n'}"
            ]
          },
          "metadata": {},
          "execution_count": 3
        }
      ]
    },
    {
      "cell_type": "markdown",
      "source": [],
      "metadata": {
        "id": "qx-gtTWpptvA"
      }
    },
    {
      "cell_type": "code",
      "source": [
        "# 2. Preprocessing: Train/test split and normalization\n",
        "data = fetch_california_housing()\n",
        "X, y = data.data, data.target\n",
        "\n",
        "# 2. Dividir en entrenamiento y prueba + estandarizar\n",
        "X_train, X_test, y_train, y_test = train_test_split(X, y, test_size=0.2, random_state=42)"
      ],
      "metadata": {
        "id": "x4TqbDBoquXT"
      },
      "execution_count": 12,
      "outputs": []
    },
    {
      "cell_type": "markdown",
      "source": [
        "3. Llevamos a cabo la estandarización:"
      ],
      "metadata": {
        "id": "jAPWbAcUr2o1"
      }
    },
    {
      "cell_type": "code",
      "source": [
        "scaler_X = StandardScaler()\n",
        "X_train = scaler_X.fit_transform(X_train)\n",
        "X_test = scaler_X.transform(X_test)\n",
        "\n",
        "scaler_y = StandardScaler()\n",
        "y_train = scaler_y.fit_transform(y_train.reshape(-1, 1)).flatten()\n",
        "y_test = scaler_y.transform(y_test.reshape(-1, 1)).flatten()"
      ],
      "metadata": {
        "id": "X5fYMRVtrdOU"
      },
      "execution_count": 15,
      "outputs": []
    },
    {
      "cell_type": "code",
      "source": [
        "# 3. Convertir a tensores\n",
        "X_train = torch.tensor(X_train, dtype=torch.float32)\n",
        "y_train = torch.tensor(y_train, dtype=torch.float32).unsqueeze(1)\n",
        "X_test = torch.tensor(X_test, dtype=torch.float32)\n",
        "y_test = torch.tensor(y_test, dtype=torch.float32).unsqueeze(1)"
      ],
      "metadata": {
        "id": "hOP8KzX9sdID"
      },
      "execution_count": 16,
      "outputs": []
    },
    {
      "cell_type": "code",
      "source": [],
      "metadata": {
        "id": "6-V32DRKsdFU"
      },
      "execution_count": null,
      "outputs": []
    },
    {
      "cell_type": "markdown",
      "source": [
        "# Modelo de regresión líneal"
      ],
      "metadata": {
        "id": "uIQ5E63rsoJO"
      }
    },
    {
      "cell_type": "code",
      "source": [
        "# 4. Modelo de regresión lineal\n",
        "linear_model = nn.Linear(X_train.shape[1], 1)\n",
        "optimizer_lin = optim.SGD(linear_model.parameters(), lr=0.01)\n",
        "loss_fn = nn.MSELoss()"
      ],
      "metadata": {
        "id": "hbapejjvsdC6"
      },
      "execution_count": 36,
      "outputs": []
    },
    {
      "cell_type": "code",
      "source": [
        "#for epoch in range(300):\n",
        "#    preds = linear_model(X_train)\n",
        "#    loss = loss_fn(preds, y_train)\n",
        "#    optimizer_lin.zero_grad()\n",
        "#    loss.backward()\n",
        "#    optimizer_lin.step()"
      ],
      "metadata": {
        "id": "L18wDDfdsdAc"
      },
      "execution_count": 18,
      "outputs": []
    },
    {
      "cell_type": "code",
      "source": [
        "# Antes del entrenamiento\n",
        "print(\"Pesos iniciales:\", linear_model.weight)\n",
        "print(\"Bias inicial:\", linear_model.bias)"
      ],
      "metadata": {
        "colab": {
          "base_uri": "https://localhost:8080/"
        },
        "id": "VsKoA4ZAxmfg",
        "outputId": "cdc5fe33-a471-4d11-fa8d-0f788ff68ccc"
      },
      "execution_count": 37,
      "outputs": [
        {
          "output_type": "stream",
          "name": "stdout",
          "text": [
            "Pesos iniciales: Parameter containing:\n",
            "tensor([[-0.1162,  0.0745,  0.0865, -0.0882,  0.0442,  0.2063,  0.1132,  0.1785]],\n",
            "       requires_grad=True)\n",
            "Bias inicial: Parameter containing:\n",
            "tensor([-0.3463], requires_grad=True)\n"
          ]
        }
      ]
    },
    {
      "cell_type": "code",
      "source": [
        "# Lista para almacenar pérdidas del modelo lineal\n",
        "linear_losses = []\n",
        "\n",
        "for epoch in range(300):\n",
        "    preds = linear_model(X_train)\n",
        "    loss = loss_fn(preds, y_train)\n",
        "    linear_losses.append(loss.item())  # Guardar pérdida\n",
        "\n",
        "    optimizer_lin.zero_grad()\n",
        "    loss.backward()\n",
        "    optimizer_lin.step()"
      ],
      "metadata": {
        "id": "ez9F9pEHvB-U"
      },
      "execution_count": 38,
      "outputs": []
    },
    {
      "cell_type": "code",
      "source": [
        "# Después del entrenamiento (tras el bucle)\n",
        "print(\"Pesos finales:\", linear_model.weight)\n",
        "print(\"Bias final:\", linear_model.bias)"
      ],
      "metadata": {
        "colab": {
          "base_uri": "https://localhost:8080/"
        },
        "id": "y3fECP74xpRW",
        "outputId": "d278e316-d113-43d1-c29a-e72276201bb8"
      },
      "execution_count": 39,
      "outputs": [
        {
          "output_type": "stream",
          "name": "stdout",
          "text": [
            "Pesos finales: Parameter containing:\n",
            "tensor([[ 0.6771,  0.1813,  0.0167, -0.0094,  0.0224, -0.0396, -0.2210, -0.1822]],\n",
            "       requires_grad=True)\n",
            "Bias final: Parameter containing:\n",
            "tensor([-0.0008], requires_grad=True)\n"
          ]
        }
      ]
    },
    {
      "cell_type": "markdown",
      "source": [
        "# Modelo con la red neuronal"
      ],
      "metadata": {
        "id": "fwsIP36Esv_D"
      }
    },
    {
      "cell_type": "code",
      "source": [
        "X_train.shape[1]"
      ],
      "metadata": {
        "colab": {
          "base_uri": "https://localhost:8080/"
        },
        "id": "4b2FP2lWsc-K",
        "outputId": "4399f5c7-d333-4878-e94f-7a303beb06d9"
      },
      "execution_count": 20,
      "outputs": [
        {
          "output_type": "execute_result",
          "data": {
            "text/plain": [
              "8"
            ]
          },
          "metadata": {},
          "execution_count": 20
        }
      ]
    },
    {
      "cell_type": "code",
      "source": [
        "# 5. Modelo de red neuronal con ReLU\n",
        "class NeuralNet(nn.Module):\n",
        "    def __init__(self):\n",
        "        super().__init__()\n",
        "        self.net = nn.Sequential(\n",
        "            nn.Linear(X_train.shape[1], 64),\n",
        "            nn.ReLU(),\n",
        "            nn.Linear(64, 32),\n",
        "            nn.ReLU(),\n",
        "            nn.Linear(32, 1)\n",
        "        )\n",
        "\n",
        "    def forward(self, x):\n",
        "        return self.net(x)"
      ],
      "metadata": {
        "id": "TaYlsO6YtCrY"
      },
      "execution_count": 21,
      "outputs": []
    },
    {
      "cell_type": "code",
      "source": [
        "nn_model = NeuralNet()\n",
        "optimizer_nn = optim.Adam(nn_model.parameters(), lr=0.01)"
      ],
      "metadata": {
        "id": "l99OJ_SPtD62"
      },
      "execution_count": 22,
      "outputs": []
    },
    {
      "cell_type": "code",
      "source": [
        "# Lista para almacenar pérdidas de la red neuronal\n",
        "nn_losses = []\n",
        "\n",
        "for epoch in range(1000):\n",
        "    preds = nn_model(X_train)\n",
        "    loss = loss_fn(preds, y_train)\n",
        "    nn_losses.append(loss.item())  # Guardar pérdida\n",
        "\n",
        "    optimizer_nn.zero_grad()\n",
        "    loss.backward()\n",
        "    optimizer_nn.step()\n",
        "\n",
        "# 6. Evaluación con y en su escala original\n",
        "with torch.no_grad():\n",
        "    y_pred_lin = linear_model(X_test).numpy()\n",
        "    y_pred_nn = nn_model(X_test).numpy()\n",
        "    y_test_np = y_test.numpy()\n"
      ],
      "metadata": {
        "id": "-4XhvXFZtPry"
      },
      "execution_count": 30,
      "outputs": []
    },
    {
      "cell_type": "code",
      "source": [
        "    # Inversión de la escala\n",
        "    y_pred_lin_orig = scaler_y.inverse_transform(y_pred_lin)\n",
        "    y_pred_nn_orig = scaler_y.inverse_transform(y_pred_nn)\n",
        "    y_test_orig = scaler_y.inverse_transform(y_test_np)"
      ],
      "metadata": {
        "id": "Jp7C08Nrsc7r"
      },
      "execution_count": 24,
      "outputs": []
    },
    {
      "cell_type": "code",
      "source": [
        "with torch.no_grad():\n",
        "    y_pred_lin = linear_model(X_test).numpy()\n",
        "    y_pred_nn = nn_model(X_test).numpy()\n",
        "    y_test_np = y_test.numpy()\n",
        "\n",
        "    # Inversión de la escala\n",
        "    y_pred_lin_orig = scaler_y.inverse_transform(y_pred_lin)\n",
        "    y_pred_nn_orig = scaler_y.inverse_transform(y_pred_nn)\n",
        "    y_test_orig = scaler_y.inverse_transform(y_test_np)\n",
        "\n",
        "    # Métricas\n",
        "    def report_metrics(name, y_true, y_pred):\n",
        "        print(f\"{name}:\")\n",
        "        print(f\"  MSE : {mean_squared_error(y_true, y_pred):.4f}\")\n",
        "        print(f\"  MAE : {mean_absolute_error(y_true, y_pred):.4f}\")\n",
        "        print(f\"  R²  : {r2_score(y_true, y_pred):.4f}\\n\")\n",
        "\n",
        "    report_metrics(\"Linear Regression\", y_test_orig, y_pred_lin_orig)\n",
        "    report_metrics(\"Neural Network\", y_test_orig, y_pred_nn_orig)\n"
      ],
      "metadata": {
        "colab": {
          "base_uri": "https://localhost:8080/"
        },
        "id": "1jXLJVY4tdda",
        "outputId": "38895adc-805a-456b-9678-3de019104253"
      },
      "execution_count": 26,
      "outputs": [
        {
          "output_type": "stream",
          "name": "stdout",
          "text": [
            "Linear Regression:\n",
            "  MSE : 0.5760\n",
            "  MAE : 0.5553\n",
            "  R²  : 0.5605\n",
            "\n",
            "Neural Network:\n",
            "  MSE : 0.2722\n",
            "  MAE : 0.3636\n",
            "  R²  : 0.7923\n",
            "\n"
          ]
        }
      ]
    },
    {
      "cell_type": "code",
      "source": [
        "import numpy as np\n",
        "np.mean(y_test_orig)"
      ],
      "metadata": {
        "colab": {
          "base_uri": "https://localhost:8080/"
        },
        "id": "kJRGSIHA2F-9",
        "outputId": "53e7e2e1-33ef-4fdb-e565-2896d7ea04fe"
      },
      "execution_count": 56,
      "outputs": [
        {
          "output_type": "execute_result",
          "data": {
            "text/plain": [
              "np.float32(2.0550032)"
            ]
          },
          "metadata": {},
          "execution_count": 56
        }
      ]
    },
    {
      "cell_type": "code",
      "source": [
        "# 7. Graficar pérdidas durante el entrenamiento\n",
        "plt.figure(figsize=(12, 5))\n",
        "\n",
        "# Gráfica para el modelo lineal\n",
        "plt.subplot(1, 2, 1)\n",
        "plt.plot(linear_losses)\n",
        "plt.title(\"Pérdida durante el entrenamiento (Regresión Lineal)\")\n",
        "plt.xlabel(\"Época\")\n",
        "plt.ylabel(\"MSE (normalizado)\")\n",
        "plt.grid(True)\n",
        "\n",
        "# Gráfica para la red neuronal\n",
        "plt.subplot(1, 2, 2)\n",
        "plt.plot(nn_losses)\n",
        "plt.title(\"Pérdida durante el entrenamiento (Red Neuronal)\")\n",
        "plt.xlabel(\"Época\")\n",
        "plt.ylabel(\"MSE (normalizado)\")\n",
        "plt.grid(True)\n",
        "\n",
        "plt.tight_layout()\n",
        "plt.show()"
      ],
      "metadata": {
        "colab": {
          "base_uri": "https://localhost:8080/",
          "height": 507
        },
        "id": "_qdIHEihsc0H",
        "outputId": "b74ae141-d8fc-47dd-e19c-416a76088be0"
      },
      "execution_count": 33,
      "outputs": [
        {
          "output_type": "display_data",
          "data": {
            "text/plain": [
              "<Figure size 1200x500 with 2 Axes>"
            ],
            "image/png": "[encoded data removed]"
          },
          "metadata": {}
        }
      ]
    },
    {
      "cell_type": "markdown",
      "source": [
        "En la misma escala"
      ],
      "metadata": {
        "id": "XSrAHTFRvk5h"
      }
    },
    {
      "cell_type": "code",
      "source": [
        "# 7. Graficar pérdidas durante el entrenamiento\n",
        "plt.figure(figsize=(12, 5))\n",
        "\n",
        "# Encontrar los límites comunes para el eje Y\n",
        "y_min = min(min(linear_losses), min(nn_losses))\n",
        "y_max = max(max(linear_losses), max(nn_losses))\n",
        "\n",
        "# Gráfica para el modelo lineal\n",
        "plt.subplot(1, 2, 1)\n",
        "plt.plot(linear_losses)\n",
        "plt.title(\"Pérdida durante el entrenamiento (Regresión Lineal)\")\n",
        "plt.xlabel(\"Época\")\n",
        "plt.ylabel(\"MSE (normalizado)\")\n",
        "plt.ylim(y_min, y_max)  # Misma escala que la red neuronal\n",
        "plt.grid(True)\n",
        "\n",
        "# Gráfica para la red neuronal\n",
        "plt.subplot(1, 2, 2)\n",
        "plt.plot(nn_losses)\n",
        "plt.title(\"Pérdida durante el entrenamiento (Red Neuronal)\")\n",
        "plt.xlabel(\"Época\")\n",
        "plt.ylabel(\"MSE (normalizado)\")\n",
        "plt.ylim(y_min, y_max)  # Misma escala que la regresión lineal\n",
        "plt.grid(True)\n",
        "\n",
        "plt.tight_layout()\n",
        "plt.show()"
      ],
      "metadata": {
        "colab": {
          "base_uri": "https://localhost:8080/",
          "height": 507
        },
        "id": "AYH6WCBescxa",
        "outputId": "c6acb9c9-2963-4ec1-927f-b4174a1b8dcc"
      },
      "execution_count": 34,
      "outputs": [
        {
          "output_type": "display_data",
          "data": {
            "text/plain": [
              "<Figure size 1200x500 with 2 Axes>"
            ],
            "image/png": "[encoded data removed]"
          },
          "metadata": {}
        }
      ]
    },
    {
      "cell_type": "markdown",
      "source": [
        "# Guardar el archivo"
      ],
      "metadata": {
        "id": "oPNe0GFjw71E"
      }
    },
    {
      "cell_type": "code",
      "source": [
        "# Guardar ambos modelos (regresión lineal y red neuronal)\n",
        "torch.save(linear_model.state_dict(), 'linear_model.pth')\n",
        "torch.save(nn_model.state_dict(), 'neural_net.pth')\n",
        "\n",
        "# Opcional: Guardar también los scalers para poder preprocesar nuevos datos\n",
        "import joblib\n",
        "joblib.dump(scaler_X, 'scaler_X.save')\n",
        "joblib.dump(scaler_y, 'scaler_y.save')"
      ],
      "metadata": {
        "colab": {
          "base_uri": "https://localhost:8080/"
        },
        "id": "gknT8NX0scut",
        "outputId": "a15b7f8c-4cfa-4a12-f769-1212ce492353"
      },
      "execution_count": 40,
      "outputs": [
        {
          "output_type": "execute_result",
          "data": {
            "text/plain": [
              "['scaler_y.save']"
            ]
          },
          "metadata": {},
          "execution_count": 40
        }
      ]
    },
    {
      "cell_type": "code",
      "source": [],
      "metadata": {
        "id": "hKCvr4gDw5bs"
      },
      "execution_count": null,
      "outputs": []
    },
    {
      "cell_type": "code",
      "source": [
        "# Cargar los modelos (ejemplo en un nuevo script)\n",
        "linear_model_loaded = nn.Linear(X_train.shape[1], 1)\n",
        "linear_model_loaded.load_state_dict(torch.load('linear_model.pth'))\n",
        "linear_model_loaded.eval()  # Modo evaluación\n",
        "\n",
        "nn_model_loaded = NeuralNet()  # Asegúrate de tener la clase NeuralNet definida\n",
        "nn_model_loaded.load_state_dict(torch.load('neural_net.pth'))\n",
        "nn_model_loaded.eval()\n",
        "\n",
        "# Cargar los scalers\n",
        "scaler_X_loaded = joblib.load('scaler_X.save')\n",
        "scaler_y_loaded = joblib.load('scaler_y.save')\n",
        "\n",
        "# Ejemplo con la primera fila de X_test (nuevos datos deben tener la misma estructura)\n",
        "new_data = X_test[0:1]  # Primera fila (mantener dimensión 2D)\n",
        "\n",
        "# Preprocesar los nuevos datos\n",
        "new_data_scaled = scaler_X_loaded.transform(new_data.numpy())\n",
        "\n",
        "# Convertir a tensor\n",
        "new_data_tensor = torch.tensor(new_data_scaled, dtype=torch.float32)\n"
      ],
      "metadata": {
        "id": "gzFtXZR8w5Yn"
      },
      "execution_count": 42,
      "outputs": []
    },
    {
      "cell_type": "code",
      "source": [
        "# Hacer predicciones\n",
        "with torch.no_grad():\n",
        "    pred_lin = linear_model_loaded(new_data_tensor)\n",
        "    pred_nn = nn_model_loaded(new_data_tensor)\n",
        "\n",
        "    # Llevar las predicciones a la escala original\n",
        "    pred_lin_orig = scaler_y_loaded.inverse_transform(pred_lin.numpy())\n",
        "    pred_nn_orig = scaler_y_loaded.inverse_transform(pred_nn.numpy())\n",
        "\n",
        "print(f\"Predicción Regresión Lineal: {pred_lin_orig[0][0]:.2f}\")\n",
        "print(f\"Predicción Red Neuronal: {pred_nn_orig[0][0]:.2f}\")"
      ],
      "metadata": {
        "colab": {
          "base_uri": "https://localhost:8080/"
        },
        "id": "I5tlF1efw5Vk",
        "outputId": "aabbd848-6a35-4983-d3a5-c55aa92f7e6d"
      },
      "execution_count": 43,
      "outputs": [
        {
          "output_type": "stream",
          "name": "stdout",
          "text": [
            "Predicción Regresión Lineal: -8.87\n",
            "Predicción Red Neuronal: 5.14\n"
          ]
        }
      ]
    },
    {
      "cell_type": "code",
      "source": [
        "y_test[0]"
      ],
      "metadata": {
        "colab": {
          "base_uri": "https://localhost:8080/"
        },
        "id": "EOZWRrH4w5S4",
        "outputId": "cda23599-7f3c-4924-8cd3-2473923eeaa5"
      },
      "execution_count": 44,
      "outputs": [
        {
          "output_type": "execute_result",
          "data": {
            "text/plain": [
              "tensor([-1.3795])"
            ]
          },
          "metadata": {},
          "execution_count": 44
        }
      ]
    },
    {
      "cell_type": "code",
      "source": [],
      "metadata": {
        "colab": {
          "base_uri": "https://localhost:8080/"
        },
        "id": "u1Ng-wam1X8q",
        "outputId": "5d27a612-86ae-4703-cbe5-656bfb4f365f"
      },
      "execution_count": 49,
      "outputs": [
        {
          "output_type": "execute_result",
          "data": {
            "text/plain": [
              "array([-1.3794837], dtype=float32)"
            ]
          },
          "metadata": {},
          "execution_count": 49
        }
      ]
    },
    {
      "cell_type": "code",
      "source": [
        "scaler_y.inverse_transform(y_test.numpy())[0]"
      ],
      "metadata": {
        "colab": {
          "base_uri": "https://localhost:8080/"
        },
        "id": "4B43qDGgscsB",
        "outputId": "cb1817a2-407c-4b1e-9ff3-009b177f1a31"
      },
      "execution_count": 52,
      "outputs": [
        {
          "output_type": "execute_result",
          "data": {
            "text/plain": [
              "array([0.47699997], dtype=float32)"
            ]
          },
          "metadata": {},
          "execution_count": 52
        }
      ]
    },
    {
      "cell_type": "code",
      "source": [],
      "metadata": {
        "id": "CGeYVSwtscoy"
      },
      "execution_count": null,
      "outputs": []
    },
    {
      "cell_type": "code",
      "source": [],
      "metadata": {
        "id": "wAK29alfsclh"
      },
      "execution_count": null,
      "outputs": []
    },
    {
      "cell_type": "code",
      "source": [],
      "metadata": {
        "id": "wUro83_Xscim"
      },
      "execution_count": null,
      "outputs": []
    },
    {
      "cell_type": "code",
      "source": [],
      "metadata": {
        "id": "J_h6L0yRscfe"
      },
      "execution_count": null,
      "outputs": []
    },
    {
      "cell_type": "code",
      "source": [],
      "metadata": {
        "id": "KWfiwVTLscbs"
      },
      "execution_count": null,
      "outputs": []
    },
    {
      "cell_type": "code",
      "source": [
        "# 3. Convertir a tensores\n",
        "X_train = torch.tensor(X_train, dtype=torch.float32)\n",
        "y_train = torch.tensor(y_train, dtype=torch.float32).unsqueeze(1)\n",
        "X_test = torch.tensor(X_test, dtype=torch.float32)\n",
        "y_test = torch.tensor(y_test, dtype=torch.float32).unsqueeze(1)"
      ],
      "metadata": {
        "id": "A7xpxwp9sKgE"
      },
      "execution_count": 14,
      "outputs": []
    },
    {
      "cell_type": "code",
      "source": [],
      "metadata": {
        "id": "IKuS539csLFW"
      },
      "execution_count": null,
      "outputs": []
    },
    {
      "cell_type": "code",
      "source": [],
      "metadata": {
        "id": "AKuUzTYFsKXN"
      },
      "execution_count": null,
      "outputs": []
    },
    {
      "cell_type": "code",
      "source": [
        "\n",
        "# 1. Cargar dataset\n",
        "data = fetch_california_housing()\n",
        "X, y = data.data, data.target\n",
        "\n",
        "# 2. Dividir en entrenamiento y prueba + estandarizar\n",
        "X_train, X_test, y_train, y_test = train_test_split(X, y, test_size=0.2, random_state=42)\n",
        "\n",
        "\n",
        "\n",
        "\n",
        "\n",
        "# 3. Convertir a tensores\n",
        "X_train = torch.tensor(X_train, dtype=torch.float32)\n",
        "y_train = torch.tensor(y_train, dtype=torch.float32).unsqueeze(1)\n",
        "X_test = torch.tensor(X_test, dtype=torch.float32)\n",
        "y_test = torch.tensor(y_test, dtype=torch.float32).unsqueeze(1)\n",
        "\n",
        "# 4. Modelo de regresión lineal\n",
        "linear_model = nn.Linear(X_train.shape[1], 1)\n",
        "optimizer_lin = optim.SGD(linear_model.parameters(), lr=0.01)\n",
        "loss_fn = nn.MSELoss()\n",
        "\n",
        "for epoch in range(300):\n",
        "    preds = linear_model(X_train)\n",
        "    loss = loss_fn(preds, y_train)\n",
        "    optimizer_lin.zero_grad()\n",
        "    loss.backward()\n",
        "    optimizer_lin.step()\n",
        "\n",
        "# 5. Modelo de red neuronal con ReLU\n",
        "class NeuralNet(nn.Module):\n",
        "    def __init__(self):\n",
        "        super().__init__()\n",
        "        self.net = nn.Sequential(\n",
        "            nn.Linear(X_train.shape[1], 64),\n",
        "            nn.ReLU(),\n",
        "            nn.Linear(64, 32),\n",
        "            nn.ReLU(),\n",
        "            nn.Linear(32, 1)\n",
        "        )\n",
        "\n",
        "    def forward(self, x):\n",
        "        return self.net(x)\n",
        "\n",
        "nn_model = NeuralNet()\n",
        "optimizer_nn = optim.Adam(nn_model.parameters(), lr=0.01)\n",
        "\n",
        "losses = []\n",
        "for epoch in range(1000):\n",
        "    preds = nn_model(X_train)\n",
        "    loss = loss_fn(preds, y_train)\n",
        "    losses.append(loss.item())\n",
        "    optimizer_nn.zero_grad()\n",
        "    loss.backward()\n",
        "    optimizer_nn.step()\n",
        "\n",
        "# 6. Evaluación con y en su escala original\n",
        "with torch.no_grad():\n",
        "    y_pred_lin = linear_model(X_test).numpy()\n",
        "    y_pred_nn = nn_model(X_test).numpy()\n",
        "    y_test_np = y_test.numpy()\n",
        "\n",
        "    # Inversión de la escala\n",
        "    y_pred_lin_orig = scaler_y.inverse_transform(y_pred_lin)\n",
        "    y_pred_nn_orig = scaler_y.inverse_transform(y_pred_nn)\n",
        "    y_test_orig = scaler_y.inverse_transform(y_test_np)\n",
        "\n",
        "    # Métricas\n",
        "    def report_metrics(name, y_true, y_pred):\n",
        "        print(f\"{name}:\")\n",
        "        print(f\"  MSE : {mean_squared_error(y_true, y_pred):.4f}\")\n",
        "        print(f\"  MAE : {mean_absolute_error(y_true, y_pred):.4f}\")\n",
        "        print(f\"  R²  : {r2_score(y_true, y_pred):.4f}\\n\")\n",
        "\n",
        "    report_metrics(\"Linear Regression\", y_test_orig, y_pred_lin_orig)\n",
        "    report_metrics(\"Neural Network\", y_test_orig, y_pred_nn_orig)\n",
        "\n",
        "# 7. Graficar pérdida de la red neuronal\n",
        "plt.plot(losses)\n",
        "plt.title(\"Pérdida durante el entrenamiento (Neural Network)\")\n",
        "plt.xlabel(\"Época\")\n",
        "plt.ylabel(\"MSE (normalizado)\")\n",
        "plt.grid(True)\n",
        "plt.show()\n"
      ],
      "metadata": {
        "id": "DP8eysoHrXw-"
      },
      "execution_count": null,
      "outputs": []
    },
    {
      "cell_type": "code",
      "source": [],
      "metadata": {
        "id": "lS3EDqvurXmn"
      },
      "execution_count": null,
      "outputs": []
    },
    {
      "cell_type": "code",
      "source": [],
      "metadata": {
        "id": "qsbyvQuDrYl7"
      },
      "execution_count": null,
      "outputs": []
    },
    {
      "cell_type": "code",
      "execution_count": null,
      "metadata": {
        "id": "6qB8G2xgotIh"
      },
      "outputs": [],
      "source": [
        "\n",
        "scaler_X = StandardScaler()\n",
        "X_train = scaler_X.fit_transform(X_train)\n",
        "X_test = scaler_X.transform(X_test)\n",
        "\n",
        "scaler_y = StandardScaler()\n",
        "y_train = scaler_y.fit_transform(y_train.reshape(-1, 1)).flatten()\n",
        "y_test = scaler_y.transform(y_test.reshape(-1, 1)).flatten()\n",
        "\n",
        "X_train = torch.tensor(X_train, dtype=torch.float32)\n",
        "y_train = torch.tensor(y_train, dtype=torch.float32).unsqueeze(1)\n",
        "X_test = torch.tensor(X_test, dtype=torch.float32)\n",
        "y_test = torch.tensor(y_test, dtype=torch.float32).unsqueeze(1)\n",
        "\n",
        "# 3. Linear regression model\n",
        "linear_model = nn.Linear(X_train.shape[1], 1)\n",
        "optimizer_lin = optim.SGD(linear_model.parameters(), lr=0.01)\n",
        "loss_fn = nn.MSELoss()\n",
        "\n",
        "# Train linear model\n",
        "for epoch in range(300):\n",
        "    preds = linear_model(X_train)\n",
        "    loss = loss_fn(preds, y_train)\n",
        "    optimizer_lin.zero_grad()\n",
        "    loss.backward()\n",
        "    optimizer_lin.step()\n",
        "\n",
        "# 4. Neural Network with ReLU\n",
        "class NeuralNet(nn.Module):\n",
        "    def __init__(self):\n",
        "        super().__init__()\n",
        "        self.net = nn.Sequential(\n",
        "            nn.Linear(X_train.shape[1], 64),\n",
        "            nn.ReLU(),\n",
        "            nn.Linear(64, 32),\n",
        "            nn.ReLU(),\n",
        "            nn.Linear(32, 1)\n",
        "        )\n",
        "\n",
        "    def forward(self, x):\n",
        "        return self.net(x)\n",
        "\n",
        "nn_model = NeuralNet()\n",
        "optimizer_nn = optim.Adam(nn_model.parameters(), lr=0.01)\n",
        "\n",
        "# Train NN\n",
        "losses = []\n",
        "for epoch in range(1000):\n",
        "    preds = nn_model(X_train)\n",
        "    loss = loss_fn(preds, y_train)\n",
        "    losses.append(loss.item())\n",
        "    optimizer_nn.zero_grad()\n",
        "    loss.backward()\n",
        "    optimizer_nn.step()\n",
        "\n",
        "# 5. Evaluate models\n",
        "with torch.no_grad():\n",
        "    y_pred_lin = linear_model(X_test)\n",
        "    y_pred_nn = nn_model(X_test)\n",
        "\n",
        "    mse_lin = loss_fn(y_pred_lin, y_test).item()\n",
        "    mse_nn = loss_fn(y_pred_nn, y_test).item()\n",
        "\n",
        "print(f\"Test MSE (Linear Regression): {mse_lin:.4f}\")\n",
        "print(f\"Test MSE (Neural Network):    {mse_nn:.4f}\")\n",
        "\n",
        "# 6. Optional: Plot losses\n",
        "plt.plot(losses)\n",
        "plt.title(\"Neural Network Training Loss\")\n",
        "plt.xlabel(\"Epoch\")\n",
        "plt.ylabel(\"MSE Loss\")\n",
        "plt.grid(True)\n",
        "plt.show()\n"
      ]
    }
  ]
}